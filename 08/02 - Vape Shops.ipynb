{
 "cells": [
  {
   "cell_type": "markdown",
   "metadata": {},
   "source": [
    "# Scraping Maryland Business Licenses with Selenium\n",
    "\n",
    "Maryland has a [great portal](https://jportal.mdcourts.gov/license/pbPublicSearch.jsp) for searching business licenses, but the only problem is you have to check a box in order to get in.\n",
    "\n",
    "1. Try to visit [the public search page](https://jportal.mdcourts.gov/license/pbPublicSearch.jsp)\n",
    "2. Get redirected to a \"I agree to this\" page. Click that you've read the disclaimer, click Enter the Site.\n",
    "3. Click \"Search License Records\" down at the bottom of the page\n",
    "4. You're now on the search page! From the \"Jurisdiction\" dropdown, select \"Statewide\"\n",
    "5. In the \"Trade Name\" field, type \"Vap%\" to try to find vape shops\n",
    "6. Click \"Next\" in the bottom right-hand corner to go to the next page\n",
    "7. Click \"Click for detail\" to see the details for a specific business license.\n",
    "\n",
    "That's a lot of stuff! **Let's get to work.**"
   ]
  },
  {
   "cell_type": "markdown",
   "metadata": {},
   "source": [
    "## Import what you need"
   ]
  },
  {
   "cell_type": "code",
   "execution_count": 1,
   "metadata": {},
   "outputs": [],
   "source": [
    "import pandas as pd\n",
    "import time\n",
    "import numpy as np\n",
    "from selenium import webdriver\n",
    "from selenium.webdriver.common.keys import Keys\n",
    "from selenium.webdriver.support.ui import Select\n",
    "from selenium.webdriver.support.ui import WebDriverWait"
   ]
  },
  {
   "cell_type": "markdown",
   "metadata": {},
   "source": [
    "## Preparation\n",
    "\n",
    "### When you search for a business license, what URL should Selenium try to visit first?"
   ]
  },
  {
   "cell_type": "code",
   "execution_count": 2,
   "metadata": {},
   "outputs": [],
   "source": [
    "driver = webdriver.Chrome()\n",
    "driver.get('https://jportal.mdcourts.gov/license/pbPublicSearch.jsp')"
   ]
  },
  {
   "cell_type": "code",
   "execution_count": null,
   "metadata": {},
   "outputs": [],
   "source": []
  },
  {
   "cell_type": "markdown",
   "metadata": {},
   "source": [
    "**It isn't going to work, though! It's going to redirect to that intro page.** You can use *Incognito mode* to go back through the \"Check the box, etc\" series of pages, or you can close and re-open Chrome.\n",
    "\n",
    "- Check the checkbox, then submit the form to accept their terms of service\n",
    "\n",
    "Selenium can submit forms by either\n",
    "\n",
    "- Selecting the form and using `.submit()`, or\n",
    "- Selecting the button and using `.click()`\n",
    "\n",
    "You only need to be able to get **one, not both.**\n",
    "\n",
    "- *TIP: if something doesn't have anything special about it, xpath might be your best bet*"
   ]
  },
  {
   "cell_type": "code",
   "execution_count": 3,
   "metadata": {},
   "outputs": [],
   "source": [
    "# Sure, I read the Disclaimer:\n",
    "if 'Disclaimer' in driver.find_element_by_tag_name('body').text:\n",
    "    driver.find_element_by_id('checkbox').click()\n",
    "    driver.find_element_by_id('checkbox').send_keys(Keys.RETURN)\n",
    "    driver.get('https://jportal.mdcourts.gov/license/pbPublicSearch.jsp')"
   ]
  },
  {
   "cell_type": "markdown",
   "metadata": {},
   "source": [
    "Now click the **Search License Records** link up top in the navigation to get to the search page.\n",
    "\n",
    "- *TIP: Honestly you could also just visit the URL directly now since you filled out that terms of service thing*"
   ]
  },
  {
   "cell_type": "code",
   "execution_count": 4,
   "metadata": {},
   "outputs": [],
   "source": [
    "# Should be there already, but why not\n",
    "driver.find_element_by_xpath('/html/body/table[1]/tbody/tr[2]/td[2]/table/tbody/tr/td[3]/a/img').click()"
   ]
  },
  {
   "cell_type": "code",
   "execution_count": null,
   "metadata": {},
   "outputs": [],
   "source": []
  },
  {
   "cell_type": "markdown",
   "metadata": {},
   "source": [
    "### Perform your search\n",
    "\n",
    "Pick \"Statewide\" for the jurisdiction dropdown, and `VAP%` into the Trade Name field. The `%` is a wildcard."
   ]
  },
  {
   "cell_type": "code",
   "execution_count": 5,
   "metadata": {},
   "outputs": [],
   "source": [
    "# slcJurisdiction is the driodown id\n",
    "state = Select(driver.find_element_by_id('slcJurisdiction'))\n",
    "state.select_by_visible_text('Statewide')"
   ]
  },
  {
   "cell_type": "code",
   "execution_count": 6,
   "metadata": {},
   "outputs": [],
   "source": [
    "# txtTradeName\n",
    "trade = driver.find_element_by_id('txtTradeName')\n",
    "trade.send_keys('VAP%')\n"
   ]
  },
  {
   "cell_type": "markdown",
   "metadata": {},
   "source": [
    "And now, of course, **submit the form**.\n",
    "\n",
    "- *TIP: Since scrolling to buttons can be a pain, sometimes it's easier to select the form and use `.submit()` instead of `.click()`ing the button*"
   ]
  },
  {
   "cell_type": "code",
   "execution_count": 7,
   "metadata": {},
   "outputs": [],
   "source": [
    "# This is lazy but works fine\n",
    "trade.send_keys(Keys.RETURN)"
   ]
  },
  {
   "cell_type": "markdown",
   "metadata": {},
   "source": [
    "## (Try to) scrape the results\n",
    "\n",
    "Let's start by just **printing this stuff**. We'll save it as a dataframe later on.\n",
    "\n",
    "For now, just scrape **each store's name**, then cry a little. Fact: this is an impossible and miserable page. "
   ]
  },
  {
   "cell_type": "code",
   "execution_count": 8,
   "metadata": {},
   "outputs": [
    {
     "name": "stdout",
     "output_type": "stream",
     "text": [
      "VAPE IT STORE II\n",
      "VAPE IT STORE I\n",
      "VAPEPAD THE\n",
      "VAPE FROG\n",
      "VAPE FROG\n"
     ]
    }
   ],
   "source": [
    "all_names = driver.find_elements_by_class_name('searchfieldtitle')\n",
    "for name in all_names:\n",
    "    print(name.find_element_by_tag_name('span').text)"
   ]
  },
  {
   "cell_type": "markdown",
   "metadata": {},
   "source": [
    "To avoid struggling with the search results page, we're going to use the **detail page** instead. Try to figure out how to select it and click it inside of your `for` loop.\n",
    "\n",
    "- *TIP: Instead of just looking for an `a` or an `img`, you might want to look for one of its parents first, then click. This might affect the way you print out the shop's name, too*\n",
    "- *TIP: Not all of them have links! You can wrap in try/except to skip it, or you can check to see if the shop's status is Pending.*"
   ]
  },
  {
   "cell_type": "code",
   "execution_count": null,
   "metadata": {},
   "outputs": [],
   "source": []
  },
  {
   "cell_type": "markdown",
   "metadata": {
    "collapsed": true
   },
   "source": [
    "Okay, now let's get to action. For each result, **click the link to the detail page** and print out the following information:\n",
    "\n",
    "- Mailing address\n",
    "- Location address\n",
    "- License information (you can keep it as one field)\n",
    "- Total amount paid\n",
    "- Issued by\n",
    "- If you're feeling crazy, get the licenses, too.\n",
    "\n",
    "If it doesn't have a detail page, just print out the name and that's all we need.\n",
    "\n",
    "- *TIP: When you're done getting the information, you probably want to click back to the search results*\n",
    "- *TIP: You might enjoy `find_element_by_partial_link_text` to do that*\n",
    "- *TIP: Licenses can be acquired by doing some really odd list slicing - think about where it starts and where it ends, relative to the beginning and end of everything.*\n",
    "\n",
    "> **IMPORTANT NOTE:** This is doomed. It's useful to do, but your current process is doomed. Once you get a `stale element reference` error move on to the next cell."
   ]
  },
  {
   "cell_type": "code",
   "execution_count": 9,
   "metadata": {},
   "outputs": [],
   "source": [
    "# comment/remove this cell to run from beginning to end w/o breaking\n",
    "# find all detail links\n",
    "detail_urls = driver.find_element_by_xpath('/html/body/table[2]/tbody/tr[4]/td[2]/table[1]').find_elements_by_tag_name('a')\n",
    "all_shops_info = []\n",
    "for n in list(range(0, (len(detail_urls)+1))):\n",
    "    # Click the nth link, where n is a list from 0 to the length of all links (+1, because range counts like this)\n",
    "    detail_urls[n].click()\n",
    "    # find the tables that contain \"License Details\" and put them in one list for easier access\n",
    "    detail_tables = [table for table in driver.find_elements_by_tag_name('table') if \"License Details\" in table.get_attribute('Summary')]\n",
    "    detail_tds = []\n",
    "    for table in detail_tables:\n",
    "        detail_tds = detail_tds + table.find_elements_by_tag_name('td')\n",
    "    # put info into dict\n",
    "    shop_info = {\n",
    "        'mail_addr' : detail_tds[1].text,\n",
    "        'location_addr' : detail_tds[3].text,\n",
    "        'total_paid' : detail_tds[-2].text,\n",
    "        'issued_by' : detail_tds[-1].text,\n",
    "        'license_info' : detail_tds[2].text\n",
    "    }\n",
    "    # add info to the list of dicts, return to result page\n",
    "    all_shops_info.append(shop_info)\n",
    "    # It is not necessary to go back to results, though, as I take the links from a list...\n",
    "    driver.find_element_by_partial_link_text('Return to List').click()\n",
    "\n",
    "       "
   ]
  },
  {
   "cell_type": "markdown",
   "metadata": {},
   "source": [
    "### Stale message reference\n",
    "\n",
    "Once you navigate away from a page, and you go back to it, you can't use the variables from the first time you were on the page. So, we got a list of results when we first visited, clicked to the details page, clicked back, and now our original list is \"stale.\"\n",
    "\n",
    "This is sad.\n",
    "\n",
    "Let's try this again: loop through the results and create a dataframe with `name` and `url` columns. And yes, some of them won't have URLs."
   ]
  },
  {
   "cell_type": "code",
   "execution_count": 10,
   "metadata": {},
   "outputs": [],
   "source": [
    "# first navigate there again\n",
    "driver = webdriver.Chrome()\n",
    "driver.get('https://jportal.mdcourts.gov/license/pbPublicSearch.jsp')\n",
    "if 'Disclaimer' in driver.find_element_by_tag_name('body').text:\n",
    "    driver.find_element_by_id('checkbox').click()\n",
    "    driver.find_element_by_id('checkbox').send_keys(Keys.RETURN)\n",
    "    driver.get('https://jportal.mdcourts.gov/license/pbPublicSearch.jsp')\n",
    "state = Select(driver.find_element_by_id('slcJurisdiction'))\n",
    "state.select_by_visible_text('Statewide')\n",
    "trade = driver.find_element_by_id('txtTradeName')\n",
    "trade.send_keys('VAP%')\n",
    "trade.send_keys(Keys.RETURN)"
   ]
  },
  {
   "cell_type": "code",
   "execution_count": 11,
   "metadata": {},
   "outputs": [
    {
     "data": {
      "text/plain": [
       "[{'name': 'VAPE IT STORE II',\n",
       "  'url': 'https://jportal.mdcourts.gov/license/pbLicenseDetail.jsp?owi=3QQh8xJxJfk%3D'},\n",
       " {'name': 'VAPE IT STORE I',\n",
       "  'url': 'https://jportal.mdcourts.gov/license/pbLicenseDetail.jsp?owi=F95H2GIIu0Y%3D'},\n",
       " {'name': 'VAPEPAD THE',\n",
       "  'url': 'https://jportal.mdcourts.gov/license/pbLicenseDetail.jsp?owi=6hDn2RW%2FbcE%3D'},\n",
       " {'name': 'VAPE FROG', 'url': nan},\n",
       " {'name': 'VAPE FROG', 'url': nan}]"
      ]
     },
     "execution_count": 11,
     "metadata": {},
     "output_type": "execute_result"
    }
   ],
   "source": [
    "all_shops = []\n",
    "page_names = driver.find_elements_by_class_name('searchfieldtitle')\n",
    "for name in page_names:\n",
    "    this_shop = {}\n",
    "    this_shop['name'] = name.find_element_by_tag_name('span').text\n",
    "    try:\n",
    "        this_shop['url'] = name.find_element_by_tag_name('a').get_attribute('href')\n",
    "    except:\n",
    "        this_shop['url'] = np.nan\n",
    "    all_shops.append(this_shop)\n",
    "all_shops"
   ]
  },
  {
   "cell_type": "markdown",
   "metadata": {},
   "source": [
    "### Getting all of the results\n",
    "\n",
    "After you've looped through the results on one page, we're going to want to go to the next page! Add a line to make it click the 'Next' button down at the bottom\n",
    "\n",
    "- *Tip: `find_element_by_partial_link_text` will be your friend*\n",
    "- *Tip: You might need to do the scrolling thing to get it onto the screen (and by that I mean, you WILL need to, so you should)*\n",
    "\n",
    "Confirm that it moves to the next page (it doesn't need to scrape anything yet)"
   ]
  },
  {
   "cell_type": "code",
   "execution_count": 12,
   "metadata": {},
   "outputs": [],
   "source": [
    "try:\n",
    "    while True:\n",
    "        page_names = driver.find_elements_by_class_name('searchfieldtitle')\n",
    "        for name in page_names:\n",
    "            this_shop = {}\n",
    "            this_shop['name'] = name.find_element_by_tag_name('span').text\n",
    "            try:\n",
    "                this_shop['url'] = name.find_element_by_tag_name('a').get_attribute('href')\n",
    "            except:\n",
    "                this_shop['url'] = np.nan\n",
    "            all_shops.append(this_shop)\n",
    "        driver.find_element_by_xpath('/html/body/table[2]/tbody/tr[4]/td[2]/table[2]/tbody/tr/td[3]/a').click()\n",
    "except:\n",
    "    pass"
   ]
  },
  {
   "cell_type": "markdown",
   "metadata": {},
   "source": [
    "### Wrapping with `while`\n",
    "\n",
    "> Go back to the first page of results before you try to run this\n",
    "\n",
    "You have a bunch of scraping code. It clicks the next button, then it stops. But you'd like it to go back up to the top! You can make that happen with a special `while` loop.\n",
    "\n",
    "```python\n",
    "while True:\n",
    "    # Scrape your stuff\n",
    "    # Click next button\n",
    "```\n",
    "\n",
    "This will go on FOREVER AND EVER until there is an error (when it can't find the Next button on the last page of results, you'll get an error).\n",
    "\n",
    "- *Tip: Print out \"Scraping a new page\" every time you visit a new page, just to check that it's working*"
   ]
  },
  {
   "cell_type": "markdown",
   "metadata": {},
   "source": [
    "### Making it perfect\n",
    "\n",
    "> Go back to the first page of results before you try to run this\n",
    "\n",
    "Wrap all of your code in a `try`/`except` so that it doesn't finish with an error and you'll be good to go.\n",
    "\n",
    "**Confirm your list has all of the vape shops in it.** If not, check where you are creating your empty list (`[]`) - if you do it in the wrong spot, it will overwrite your list every time you visit a page."
   ]
  },
  {
   "cell_type": "markdown",
   "metadata": {},
   "source": [
    "### Save this data as a csv\n",
    "\n",
    "The filename should be `vape-shops-basic.csv`."
   ]
  },
  {
   "cell_type": "code",
   "execution_count": 13,
   "metadata": {},
   "outputs": [],
   "source": [
    "df = pd.DataFrame(all_shops)\n",
    "df.to_csv('vape-shops-basic.csv', index = False)"
   ]
  },
  {
   "cell_type": "code",
   "execution_count": 14,
   "metadata": {},
   "outputs": [
    {
     "data": {
      "text/html": [
       "<div>\n",
       "<style scoped>\n",
       "    .dataframe tbody tr th:only-of-type {\n",
       "        vertical-align: middle;\n",
       "    }\n",
       "\n",
       "    .dataframe tbody tr th {\n",
       "        vertical-align: top;\n",
       "    }\n",
       "\n",
       "    .dataframe thead th {\n",
       "        text-align: right;\n",
       "    }\n",
       "</style>\n",
       "<table border=\"1\" class=\"dataframe\">\n",
       "  <thead>\n",
       "    <tr style=\"text-align: right;\">\n",
       "      <th></th>\n",
       "      <th>name</th>\n",
       "      <th>url</th>\n",
       "    </tr>\n",
       "  </thead>\n",
       "  <tbody>\n",
       "    <tr>\n",
       "      <th>0</th>\n",
       "      <td>VAPE IT STORE II</td>\n",
       "      <td>https://jportal.mdcourts.gov/license/pbLicense...</td>\n",
       "    </tr>\n",
       "    <tr>\n",
       "      <th>1</th>\n",
       "      <td>VAPE IT STORE I</td>\n",
       "      <td>https://jportal.mdcourts.gov/license/pbLicense...</td>\n",
       "    </tr>\n",
       "    <tr>\n",
       "      <th>2</th>\n",
       "      <td>VAPEPAD THE</td>\n",
       "      <td>https://jportal.mdcourts.gov/license/pbLicense...</td>\n",
       "    </tr>\n",
       "    <tr>\n",
       "      <th>3</th>\n",
       "      <td>VAPE FROG</td>\n",
       "      <td>NaN</td>\n",
       "    </tr>\n",
       "    <tr>\n",
       "      <th>4</th>\n",
       "      <td>VAPE FROG</td>\n",
       "      <td>NaN</td>\n",
       "    </tr>\n",
       "    <tr>\n",
       "      <th>5</th>\n",
       "      <td>VAPE IT STORE II</td>\n",
       "      <td>https://jportal.mdcourts.gov/license/pbLicense...</td>\n",
       "    </tr>\n",
       "    <tr>\n",
       "      <th>6</th>\n",
       "      <td>VAPE IT STORE I</td>\n",
       "      <td>https://jportal.mdcourts.gov/license/pbLicense...</td>\n",
       "    </tr>\n",
       "    <tr>\n",
       "      <th>7</th>\n",
       "      <td>VAPEPAD THE</td>\n",
       "      <td>https://jportal.mdcourts.gov/license/pbLicense...</td>\n",
       "    </tr>\n",
       "    <tr>\n",
       "      <th>8</th>\n",
       "      <td>VAPE FROG</td>\n",
       "      <td>NaN</td>\n",
       "    </tr>\n",
       "    <tr>\n",
       "      <th>9</th>\n",
       "      <td>VAPE FROG</td>\n",
       "      <td>NaN</td>\n",
       "    </tr>\n",
       "    <tr>\n",
       "      <th>10</th>\n",
       "      <td>VAPE LOFT THE</td>\n",
       "      <td>https://jportal.mdcourts.gov/license/pbLicense...</td>\n",
       "    </tr>\n",
       "    <tr>\n",
       "      <th>11</th>\n",
       "      <td>VAPE N CIGAR</td>\n",
       "      <td>https://jportal.mdcourts.gov/license/pbLicense...</td>\n",
       "    </tr>\n",
       "    <tr>\n",
       "      <th>12</th>\n",
       "      <td>VAPE DOJO</td>\n",
       "      <td>https://jportal.mdcourts.gov/license/pbLicense...</td>\n",
       "    </tr>\n",
       "    <tr>\n",
       "      <th>13</th>\n",
       "      <td>VAPE HAVEN</td>\n",
       "      <td>NaN</td>\n",
       "    </tr>\n",
       "    <tr>\n",
       "      <th>14</th>\n",
       "      <td>VAPORS LOUNGE</td>\n",
       "      <td>NaN</td>\n",
       "    </tr>\n",
       "    <tr>\n",
       "      <th>15</th>\n",
       "      <td>VAPORFI SOUTHSIDE</td>\n",
       "      <td>https://jportal.mdcourts.gov/license/pbLicense...</td>\n",
       "    </tr>\n",
       "    <tr>\n",
       "      <th>16</th>\n",
       "      <td>VAPE DO JO</td>\n",
       "      <td>https://jportal.mdcourts.gov/license/pbLicense...</td>\n",
       "    </tr>\n",
       "    <tr>\n",
       "      <th>17</th>\n",
       "      <td>VAPERTETMD</td>\n",
       "      <td>NaN</td>\n",
       "    </tr>\n",
       "    <tr>\n",
       "      <th>18</th>\n",
       "      <td>VAPERTEKMD</td>\n",
       "      <td>https://jportal.mdcourts.gov/license/pbLicense...</td>\n",
       "    </tr>\n",
       "    <tr>\n",
       "      <th>19</th>\n",
       "      <td>VAPORIOT</td>\n",
       "      <td>NaN</td>\n",
       "    </tr>\n",
       "    <tr>\n",
       "      <th>20</th>\n",
       "      <td>VAPE PLUS</td>\n",
       "      <td>https://jportal.mdcourts.gov/license/pbLicense...</td>\n",
       "    </tr>\n",
       "    <tr>\n",
       "      <th>21</th>\n",
       "      <td>VAPE SOCIAL</td>\n",
       "      <td>https://jportal.mdcourts.gov/license/pbLicense...</td>\n",
       "    </tr>\n",
       "    <tr>\n",
       "      <th>22</th>\n",
       "      <td>VAPE JUNGLE</td>\n",
       "      <td>https://jportal.mdcourts.gov/license/pbLicense...</td>\n",
       "    </tr>\n",
       "    <tr>\n",
       "      <th>23</th>\n",
       "      <td>VAPE TIME</td>\n",
       "      <td>NaN</td>\n",
       "    </tr>\n",
       "    <tr>\n",
       "      <th>24</th>\n",
       "      <td>VAPEBAR EXPESS</td>\n",
       "      <td>NaN</td>\n",
       "    </tr>\n",
       "    <tr>\n",
       "      <th>25</th>\n",
       "      <td>VAPEWERKS</td>\n",
       "      <td>https://jportal.mdcourts.gov/license/pbLicense...</td>\n",
       "    </tr>\n",
       "    <tr>\n",
       "      <th>26</th>\n",
       "      <td>VAPIST MD</td>\n",
       "      <td>https://jportal.mdcourts.gov/license/pbLicense...</td>\n",
       "    </tr>\n",
       "    <tr>\n",
       "      <th>27</th>\n",
       "      <td>VAPOR 99</td>\n",
       "      <td>NaN</td>\n",
       "    </tr>\n",
       "    <tr>\n",
       "      <th>28</th>\n",
       "      <td>VAPOR ALLEY</td>\n",
       "      <td>https://jportal.mdcourts.gov/license/pbLicense...</td>\n",
       "    </tr>\n",
       "    <tr>\n",
       "      <th>29</th>\n",
       "      <td>VAPOR EMPORIUM</td>\n",
       "      <td>https://jportal.mdcourts.gov/license/pbLicense...</td>\n",
       "    </tr>\n",
       "    <tr>\n",
       "      <th>30</th>\n",
       "      <td>VAPOR VILLA</td>\n",
       "      <td>https://jportal.mdcourts.gov/license/pbLicense...</td>\n",
       "    </tr>\n",
       "    <tr>\n",
       "      <th>31</th>\n",
       "      <td>VAPOR VILLA</td>\n",
       "      <td>https://jportal.mdcourts.gov/license/pbLicense...</td>\n",
       "    </tr>\n",
       "    <tr>\n",
       "      <th>32</th>\n",
       "      <td>VAPORS LOUNGE</td>\n",
       "      <td>https://jportal.mdcourts.gov/license/pbLicense...</td>\n",
       "    </tr>\n",
       "    <tr>\n",
       "      <th>33</th>\n",
       "      <td>VAPE DOJO</td>\n",
       "      <td>https://jportal.mdcourts.gov/license/pbLicense...</td>\n",
       "    </tr>\n",
       "    <tr>\n",
       "      <th>34</th>\n",
       "      <td>VAPE DOJO</td>\n",
       "      <td>https://jportal.mdcourts.gov/license/pbLicense...</td>\n",
       "    </tr>\n",
       "    <tr>\n",
       "      <th>35</th>\n",
       "      <td>VAPE DOJO</td>\n",
       "      <td>https://jportal.mdcourts.gov/license/pbLicense...</td>\n",
       "    </tr>\n",
       "    <tr>\n",
       "      <th>36</th>\n",
       "      <td>VAPE DOJO</td>\n",
       "      <td>https://jportal.mdcourts.gov/license/pbLicense...</td>\n",
       "    </tr>\n",
       "    <tr>\n",
       "      <th>37</th>\n",
       "      <td>VAPEZ YARDHOUSE</td>\n",
       "      <td>NaN</td>\n",
       "    </tr>\n",
       "    <tr>\n",
       "      <th>38</th>\n",
       "      <td>VAPERS RING</td>\n",
       "      <td>https://jportal.mdcourts.gov/license/pbLicense...</td>\n",
       "    </tr>\n",
       "  </tbody>\n",
       "</table>\n",
       "</div>"
      ],
      "text/plain": [
       "                 name                                                url\n",
       "0    VAPE IT STORE II  https://jportal.mdcourts.gov/license/pbLicense...\n",
       "1     VAPE IT STORE I  https://jportal.mdcourts.gov/license/pbLicense...\n",
       "2         VAPEPAD THE  https://jportal.mdcourts.gov/license/pbLicense...\n",
       "3           VAPE FROG                                                NaN\n",
       "4           VAPE FROG                                                NaN\n",
       "5    VAPE IT STORE II  https://jportal.mdcourts.gov/license/pbLicense...\n",
       "6     VAPE IT STORE I  https://jportal.mdcourts.gov/license/pbLicense...\n",
       "7         VAPEPAD THE  https://jportal.mdcourts.gov/license/pbLicense...\n",
       "8           VAPE FROG                                                NaN\n",
       "9           VAPE FROG                                                NaN\n",
       "10      VAPE LOFT THE  https://jportal.mdcourts.gov/license/pbLicense...\n",
       "11       VAPE N CIGAR  https://jportal.mdcourts.gov/license/pbLicense...\n",
       "12          VAPE DOJO  https://jportal.mdcourts.gov/license/pbLicense...\n",
       "13         VAPE HAVEN                                                NaN\n",
       "14      VAPORS LOUNGE                                                NaN\n",
       "15  VAPORFI SOUTHSIDE  https://jportal.mdcourts.gov/license/pbLicense...\n",
       "16         VAPE DO JO  https://jportal.mdcourts.gov/license/pbLicense...\n",
       "17         VAPERTETMD                                                NaN\n",
       "18         VAPERTEKMD  https://jportal.mdcourts.gov/license/pbLicense...\n",
       "19           VAPORIOT                                                NaN\n",
       "20          VAPE PLUS  https://jportal.mdcourts.gov/license/pbLicense...\n",
       "21        VAPE SOCIAL  https://jportal.mdcourts.gov/license/pbLicense...\n",
       "22        VAPE JUNGLE  https://jportal.mdcourts.gov/license/pbLicense...\n",
       "23          VAPE TIME                                                NaN\n",
       "24     VAPEBAR EXPESS                                                NaN\n",
       "25          VAPEWERKS  https://jportal.mdcourts.gov/license/pbLicense...\n",
       "26          VAPIST MD  https://jportal.mdcourts.gov/license/pbLicense...\n",
       "27           VAPOR 99                                                NaN\n",
       "28        VAPOR ALLEY  https://jportal.mdcourts.gov/license/pbLicense...\n",
       "29     VAPOR EMPORIUM  https://jportal.mdcourts.gov/license/pbLicense...\n",
       "30        VAPOR VILLA  https://jportal.mdcourts.gov/license/pbLicense...\n",
       "31        VAPOR VILLA  https://jportal.mdcourts.gov/license/pbLicense...\n",
       "32      VAPORS LOUNGE  https://jportal.mdcourts.gov/license/pbLicense...\n",
       "33          VAPE DOJO  https://jportal.mdcourts.gov/license/pbLicense...\n",
       "34          VAPE DOJO  https://jportal.mdcourts.gov/license/pbLicense...\n",
       "35          VAPE DOJO  https://jportal.mdcourts.gov/license/pbLicense...\n",
       "36          VAPE DOJO  https://jportal.mdcourts.gov/license/pbLicense...\n",
       "37    VAPEZ YARDHOUSE                                                NaN\n",
       "38        VAPERS RING  https://jportal.mdcourts.gov/license/pbLicense..."
      ]
     },
     "execution_count": 14,
     "metadata": {},
     "output_type": "execute_result"
    }
   ],
   "source": [
    "df"
   ]
  },
  {
   "cell_type": "markdown",
   "metadata": {},
   "source": [
    "# Okay, let's scrape!\n",
    "\n",
    "All right, get the actual data!\n",
    "\n",
    "### Look at the URL of your first row\n",
    "\n",
    "- *TIP: Remember `pd.set_option('display.max_colwidth', -1)` will let you see alllll of your strings*"
   ]
  },
  {
   "cell_type": "code",
   "execution_count": 15,
   "metadata": {},
   "outputs": [
    {
     "data": {
      "text/plain": [
       "0    https://jportal.mdcourts.gov/license/pbLicense...\n",
       "Name: url, dtype: object"
      ]
     },
     "execution_count": 15,
     "metadata": {},
     "output_type": "execute_result"
    }
   ],
   "source": [
    "df.head(1)['url']"
   ]
  },
  {
   "cell_type": "markdown",
   "metadata": {},
   "source": [
    "### Use Selenium to visit that page"
   ]
  },
  {
   "cell_type": "code",
   "execution_count": 16,
   "metadata": {},
   "outputs": [],
   "source": [
    "url = df.iloc[0]['url']\n",
    "driver.get(url)"
   ]
  },
  {
   "cell_type": "markdown",
   "metadata": {},
   "source": [
    "### Now, just like you did before, grab the additional data\n",
    "\n",
    "You should probably save it into a dictionary! Don't try to put it into the dataframe yet, though. You want:\n",
    "\n",
    "- Mailing address\n",
    "- Location address\n",
    "- License information (you can keep it as one field)\n",
    "- Total amount paid\n",
    "- Issued by\n",
    "- If you're feeling crazy, get the licenses, too.\n",
    "\n",
    ".\n",
    "\n",
    "- *TIP: Licenses can be acquired by doing some really odd list slicing - think about where it starts and where it ends, relative to the beginning and end of everything.*\n",
    "- *TIP: If you've gotten addicted to xpath, total amount paid and issued by might not work with it when doing other shops. You'll want to test it!*"
   ]
  },
  {
   "cell_type": "code",
   "execution_count": 17,
   "metadata": {},
   "outputs": [
    {
     "data": {
      "text/plain": [
       "{'mailing_addr': 'AMIN NARGIS, 1104 PLANTERS PLACE, SALISBURY, MD 21804',\n",
       " 'location_addr': '1015 S SALISBURY BLVD, SALISBURY, MD 21801',\n",
       " 'issuer': 'WICOMICO COUNTY, CLERK OF CIRCUIT COURT, P.O. BOX 198, SALISBURY, MARYLAND 21803-0198',\n",
       " 'Date of Issue': '4/27/2018',\n",
       " 'License Status': 'Issued',\n",
       " 'License No.': '22375606',\n",
       " 'Control No.': '22884439',\n",
       " 'Amount Paid': '$ 41.00'}"
      ]
     },
     "execution_count": 17,
     "metadata": {},
     "output_type": "execute_result"
    }
   ],
   "source": [
    "# I split it a bit differently then before, this way I could get more info out of it as individual data points\n",
    "all_shop_details = driver.find_elements_by_tag_name('td')[23].text.split(\"\\n\") + driver.find_elements_by_tag_name('td')[27].text.split(\"\\n\")\n",
    "shop_details = {}\n",
    "shop_details['mailing_addr'] = all_shop_details[4] + \", \" + all_shop_details[5] + \", \" + all_shop_details[6].split(' L')[0]\n",
    "shop_details['location_addr'] = all_shop_details[15] + \", \" + all_shop_details[16]\n",
    "shop_details['issuer'] = all_shop_details[-7] + \", \" + all_shop_details[-6] + \", \" + all_shop_details[-5]\n",
    "# This is a kinda the brute force approach, but this website drove me insane when I tried to hand-pick...\n",
    "further_info = ['Date of Issue', 'License Status', 'License No.', 'Control No.', 'Amount Paid']\n",
    "try:\n",
    "    for item in further_info:\n",
    "        shop_details[item] = [info for info in all_shop_details if item in info][0].split(':')[1].strip()\n",
    "except:\n",
    "    print('Error on page: {}'.format(url))\n",
    "shop_details"
   ]
  },
  {
   "cell_type": "markdown",
   "metadata": {},
   "source": [
    "### Move all of this into one cell\n",
    "\n",
    "It should visit the URL, then grab the data and put it into a dictionary."
   ]
  },
  {
   "cell_type": "code",
   "execution_count": 18,
   "metadata": {},
   "outputs": [
    {
     "data": {
      "text/plain": [
       "{'mailing_addr': 'AMIN NARGIS, 1104 PLANTERS PLACE, SALISBURY, MD 21804',\n",
       " 'location_addr': '1015 S SALISBURY BLVD, SALISBURY, MD 21801',\n",
       " 'issuer': 'WICOMICO COUNTY, CLERK OF CIRCUIT COURT, P.O. BOX 198, SALISBURY, MARYLAND 21803-0198',\n",
       " 'Date of Issue': '4/27/2018',\n",
       " 'License Status': 'Issued',\n",
       " 'License No.': '22375606',\n",
       " 'Control No.': '22884439',\n",
       " 'Amount Paid': '$ 41.00'}"
      ]
     },
     "execution_count": 18,
     "metadata": {},
     "output_type": "execute_result"
    }
   ],
   "source": [
    "url = df.iloc[0]['url']\n",
    "driver.get(url)\n",
    "all_shop_details = driver.find_elements_by_tag_name('td')[23].text.split(\"\\n\") + driver.find_elements_by_tag_name('td')[27].text.split(\"\\n\")\n",
    "shop_details = {}\n",
    "shop_details['mailing_addr'] = all_shop_details[4] + \", \" + all_shop_details[5] + \", \" + all_shop_details[6].split(' L')[0]\n",
    "shop_details['location_addr'] = all_shop_details[15] + \", \" + all_shop_details[16]\n",
    "shop_details['issuer'] = all_shop_details[-7] + \", \" + all_shop_details[-6] + \", \" + all_shop_details[-5]\n",
    "further_info = ['Date of Issue', 'License Status', 'License No.', 'Control No.', 'Amount Paid']\n",
    "try:\n",
    "    for item in further_info:\n",
    "        shop_details[item] = [info for info in all_shop_details if item in info][0].split(':')[1].strip()\n",
    "except:\n",
    "    print('Error on page: {}'.format(url))\n",
    "shop_details"
   ]
  },
  {
   "cell_type": "markdown",
   "metadata": {},
   "source": [
    "### Change it into a function\n",
    "\n",
    "You'll want to have this function accept a `row`, and send back a `pd.Series`. You can just use `pd.Series(your_dictionary)` (but it better have a better name than `your_dictionary`!).\n",
    "\n",
    "- *TIP: Make sure you `return` something!*\n",
    "- *TIP: Make sure you change everything to reflect the row's url, not the URL you typed in*"
   ]
  },
  {
   "cell_type": "code",
   "execution_count": 19,
   "metadata": {},
   "outputs": [],
   "source": [
    "def get_shop_info(row):\n",
    "    url = row['url']\n",
    "    if pd.isna(url) == False:\n",
    "        driver.get(url)\n",
    "        all_shop_details = driver.find_elements_by_tag_name('td')[23].text.split(\"\\n\") + driver.find_elements_by_tag_name('td')[27].text.split(\"\\n\")\n",
    "        shop_details = {}\n",
    "        shop_details['mailing_addr'] = all_shop_details[4] + \", \" + all_shop_details[5] + \", \" + all_shop_details[6].split(' L')[0]\n",
    "        shop_details['location_addr'] = all_shop_details[15] + \", \" + all_shop_details[16]\n",
    "        shop_details['issuer'] = all_shop_details[-7] + \", \" + all_shop_details[-6] + \", \" + all_shop_details[-5]\n",
    "        further_info = ['Date of Issue', 'License Status', 'License No.', 'Control No.', 'Amount Paid']\n",
    "        try:\n",
    "            for item in further_info:\n",
    "                shop_details[item] = [info for info in all_shop_details if item in info][0].split(':')[1].strip()\n",
    "        except:\n",
    "            print('Error on page: {}'.format(url))\n",
    "        return pd.Series(shop_details)\n",
    "    else: \n",
    "        return pd.Series({'License Status' : 'Pending'})"
   ]
  },
  {
   "cell_type": "markdown",
   "metadata": {},
   "source": [
    "### Use your dataframe and `.apply` to pull all of the data from the vape shops\n",
    "\n",
    "Once you know it's working, use the whole \n",
    "\n",
    "- *TIP: Try using it with `.head(3)` first*\n",
    "- *TIP: You'll want to use `.apply` with your new function*\n",
    "- *TIP: Issued By and Total Paid are goign to give you problems if you tried to use xpath! Try checking the classes and think about find_elementSSSSS and working backwards instead of forwards.*\n",
    "- *TIP: You might need a `try`/`except`*\n",
    "- *TIP: Make sure you're using `axis=1`*\n",
    "- *TIP: Use `.join` the big thing with all of the `dfs` - make sure you name them right!*"
   ]
  },
  {
   "cell_type": "code",
   "execution_count": 20,
   "metadata": {
    "scrolled": false
   },
   "outputs": [],
   "source": [
    "# start with a clean df\n",
    "df = pd.read_csv('vape-shops-basic.csv')\n",
    "df = df.apply(get_shop_info, axis = 1).join(df)\n",
    "# Sometimes I had to load individual detail pages twice, so there might be duplicates\n",
    "df = df.drop_duplicates(keep = 'first')"
   ]
  },
  {
   "cell_type": "markdown",
   "metadata": {},
   "source": [
    "## Save as `vape-total.csv`\n",
    "\n",
    "Make sure you don't save the index! Open it up in a text editor or Excel to make sure it's correct."
   ]
  },
  {
   "cell_type": "code",
   "execution_count": 21,
   "metadata": {},
   "outputs": [],
   "source": [
    "df.to_csv('vape-total.csv', index = False)"
   ]
  },
  {
   "cell_type": "code",
   "execution_count": 22,
   "metadata": {},
   "outputs": [
    {
     "data": {
      "text/html": [
       "<div>\n",
       "<style scoped>\n",
       "    .dataframe tbody tr th:only-of-type {\n",
       "        vertical-align: middle;\n",
       "    }\n",
       "\n",
       "    .dataframe tbody tr th {\n",
       "        vertical-align: top;\n",
       "    }\n",
       "\n",
       "    .dataframe thead th {\n",
       "        text-align: right;\n",
       "    }\n",
       "</style>\n",
       "<table border=\"1\" class=\"dataframe\">\n",
       "  <thead>\n",
       "    <tr style=\"text-align: right;\">\n",
       "      <th></th>\n",
       "      <th>Amount Paid</th>\n",
       "      <th>Control No.</th>\n",
       "      <th>Date of Issue</th>\n",
       "      <th>License No.</th>\n",
       "      <th>License Status</th>\n",
       "      <th>issuer</th>\n",
       "      <th>location_addr</th>\n",
       "      <th>mailing_addr</th>\n",
       "      <th>name</th>\n",
       "      <th>url</th>\n",
       "    </tr>\n",
       "  </thead>\n",
       "  <tbody>\n",
       "    <tr>\n",
       "      <th>0</th>\n",
       "      <td>$ 41.00</td>\n",
       "      <td>22884439.0</td>\n",
       "      <td>4/27/2018</td>\n",
       "      <td>22375606.0</td>\n",
       "      <td>Issued</td>\n",
       "      <td>WICOMICO COUNTY, CLERK OF CIRCUIT COURT, P.O. ...</td>\n",
       "      <td>1015 S SALISBURY BLVD, SALISBURY, MD 21801</td>\n",
       "      <td>AMIN NARGIS, 1104 PLANTERS PLACE, SALISBURY, M...</td>\n",
       "      <td>VAPE IT STORE II</td>\n",
       "      <td>https://jportal.mdcourts.gov/license/pbLicense...</td>\n",
       "    </tr>\n",
       "    <tr>\n",
       "      <th>1</th>\n",
       "      <td>$ 24.00</td>\n",
       "      <td>22591855.0</td>\n",
       "      <td>4/27/2018</td>\n",
       "      <td>22375605.0</td>\n",
       "      <td>Issued</td>\n",
       "      <td>WICOMICO COUNTY, CLERK OF CIRCUIT COURT, P.O. ...</td>\n",
       "      <td>1724 N SALISBURY BLVD UNIT 2, SALISBURY, MD 21801</td>\n",
       "      <td>AMIN NARGIS, 1104 PLANTERS PLACE, SALISBURY, M...</td>\n",
       "      <td>VAPE IT STORE I</td>\n",
       "      <td>https://jportal.mdcourts.gov/license/pbLicense...</td>\n",
       "    </tr>\n",
       "    <tr>\n",
       "      <th>2</th>\n",
       "      <td>$ 94.00</td>\n",
       "      <td>2685930.0</td>\n",
       "      <td>4/05/2018</td>\n",
       "      <td>2304705.0</td>\n",
       "      <td>Issued</td>\n",
       "      <td>ROBERT P. DUCKWORTH, CLERK OF CIRCUIT COURT, 8...</td>\n",
       "      <td>2299 JOHNS HOPKINS ROAD, GAMBRILLS, MD 21054</td>\n",
       "      <td>ANJ DISTRIBUTIONS LLC, 2504 ORCHARD KNOLL WAY,...</td>\n",
       "      <td>VAPEPAD THE</td>\n",
       "      <td>https://jportal.mdcourts.gov/license/pbLicense...</td>\n",
       "    </tr>\n",
       "    <tr>\n",
       "      <th>3</th>\n",
       "      <td>NaN</td>\n",
       "      <td>NaN</td>\n",
       "      <td>NaN</td>\n",
       "      <td>NaN</td>\n",
       "      <td>Pending</td>\n",
       "      <td>NaN</td>\n",
       "      <td>NaN</td>\n",
       "      <td>NaN</td>\n",
       "      <td>VAPE FROG</td>\n",
       "      <td>NaN</td>\n",
       "    </tr>\n",
       "    <tr>\n",
       "      <th>4</th>\n",
       "      <td>$ 154.00</td>\n",
       "      <td>2686069.0</td>\n",
       "      <td>4/03/2018</td>\n",
       "      <td>2310799.0</td>\n",
       "      <td>Issued</td>\n",
       "      <td>ROBERT P. DUCKWORTH, CLERK OF CIRCUIT COURT, 8...</td>\n",
       "      <td>EDGEWATER, MD 21037, Code Unit Type of License...</td>\n",
       "      <td>DISBROW II EMERSON HARRINGTON, License Status:...</td>\n",
       "      <td>VAPE LOFT THE</td>\n",
       "      <td>https://jportal.mdcourts.gov/license/pbLicense...</td>\n",
       "    </tr>\n",
       "    <tr>\n",
       "      <th>5</th>\n",
       "      <td>$ 84.00</td>\n",
       "      <td>13856368.0</td>\n",
       "      <td>4/30/2018</td>\n",
       "      <td>13343011.0</td>\n",
       "      <td>Issued</td>\n",
       "      <td>WAYNE A. ROBEY, CLERK OF CIRCUIT COURT, 9250 B...</td>\n",
       "      <td>COLUMBIA, MD 21045, Code Unit Type of License ...</td>\n",
       "      <td>DISCOUNT TOBACCO ESSEX LLC, License Status: Is...</td>\n",
       "      <td>VAPE N CIGAR</td>\n",
       "      <td>https://jportal.mdcourts.gov/license/pbLicense...</td>\n",
       "    </tr>\n",
       "    <tr>\n",
       "      <th>6</th>\n",
       "      <td>$ 179.00</td>\n",
       "      <td>6946760.0</td>\n",
       "      <td>4/05/2018</td>\n",
       "      <td>6327188.0</td>\n",
       "      <td>Issued</td>\n",
       "      <td>55 NORTH COURT STREET, WESTMINSTER, MARYLAND 2...</td>\n",
       "      <td>UNIT 15, WESTMINSTER, MD 21157</td>\n",
       "      <td>FAIRGROUND VILLAGE LLC, License Status: Issued...</td>\n",
       "      <td>VAPE DOJO</td>\n",
       "      <td>https://jportal.mdcourts.gov/license/pbLicense...</td>\n",
       "    </tr>\n",
       "    <tr>\n",
       "      <th>7</th>\n",
       "      <td>NaN</td>\n",
       "      <td>NaN</td>\n",
       "      <td>NaN</td>\n",
       "      <td>NaN</td>\n",
       "      <td>Pending</td>\n",
       "      <td>NaN</td>\n",
       "      <td>NaN</td>\n",
       "      <td>NaN</td>\n",
       "      <td>VAPE HAVEN</td>\n",
       "      <td>NaN</td>\n",
       "    </tr>\n",
       "    <tr>\n",
       "      <th>8</th>\n",
       "      <td>NaN</td>\n",
       "      <td>NaN</td>\n",
       "      <td>NaN</td>\n",
       "      <td>NaN</td>\n",
       "      <td>Pending</td>\n",
       "      <td>NaN</td>\n",
       "      <td>NaN</td>\n",
       "      <td>NaN</td>\n",
       "      <td>VAPORS LOUNGE</td>\n",
       "      <td>NaN</td>\n",
       "    </tr>\n",
       "    <tr>\n",
       "      <th>9</th>\n",
       "      <td>$ 189.00</td>\n",
       "      <td>30190160.0</td>\n",
       "      <td>4/20/2018</td>\n",
       "      <td>30390631.0</td>\n",
       "      <td>Issued</td>\n",
       "      <td>MARILYN BENTLEY, CLERK CIRCUIT COURT, 100 N. C...</td>\n",
       "      <td>BALTIMORE, MD 21230, Code Unit Type of License...</td>\n",
       "      <td>JENS VAPOR LLC, License Status: Issued, Licens...</td>\n",
       "      <td>VAPORFI SOUTHSIDE</td>\n",
       "      <td>https://jportal.mdcourts.gov/license/pbLicense...</td>\n",
       "    </tr>\n",
       "  </tbody>\n",
       "</table>\n",
       "</div>"
      ],
      "text/plain": [
       "  Amount Paid  Control No. Date of Issue  License No. License Status  \\\n",
       "0     $ 41.00   22884439.0     4/27/2018   22375606.0         Issued   \n",
       "1     $ 24.00   22591855.0     4/27/2018   22375605.0         Issued   \n",
       "2     $ 94.00    2685930.0     4/05/2018    2304705.0         Issued   \n",
       "3         NaN          NaN           NaN          NaN        Pending   \n",
       "4    $ 154.00    2686069.0     4/03/2018    2310799.0         Issued   \n",
       "5     $ 84.00   13856368.0     4/30/2018   13343011.0         Issued   \n",
       "6    $ 179.00    6946760.0     4/05/2018    6327188.0         Issued   \n",
       "7         NaN          NaN           NaN          NaN        Pending   \n",
       "8         NaN          NaN           NaN          NaN        Pending   \n",
       "9    $ 189.00   30190160.0     4/20/2018   30390631.0         Issued   \n",
       "\n",
       "                                              issuer  \\\n",
       "0  WICOMICO COUNTY, CLERK OF CIRCUIT COURT, P.O. ...   \n",
       "1  WICOMICO COUNTY, CLERK OF CIRCUIT COURT, P.O. ...   \n",
       "2  ROBERT P. DUCKWORTH, CLERK OF CIRCUIT COURT, 8...   \n",
       "3                                                NaN   \n",
       "4  ROBERT P. DUCKWORTH, CLERK OF CIRCUIT COURT, 8...   \n",
       "5  WAYNE A. ROBEY, CLERK OF CIRCUIT COURT, 9250 B...   \n",
       "6  55 NORTH COURT STREET, WESTMINSTER, MARYLAND 2...   \n",
       "7                                                NaN   \n",
       "8                                                NaN   \n",
       "9  MARILYN BENTLEY, CLERK CIRCUIT COURT, 100 N. C...   \n",
       "\n",
       "                                       location_addr  \\\n",
       "0         1015 S SALISBURY BLVD, SALISBURY, MD 21801   \n",
       "1  1724 N SALISBURY BLVD UNIT 2, SALISBURY, MD 21801   \n",
       "2       2299 JOHNS HOPKINS ROAD, GAMBRILLS, MD 21054   \n",
       "3                                                NaN   \n",
       "4  EDGEWATER, MD 21037, Code Unit Type of License...   \n",
       "5  COLUMBIA, MD 21045, Code Unit Type of License ...   \n",
       "6                     UNIT 15, WESTMINSTER, MD 21157   \n",
       "7                                                NaN   \n",
       "8                                                NaN   \n",
       "9  BALTIMORE, MD 21230, Code Unit Type of License...   \n",
       "\n",
       "                                        mailing_addr               name  \\\n",
       "0  AMIN NARGIS, 1104 PLANTERS PLACE, SALISBURY, M...   VAPE IT STORE II   \n",
       "1  AMIN NARGIS, 1104 PLANTERS PLACE, SALISBURY, M...    VAPE IT STORE I   \n",
       "2  ANJ DISTRIBUTIONS LLC, 2504 ORCHARD KNOLL WAY,...        VAPEPAD THE   \n",
       "3                                                NaN          VAPE FROG   \n",
       "4  DISBROW II EMERSON HARRINGTON, License Status:...      VAPE LOFT THE   \n",
       "5  DISCOUNT TOBACCO ESSEX LLC, License Status: Is...       VAPE N CIGAR   \n",
       "6  FAIRGROUND VILLAGE LLC, License Status: Issued...          VAPE DOJO   \n",
       "7                                                NaN         VAPE HAVEN   \n",
       "8                                                NaN      VAPORS LOUNGE   \n",
       "9  JENS VAPOR LLC, License Status: Issued, Licens...  VAPORFI SOUTHSIDE   \n",
       "\n",
       "                                                 url  \n",
       "0  https://jportal.mdcourts.gov/license/pbLicense...  \n",
       "1  https://jportal.mdcourts.gov/license/pbLicense...  \n",
       "2  https://jportal.mdcourts.gov/license/pbLicense...  \n",
       "3                                                NaN  \n",
       "4  https://jportal.mdcourts.gov/license/pbLicense...  \n",
       "5  https://jportal.mdcourts.gov/license/pbLicense...  \n",
       "6  https://jportal.mdcourts.gov/license/pbLicense...  \n",
       "7                                                NaN  \n",
       "8                                                NaN  \n",
       "9  https://jportal.mdcourts.gov/license/pbLicense...  "
      ]
     },
     "execution_count": 22,
     "metadata": {},
     "output_type": "execute_result"
    }
   ],
   "source": [
    "df_check = pd.read_csv('vape-total.csv')\n",
    "df_check.head(10)"
   ]
  },
  {
   "cell_type": "code",
   "execution_count": null,
   "metadata": {},
   "outputs": [],
   "source": []
  }
 ],
 "metadata": {
  "kernelspec": {
   "display_name": "Python 3",
   "language": "python",
   "name": "python3"
  },
  "language_info": {
   "codemirror_mode": {
    "name": "ipython",
    "version": 3
   },
   "file_extension": ".py",
   "mimetype": "text/x-python",
   "name": "python",
   "nbconvert_exporter": "python",
   "pygments_lexer": "ipython3",
   "version": "3.6.5"
  }
 },
 "nbformat": 4,
 "nbformat_minor": 2
}
