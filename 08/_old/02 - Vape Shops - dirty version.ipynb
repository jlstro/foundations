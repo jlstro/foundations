{
 "cells": [
  {
   "cell_type": "markdown",
   "metadata": {},
   "source": [
    "# Scraping Maryland Business Licenses with Selenium\n",
    "\n",
    "Maryland has a [great portal](https://jportal.mdcourts.gov/license/pbPublicSearch.jsp) for searching business licenses, but the only problem is you have to check a box in order to get in.\n",
    "\n",
    "1. Try to visit [the public search page](https://jportal.mdcourts.gov/license/pbPublicSearch.jsp)\n",
    "2. Get redirected to a \"I agree to this\" page. Click that you've read the disclaimer, click Enter the Site.\n",
    "3. Click \"Search License Records\" down at the bottom of the page\n",
    "4. You're now on the search page! From the \"Jurisdiction\" dropdown, select \"Statewide\"\n",
    "5. In the \"Trade Name\" field, type \"Vap%\" to try to find vape shops\n",
    "6. Click \"Next\" in the bottom right-hand corner to go to the next page\n",
    "7. Click \"Click for detail\" to see the details for a specific business license.\n",
    "\n",
    "That's a lot of stuff! **Let's get to work.**"
   ]
  },
  {
   "cell_type": "markdown",
   "metadata": {},
   "source": [
    "## Import what you need"
   ]
  },
  {
   "cell_type": "code",
   "execution_count": 1,
   "metadata": {},
   "outputs": [],
   "source": [
    "import pandas as pd\n",
    "import time\n",
    "import numpy as np\n",
    "from selenium import webdriver\n",
    "from selenium.webdriver.common.keys import Keys\n",
    "from selenium.webdriver.support.ui import Select\n",
    "from selenium.webdriver.support.ui import WebDriverWait"
   ]
  },
  {
   "cell_type": "markdown",
   "metadata": {},
   "source": [
    "## Preparation\n",
    "\n",
    "### When you search for a business license, what URL should Selenium try to visit first?"
   ]
  },
  {
   "cell_type": "code",
   "execution_count": 2,
   "metadata": {},
   "outputs": [],
   "source": [
    "driver = webdriver.Chrome()\n",
    "driver.get('https://jportal.mdcourts.gov/license/pbPublicSearch.jsp')\n",
    "# Yeah, sure, I read the Disclaimer:\n",
    "if 'Disclaimer' in driver.find_element_by_tag_name('body').text:\n",
    "    driver.find_element_by_id('checkbox').click()\n",
    "    driver.find_element_by_id('checkbox').send_keys(Keys.RETURN)\n",
    "    driver.get('https://jportal.mdcourts.gov/license/pbPublicSearch.jsp')"
   ]
  },
  {
   "cell_type": "markdown",
   "metadata": {},
   "source": [
    "**It isn't going to work, though! It's going to redirect to that intro page.** You can use *Incognito mode* to go back through the \"Check the box, etc\" series of pages, or you can close and re-open Chrome.\n",
    "\n",
    "- Check the checkbox, then submit the form to accept their terms of service\n",
    "\n",
    "Selenium can submit forms by either\n",
    "\n",
    "- Selecting the form and using `.submit()`, or\n",
    "- Selecting the button and using `.click()`\n",
    "\n",
    "You only need to be able to get **one, not both.**\n",
    "\n",
    "- *TIP: if something doesn't have anything special about it, xpath might be your best bet*"
   ]
  },
  {
   "cell_type": "code",
   "execution_count": null,
   "metadata": {},
   "outputs": [],
   "source": []
  },
  {
   "cell_type": "markdown",
   "metadata": {},
   "source": [
    "Now click the **Search License Records** link up top in the navigation to get to the search page.\n",
    "\n",
    "- *TIP: Honestly you could also just visit the URL directly now since you filled out that terms of service thing*"
   ]
  },
  {
   "cell_type": "code",
   "execution_count": 3,
   "metadata": {},
   "outputs": [],
   "source": [
    "# I'm there already, but why not make sure"
   ]
  },
  {
   "cell_type": "code",
   "execution_count": 4,
   "metadata": {},
   "outputs": [],
   "source": [
    "driver.find_element_by_xpath('/html/body/table[1]/tbody/tr[2]/td[2]/table/tbody/tr/td[3]/a/img').click()"
   ]
  },
  {
   "cell_type": "markdown",
   "metadata": {},
   "source": [
    "### Perform your search\n",
    "\n",
    "Pick \"Statewide\" for the jurisdiction dropdown, and `VAP%` into the Trade Name field. The `%` is a wildcard."
   ]
  },
  {
   "cell_type": "code",
   "execution_count": 5,
   "metadata": {},
   "outputs": [],
   "source": [
    "# slcJurisdiction\n",
    "state = Select(driver.find_element_by_id('slcJurisdiction'))\n",
    "state.select_by_visible_text('Statewide')"
   ]
  },
  {
   "cell_type": "code",
   "execution_count": 6,
   "metadata": {},
   "outputs": [],
   "source": [
    "# txtTradeName\n",
    "trade = driver.find_element_by_id('txtTradeName')\n",
    "trade.send_keys('VAP%')\n",
    "trade.send_keys(Keys.RETURN)"
   ]
  },
  {
   "cell_type": "markdown",
   "metadata": {},
   "source": [
    "And now, of course, **submit the form**.\n",
    "\n",
    "- *TIP: Since scrolling to buttons can be a pain, sometimes it's easier to select the form and use `.submit()` instead of `.click()`ing the button*"
   ]
  },
  {
   "cell_type": "code",
   "execution_count": null,
   "metadata": {},
   "outputs": [],
   "source": []
  },
  {
   "cell_type": "code",
   "execution_count": null,
   "metadata": {},
   "outputs": [],
   "source": []
  },
  {
   "cell_type": "markdown",
   "metadata": {},
   "source": [
    "## (Try to) scrape the results\n",
    "\n",
    "Let's start by just **printing this stuff**. We'll save it as a dataframe later on.\n",
    "\n",
    "For now, just scrape **each store's name**, then cry a little. Fact: this is an impossible and miserable page. "
   ]
  },
  {
   "cell_type": "code",
   "execution_count": 7,
   "metadata": {},
   "outputs": [
    {
     "data": {
      "text/plain": [
       "['VAPE IT STORE II',\n",
       " 'VAPE IT STORE I',\n",
       " 'VAPEPAD THE',\n",
       " 'VAPE FROG',\n",
       " 'VAPE FROG']"
      ]
     },
     "execution_count": 7,
     "metadata": {},
     "output_type": "execute_result"
    }
   ],
   "source": [
    "# I guess that's cheating, but...\n",
    "store_names = [name.text for name in driver.find_elements_by_tag_name('td') if 'VAP' in name.text][1:]\n",
    "store_names"
   ]
  },
  {
   "cell_type": "markdown",
   "metadata": {},
   "source": [
    "To avoid struggling with the search results page, we're going to use the **detail page** instead. Try to figure out how to select it and click it inside of your `for` loop.\n",
    "\n",
    "- *TIP: Instead of just looking for an `a` or an `img`, you might want to look for one of its parents first, then click. This might affect the way you print out the shop's name, too*\n",
    "- *TIP: Not all of them have links! You can wrap in try/except to skip it, or you can check to see if the shop's status is Pending.*"
   ]
  },
  {
   "cell_type": "code",
   "execution_count": 8,
   "metadata": {},
   "outputs": [],
   "source": [
    "urls = []\n",
    "url_test = driver.find_elements_by_tag_name('a')\n",
    "for a in url_test[10:]:\n",
    "    if 'LicenseDetail' in a.get_attribute('href'):\n",
    "        urls.append(a.get_attribute('href'))"
   ]
  },
  {
   "cell_type": "code",
   "execution_count": 9,
   "metadata": {},
   "outputs": [],
   "source": [
    "urls = []\n",
    "store_names = []\n",
    "try:\n",
    "    while driver.find_element_by_xpath('/html/body/table[2]/tbody/tr[4]/td[2]/table[2]/tbody/tr/td[3]/a') != None:\n",
    "        url_test = driver.find_elements_by_tag_name('a')\n",
    "        for a in url_test[10:]:\n",
    "            if 'LicenseDetail' in a.get_attribute('href'):\n",
    "                urls.append(a.get_attribute('href'))\n",
    "        store_names = store_names + [name.text for name in driver.find_elements_by_tag_name('td') if 'VAP' in name.text][1:]\n",
    "        driver.find_element_by_xpath('/html/body/table[2]/tbody/tr[4]/td[2]/table[2]/tbody/tr/td[3]/a').click()\n",
    "except:\n",
    "    pass"
   ]
  },
  {
   "cell_type": "code",
   "execution_count": 10,
   "metadata": {},
   "outputs": [
    {
     "data": {
      "text/plain": [
       "[{'url': 'https://jportal.mdcourts.gov/license/pbLicenseDetail.jsp?owi=YO586i%2F0JjE%3D',\n",
       "  'mailing_addr': 'AMIN NARGIS, 1104 PLANTERS PLACE, SALISBURY, MD 21804',\n",
       "  'location_addr': '1015 S SALISBURY BLVD, SALISBURY, MD 21801',\n",
       "  'name': 'VAPE IT STORE II',\n",
       "  'issuer': 'WICOMICO COUNTY, CLERK OF CIRCUIT COURT, P.O. BOX 198, SALISBURY, MARYLAND 21803-0198',\n",
       "  'Date of Issue': '4/27/2018',\n",
       "  'License Status': 'Issued',\n",
       "  'License No.': '22375606',\n",
       "  'Control No.': '22884439',\n",
       "  'Amount Paid': '$ 41.00'},\n",
       " {'url': 'https://jportal.mdcourts.gov/license/pbLicenseDetail.jsp?owi=nw1uyz%2Bqz6g%3D',\n",
       "  'mailing_addr': 'AMIN NARGIS, 1104 PLANTERS PLACE, SALISBURY, MD 21804',\n",
       "  'location_addr': '1724 N SALISBURY BLVD UNIT 2, SALISBURY, MD 21801',\n",
       "  'name': 'VAPE IT STORE I',\n",
       "  'issuer': 'WICOMICO COUNTY, CLERK OF CIRCUIT COURT, P.O. BOX 198, SALISBURY, MARYLAND 21803-0198',\n",
       "  'Date of Issue': '4/27/2018',\n",
       "  'License Status': 'Issued',\n",
       "  'License No.': '22375605',\n",
       "  'Control No.': '22591855',\n",
       "  'Amount Paid': '$ 24.00'},\n",
       " {'url': 'https://jportal.mdcourts.gov/license/pbLicenseDetail.jsp?owi=oUJel8zTXM0%3D',\n",
       "  'mailing_addr': 'ANJ DISTRIBUTIONS LLC, 2504 ORCHARD KNOLL WAY, ODENTON, MD 21113',\n",
       "  'location_addr': '2299 JOHNS HOPKINS ROAD, GAMBRILLS, MD 21054',\n",
       "  'name': 'VAPEPAD THE',\n",
       "  'issuer': 'ROBERT P. DUCKWORTH, CLERK OF CIRCUIT COURT, 8 CHURCH CIRCLE, ROOM H-101, ANNAPOLIS, MARYLAND 21401',\n",
       "  'Date of Issue': '4/05/2018',\n",
       "  'License Status': 'Issued',\n",
       "  'License No.': '02304705',\n",
       "  'Control No.': '02685930',\n",
       "  'Amount Paid': '$ 94.00'},\n",
       " {'url': 'https://jportal.mdcourts.gov/license/pbLicenseDetail.jsp?owi=Ioqf989vj5I%3D',\n",
       "  'mailing_addr': 'DISBROW II EMERSON HARRINGTON, License Status: Issued, License No.: 02310799',\n",
       "  'location_addr': 'EDGEWATER, MD 21037, Code Unit Type of License No. of Licenses Cost',\n",
       "  'name': '185 MITCHELLS CHANCE RD',\n",
       "  'issuer': 'ROBERT P. DUCKWORTH, CLERK OF CIRCUIT COURT, 8 CHURCH CIRCLE, ROOM H-101, ANNAPOLIS, MARYLAND 21401',\n",
       "  'Date of Issue': '4/03/2018',\n",
       "  'License Status': 'Issued',\n",
       "  'License No.': '02310799',\n",
       "  'Control No.': '02686069',\n",
       "  'Amount Paid': '$ 154.00'},\n",
       " {'url': 'https://jportal.mdcourts.gov/license/pbLicenseDetail.jsp?owi=UNVAxJSPmnY%3D',\n",
       "  'mailing_addr': 'DISCOUNT TOBACCO ESSEX LLC, License Status: Issued, License No.: 13343011',\n",
       "  'location_addr': 'COLUMBIA, MD 21045, Code Unit Type of License No. of Licenses Cost',\n",
       "  'name': '7104 MINSTREL UNIT #7',\n",
       "  'issuer': 'WAYNE A. ROBEY, CLERK OF CIRCUIT COURT, 9250 BENDIX ROAD, COLUMBIA, MARYLAND 21045',\n",
       "  'Date of Issue': '4/30/2018',\n",
       "  'License Status': 'Issued',\n",
       "  'License No.': '13343011',\n",
       "  'Control No.': '13856368',\n",
       "  'Amount Paid': '$ 84.00'},\n",
       " {'url': 'https://jportal.mdcourts.gov/license/pbLicenseDetail.jsp?owi=93308%2FkeM9o%3D',\n",
       "  'mailing_addr': 'FAIRGROUND VILLAGE LLC, License Status: Issued, License No.: 06327188',\n",
       "  'location_addr': 'UNIT 15, WESTMINSTER, MD 21157',\n",
       "  'name': '330 ONE FORTY VILLAGE ROAD',\n",
       "  'issuer': '55 NORTH COURT STREET, WESTMINSTER, MARYLAND 21157-5155, « Return to List   New Search »',\n",
       "  'Date of Issue': '4/05/2018',\n",
       "  'License Status': 'Issued',\n",
       "  'License No.': '06327188',\n",
       "  'Control No.': '06946760',\n",
       "  'Amount Paid': '$ 179.00'},\n",
       " {'url': 'https://jportal.mdcourts.gov/license/pbLicenseDetail.jsp?owi=gh5HH7kXFqE%3D',\n",
       "  'mailing_addr': 'JENS VAPOR LLC, License Status: Issued, License No.: 30390631',\n",
       "  'location_addr': 'BALTIMORE, MD 21230, Code Unit Type of License No. of Licenses Cost',\n",
       "  'name': '853 EAST FORT AVE',\n",
       "  'issuer': 'MARILYN BENTLEY, CLERK CIRCUIT COURT, 100 N. CALVERT STREET, ROOM 627, BALTIMORE, MARYLAND 21202',\n",
       "  'Date of Issue': '4/20/2018',\n",
       "  'License Status': 'Issued',\n",
       "  'License No.': '30390631',\n",
       "  'Control No.': '30190160',\n",
       "  'Amount Paid': '$ 189.00'},\n",
       " {'url': 'https://jportal.mdcourts.gov/license/pbLicenseDetail.jsp?owi=lLkLTlIzBWc%3D',\n",
       "  'mailing_addr': 'MONROE LLC, License Status: Issued, License No.: 06328812',\n",
       "  'location_addr': 'SYKESVILLE, MD 21784, Code Unit Type of License No. of Licenses Cost',\n",
       "  'name': '2021 LIBERTY ROAD',\n",
       "  'issuer': 'DONALD B. SEALING II, CLERK OF CIRCUIT COURT, 55 NORTH COURT STREET, WESTMINSTER, MARYLAND 21157-5155',\n",
       "  'Date of Issue': '5/03/2018',\n",
       "  'License Status': 'Issued',\n",
       "  'License No.': '06328812',\n",
       "  'Control No.': '06328812',\n",
       "  'Amount Paid': '$ 154.00'},\n",
       " {'url': 'https://jportal.mdcourts.gov/license/pbLicenseDetail.jsp?owi=7EDkxNztY4o%3D',\n",
       "  'mailing_addr': 'SHIN JENNY YOUNG, 6800 GUEST CALL SUITE 425, ELKRIDGE, MD 21075',\n",
       "  'location_addr': '6325 WASHINGTON BLVD STE N, ELKRIDGE, MD 21075',\n",
       "  'name': 'VAPERTEKMD',\n",
       "  'issuer': 'WAYNE A. ROBEY, CLERK OF CIRCUIT COURT, 9250 BENDIX ROAD, COLUMBIA, MARYLAND 21045',\n",
       "  'Date of Issue': '5/07/2018',\n",
       "  'License Status': 'Issued',\n",
       "  'License No.': '13342043',\n",
       "  'Control No.': '13961721',\n",
       "  'Amount Paid': '$ 34.00'},\n",
       " {'url': 'https://jportal.mdcourts.gov/license/pbLicenseDetail.jsp?owi=wXmUb8Db8nE%3D',\n",
       "  'mailing_addr': 'TRUE ENTERPRISE INC, 5967 OXBRIDGE DRIVE, SALISBURY, MD 21801',\n",
       "  'location_addr': '519 LINDEN AVENUE UNIT 6, POCOMOKE CITY, MD 21851',\n",
       "  'name': 'VAPE PLUS',\n",
       "  'issuer': 'SUSAN R. BRANIECKI, CLERK OF CIRCUIT COURT, 1 West Market Street, Room 104, SNOW HILL, MARYLAND 21863',\n",
       "  'Date of Issue': '5/31/2018',\n",
       "  'License Status': 'Issued',\n",
       "  'License No.': '23380005',\n",
       "  'Control No.': '23990202',\n",
       "  'Amount Paid': '$ 37.00'},\n",
       " {'url': 'https://jportal.mdcourts.gov/license/pbLicenseDetail.jsp?owi=13W%2BbhO0FXM%3D',\n",
       "  'mailing_addr': 'VAPE SOCIAL LLC, License Status: Issued, License No.: 15356789',\n",
       "  'location_addr': 'GAITHERSBURG, MD 20877, Code Unit Type of License No. of Licenses Cost',\n",
       "  'name': '16521 S FREDERICK AVE',\n",
       "  'issuer': 'BARBARA H. MEIKLEJOHN, CLERK OF CIRCUIT COURT, 50 MARYLAND AVENUE, ROOM 1300, ROCKVILLE, MARYLAND 20850',\n",
       "  'Date of Issue': '4/12/2018',\n",
       "  'License Status': 'Issued',\n",
       "  'License No.': '15356789',\n",
       "  'Control No.': '15728050',\n",
       "  'Amount Paid': '$ 32.00'},\n",
       " {'url': 'https://jportal.mdcourts.gov/license/pbLicenseDetail.jsp?owi=igSLenQA7z4%3D',\n",
       "  'mailing_addr': 'VAPE JUNGLE LLC, 63 E CHESAPEAKE BEACH ROAD, OWINGS, MD 20736',\n",
       "  'location_addr': '2070 CRAIN HIGHWAY UNIT F, WALDORF, MD 20601',\n",
       "  'name': 'VAPE JUNGLE',\n",
       "  'issuer': 'SHARON L. HANCOCK, CLERK OF CIRCUIT COURT, 200 CHARLES STREET, LA PLATA, MARYLAND 20646',\n",
       "  'Date of Issue': '4/09/2018',\n",
       "  'License Status': 'Issued',\n",
       "  'License No.': '08332318',\n",
       "  'Control No.': '08844059',\n",
       "  'Amount Paid': '$ 110.00'},\n",
       " {'url': 'https://jportal.mdcourts.gov/license/pbLicenseDetail.jsp?owi=aSUI2x59KhI%3D',\n",
       "  'mailing_addr': 'VAPEWERKS LLC, 155 WILLOW AVENUE, KEYSER, WV 26726',\n",
       "  'location_addr': '16115 MCMULLEN HWY SW, UNIT 7',\n",
       "  'name': 'VAPEWERKS',\n",
       "  'issuer': '30 WASHINGTON STREET, CUMBERLAND, MARYLAND 21502, « Return to List   New Search »',\n",
       "  'Date of Issue': '6/07/2018',\n",
       "  'License Status': 'Issued',\n",
       "  'License No.': '01302079',\n",
       "  'Control No.': '01102169',\n",
       "  'Amount Paid': '$ 132.50'},\n",
       " {'url': 'https://jportal.mdcourts.gov/license/pbLicenseDetail.jsp?owi=sPIligPuwro%3D',\n",
       "  'mailing_addr': 'VAPIST MD LLC, 2119 CREEKS EDGE LANE, WALDORF, MD 20601',\n",
       "  'location_addr': '6321 OLD BRANCH AVE, CAMP SPRINGS, MD 20748',\n",
       "  'name': 'VAPIST MD',\n",
       "  'issuer': 'SYDNEY J. HARRISON, CLERK OF CIRCUIT COURT, 14735 MAIN STREET, UPPER MARLBORO, MARYLAND 20772-9987',\n",
       "  'Date of Issue': '5/05/2018',\n",
       "  'License Status': 'Issued',\n",
       "  'License No.': '16366948',\n",
       "  'Control No.': '16166805',\n",
       "  'Amount Paid': '$ 69.00'},\n",
       " {'url': 'https://jportal.mdcourts.gov/license/pbLicenseDetail.jsp?owi=blJr%2BGZQL2Y%3D',\n",
       "  'mailing_addr': 'VAPOR ALLEY LLC, 8117 OCEAN GATEWAY UNIT #4, EASTON, MARYLAND 21601',\n",
       "  'location_addr': '8117 OCEAN GATEWAY UNIT #4, EASTON, MD 21601',\n",
       "  'name': 'VAPOR ALLEY',\n",
       "  'issuer': 'MARY ANN SHORTALL, CLERK OF CIRCUIT COURT, 11 NORTH WASHINGTON ST., STE 16, EASTON, MARYLAND 21601',\n",
       "  'Date of Issue': '4/24/2018',\n",
       "  'License Status': 'Issued',\n",
       "  'License No.': '20372618',\n",
       "  'Control No.': '20739879',\n",
       "  'Amount Paid': '$ 229.00'},\n",
       " {'url': 'https://jportal.mdcourts.gov/license/pbLicenseDetail.jsp?owi=Lp3NCbNAJKg%3D',\n",
       "  'mailing_addr': 'VAPOR EMPORIUM MD LLC, License Status: Issued, License No.: 10336513',\n",
       "  'location_addr': 'UNIT 3B, NEW MARKET, MD 21774',\n",
       "  'name': '11717 OLD NATIONAL PIKE',\n",
       "  'issuer': '100 WEST PATRICK STREET, FREDERICK, MARYLAND 21701, « Return to List   New Search »',\n",
       "  'Date of Issue': '5/04/2018',\n",
       "  'License Status': 'Issued',\n",
       "  'License No.': '10336513',\n",
       "  'Control No.': '10954003',\n",
       "  'Amount Paid': '$ 229.00'},\n",
       " {'url': 'https://jportal.mdcourts.gov/license/pbLicenseDetail.jsp?owi=B4FtHDuu5x8%3D',\n",
       "  'mailing_addr': 'VAPOR VILLA CORP, License Status: Issued, License No.: 03322784',\n",
       "  'location_addr': 'SUITE E, BALTIMORE, MD 21227',\n",
       "  'name': '1913 LANSDOWNE ROAD',\n",
       "  'issuer': 'P.O. Box 6754, TOWSON, MARYLAND 21285-6754, « Return to List   New Search »',\n",
       "  'Date of Issue': '4/26/2018',\n",
       "  'License Status': 'Issued',\n",
       "  'License No.': '03322784',\n",
       "  'Control No.': '03696574',\n",
       "  'Amount Paid': '$ 123.00'},\n",
       " {'url': 'https://jportal.mdcourts.gov/license/pbLicenseDetail.jsp?owi=afviwO7eb6o%3D',\n",
       "  'mailing_addr': 'VAPOR VILLA CORP, License Status: Issued, License No.: 03322785',\n",
       "  'location_addr': 'SUITE 202, CATONSVILLE, MD 21228',\n",
       "  'name': '730 FREDERICK ROAD',\n",
       "  'issuer': 'P.O. Box 6754, TOWSON, MARYLAND 21285-6754, « Return to List   New Search »',\n",
       "  'Date of Issue': '4/26/2018',\n",
       "  'License Status': 'Issued',\n",
       "  'License No.': '03322785',\n",
       "  'Control No.': '03696931',\n",
       "  'Amount Paid': '$ 123.00'},\n",
       " {'url': 'https://jportal.mdcourts.gov/license/pbLicenseDetail.jsp?owi=3NJKtEjL7FM%3D',\n",
       "  'mailing_addr': 'VAPORS LOUNGE LLC, License Status: Issued, License No.: 18369505',\n",
       "  'location_addr': 'MECHANICSVILLE, MD 20659, Code Unit Type of License No. of Licenses Cost',\n",
       "  'name': '28943 THREE NOTCH ROAD',\n",
       "  'issuer': 'TRACY CANTRELL, ACTING CLERK OF CIRCUIT COURT, 41605 COURTHOUSE DRIVE, PO BOX 676, LEONARDTOWN, MARYLAND 20650',\n",
       "  'Date of Issue': '4/17/2018',\n",
       "  'License Status': 'Issued',\n",
       "  'License No.': '18369505',\n",
       "  'Control No.': '18877819',\n",
       "  'Amount Paid': '$ 94.00'},\n",
       " {'url': 'https://jportal.mdcourts.gov/license/pbLicenseDetail.jsp?owi=AboH6eTy0JY%3D',\n",
       "  'mailing_addr': 'WALKER TRADING CO INC, 11600 CROSSROADS CIRCLE, SUITE E',\n",
       "  'location_addr': 'VAPE DOJO, 138 N BOND STREET',\n",
       "  'name': 'Location Address',\n",
       "  'issuer': 'JAMES J. REILLY, CLERK OF CIRCUIT COURT, 20 WEST COURTLAND STREET, BEL AIR, MARYLAND 21014',\n",
       "  'Date of Issue': '5/29/2018',\n",
       "  'License Status': 'Issued',\n",
       "  'License No.': '12341351',\n",
       "  'Control No.': '12958340',\n",
       "  'Amount Paid': '$ 68.50'},\n",
       " {'url': 'https://jportal.mdcourts.gov/license/pbLicenseDetail.jsp?owi=0SOjpE6etdQ%3D',\n",
       "  'mailing_addr': 'WALKER TRADING COMPANY INC, 11600 CROSSROADS CIRCLE, SUITE E',\n",
       "  'location_addr': 'VAPE DOJO, 331 GAMBRILLS ROAD',\n",
       "  'name': 'Location Address',\n",
       "  'issuer': 'ROBERT P. DUCKWORTH, CLERK OF CIRCUIT COURT, 8 CHURCH CIRCLE, ROOM H-101, ANNAPOLIS, MARYLAND 21401',\n",
       "  'Date of Issue': '6/01/2018',\n",
       "  'License Status': 'Issued',\n",
       "  'License No.': '02310917',\n",
       "  'Control No.': '02111914',\n",
       "  'Amount Paid': '$ 118.50'},\n",
       " {'name': 'VAPE FROG', 'License Status': 'PENDING'},\n",
       " {'name': 'VAPE LOFT THE', 'License Status': 'PENDING'},\n",
       " {'name': 'VAPE N CIGAR', 'License Status': 'PENDING'},\n",
       " {'name': 'VAPE DOJO', 'License Status': 'PENDING'},\n",
       " {'name': 'VAPE HAVEN', 'License Status': 'PENDING'},\n",
       " {'name': 'VAPORS LOUNGE', 'License Status': 'PENDING'},\n",
       " {'name': 'VAPORFI SOUTHSIDE', 'License Status': 'PENDING'},\n",
       " {'name': 'JENS VAPOR LLC', 'License Status': 'PENDING'},\n",
       " {'name': 'VAPE DO JO', 'License Status': 'PENDING'},\n",
       " {'name': 'VAPERTETMD', 'License Status': 'PENDING'},\n",
       " {'name': 'VAPORIOT', 'License Status': 'PENDING'},\n",
       " {'name': 'VAPE SOCIAL', 'License Status': 'PENDING'},\n",
       " {'name': 'VAPE SOCIAL LLC', 'License Status': 'PENDING'},\n",
       " {'name': 'VAPE JUNGLE LLC', 'License Status': 'PENDING'},\n",
       " {'name': 'VAPE TIME', 'License Status': 'PENDING'},\n",
       " {'name': 'VAPE TIME LLC', 'License Status': 'PENDING'},\n",
       " {'name': 'VAPEBAR EXPESS', 'License Status': 'PENDING'},\n",
       " {'name': 'VAPEBAR EXPRESS LLC', 'License Status': 'PENDING'},\n",
       " {'name': 'VAPEWERKS LLC', 'License Status': 'PENDING'},\n",
       " {'name': 'VAPIST MD LLC', 'License Status': 'PENDING'},\n",
       " {'name': 'VAPOR 99', 'License Status': 'PENDING'},\n",
       " {'name': 'VAPOR 99 LLC', 'License Status': 'PENDING'},\n",
       " {'name': 'VAPOR ALLEY LLC', 'License Status': 'PENDING'},\n",
       " {'name': 'VAPOR EMPORIUM', 'License Status': 'PENDING'},\n",
       " {'name': 'VAPOR EMPORIUM MD LLC', 'License Status': 'PENDING'},\n",
       " {'name': 'VAPOR VILLA', 'License Status': 'PENDING'},\n",
       " {'name': 'VAPOR VILLA CORP', 'License Status': 'PENDING'},\n",
       " {'name': 'VAPORS LOUNGE LLC', 'License Status': 'PENDING'}]"
      ]
     },
     "execution_count": 10,
     "metadata": {},
     "output_type": "execute_result"
    }
   ],
   "source": [
    "all_shops = []\n",
    "for url in urls:\n",
    "    driver.get(url)\n",
    "    all_shop_details = driver.find_elements_by_tag_name('td')[23].text.split(\"\\n\") + driver.find_elements_by_tag_name('td')[27].text.split(\"\\n\")\n",
    "    shop_details = {}\n",
    "    shop_details['url'] = url\n",
    "    shop_details['mailing_addr'] = all_shop_details[4] + \", \" + all_shop_details[5] + \", \" + all_shop_details[6].split(' L')[0]\n",
    "    shop_details['location_addr'] = all_shop_details[15] + \", \" + all_shop_details[16]\n",
    "    shop_details['name'] = all_shop_details[14]\n",
    "    shop_details['issuer'] = all_shop_details[-7] + \", \" + all_shop_details[-6] + \", \" + all_shop_details[-5]\n",
    "    further_info = ['Date of Issue', 'License Status', 'License No.', 'Control No.', 'Amount Paid']\n",
    "    try:\n",
    "        for item in further_info:\n",
    "            shop_details[item] = [info for info in all_shop_details if item in info][0].split(':')[1].strip()\n",
    "    except:\n",
    "        print('Error on page: {}'.format(url))\n",
    "    all_shops.append(shop_details)\n",
    "\n",
    "for name in store_names:\n",
    "    if name not in [n['name'] for n in all_shops]:\n",
    "        all_shops.append({'name' : name, 'License Status' : 'PENDING'})\n",
    "\n",
    "all_shops"
   ]
  },
  {
   "cell_type": "markdown",
   "metadata": {
    "collapsed": true
   },
   "source": [
    "Okay, now let's get to action. For each result, **click the link to the detail page** and print out the following information:\n",
    "\n",
    "- Mailing address\n",
    "- Location address\n",
    "- License information (you can keep it as one field)\n",
    "- Total amount paid\n",
    "- Issued by\n",
    "- If you're feeling crazy, get the licenses, too.\n",
    "\n",
    "If it doesn't have a detail page, just print out the name and that's all we need.\n",
    "\n",
    "- *TIP: When you're done getting the information, you probably want to click back to the search results*\n",
    "- *TIP: You might enjoy `find_element_by_partial_link_text` to do that*\n",
    "- *TIP: Licenses can be acquired by doing some really odd list slicing - think about where it starts and where it ends, relative to the beginning and end of everything.*\n",
    "\n",
    "> **IMPORTANT NOTE:** This is doomed. It's useful to do, but your current process is doomed. Once you get a `stale element reference` error move on to the next cell."
   ]
  },
  {
   "cell_type": "code",
   "execution_count": null,
   "metadata": {},
   "outputs": [],
   "source": []
  },
  {
   "cell_type": "markdown",
   "metadata": {},
   "source": [
    "### Stale message reference\n",
    "\n",
    "Once you navigate away from a page, and you go back to it, you can't use the variables from the first time you were on the page. So, we got a list of results when we first visited, clicked to the details page, clicked back, and now our original list is \"stale.\"\n",
    "\n",
    "This is sad.\n",
    "\n",
    "Let's try this again: loop through the results and create a dataframe with `name` and `url` columns. And yes, some of them won't have URLs."
   ]
  },
  {
   "cell_type": "code",
   "execution_count": null,
   "metadata": {},
   "outputs": [],
   "source": []
  },
  {
   "cell_type": "markdown",
   "metadata": {},
   "source": [
    "### Getting all of the results\n",
    "\n",
    "After you've looped through the results on one page, we're going to want to go to the next page! Add a line to make it click the 'Next' button down at the bottom\n",
    "\n",
    "- *Tip: `find_element_by_partial_link_text` will be your friend*\n",
    "- *Tip: You might need to do the scrolling thing to get it onto the screen (and by that I mean, you WILL need to, so you should)*\n",
    "\n",
    "Confirm that it moves to the next page (it doesn't need to scrape anything yet)"
   ]
  },
  {
   "cell_type": "code",
   "execution_count": null,
   "metadata": {},
   "outputs": [],
   "source": []
  },
  {
   "cell_type": "markdown",
   "metadata": {},
   "source": [
    "### Wrapping with `while`\n",
    "\n",
    "> Go back to the first page of results before you try to run this\n",
    "\n",
    "You have a bunch of scraping code. It clicks the next button, then it stops. But you'd like it to go back up to the top! You can make that happen with a special `while` loop.\n",
    "\n",
    "```python\n",
    "while True:\n",
    "    # Scrape your stuff\n",
    "    # Click next button\n",
    "```\n",
    "\n",
    "This will go on FOREVER AND EVER until there is an error (when it can't find the Next button on the last page of results, you'll get an error).\n",
    "\n",
    "- *Tip: Print out \"Scraping a new page\" every time you visit a new page, just to check that it's working*"
   ]
  },
  {
   "cell_type": "code",
   "execution_count": null,
   "metadata": {},
   "outputs": [],
   "source": []
  },
  {
   "cell_type": "markdown",
   "metadata": {},
   "source": [
    "### Making it perfect\n",
    "\n",
    "> Go back to the first page of results before you try to run this\n",
    "\n",
    "Wrap all of your code in a `try`/`except` so that it doesn't finish with an error and you'll be good to go.\n",
    "\n",
    "**Confirm your list has all of the vape shops in it.** If not, check where you are creating your empty list (`[]`) - if you do it in the wrong spot, it will overwrite your list every time you visit a page."
   ]
  },
  {
   "cell_type": "code",
   "execution_count": 16,
   "metadata": {},
   "outputs": [],
   "source": [
    "def get_all_urls():\n",
    "    all_urls = {}\n",
    "    store_names = []\n",
    "    try:\n",
    "        while driver.find_element_by_xpath('/html/body/table[2]/tbody/tr[4]/td[2]/table[2]/tbody/tr/td[3]/a') != None:\n",
    "            url_test = driver.find_elements_by_tag_name('a')\n",
    "            for a in url_test[10:]:\n",
    "                if 'LicenseDetail' in a.get_attribute('href'):\n",
    "                    all_urls['url'] = a.get_attribute('href')\n",
    "                    all_urls['name'] = a.find_element_by_name('img').get_attribute('alt').split('of ')[1]\n",
    "            store_names = store_names + [name.text for name in driver.find_elements_by_tag_name('td') if 'VAP' in name.text][1:]\n",
    "            for name in store_names:\n",
    "                if name not in [n['name'] for n in all_urls]:\n",
    "                    all_urls.append({'name' : name, 'url' : np.nan})\n",
    "            \n",
    "            driver.find_element_by_xpath('/html/body/table[2]/tbody/tr[4]/td[2]/table[2]/tbody/tr/td[3]/a').click()\n",
    "    except:\n",
    "        pass\n",
    "    return pd.Series(all_urls)"
   ]
  },
  {
   "cell_type": "markdown",
   "metadata": {},
   "source": [
    "### Save this data as a csv\n",
    "\n",
    "The filename should be `vape-shops-basic.csv`."
   ]
  },
  {
   "cell_type": "code",
   "execution_count": 48,
   "metadata": {},
   "outputs": [
    {
     "name": "stdout",
     "output_type": "stream",
     "text": [
      "All pages scraped\n",
      "VAPEZ YARDHOUSE\n",
      "++++\n"
     ]
    },
    {
     "data": {
      "text/plain": [
       "0    {'name': 'VAPE DOJO', 'url': 'https://jportal....\n",
       "1    {'name': 'VAPE DOJO', 'url': 'https://jportal....\n",
       "2    {'name': 'VAPERS RING', 'url': 'https://jporta...\n",
       "3              {'name': 'VAPEZ YARDHOUSE', 'url': nan}\n",
       "dtype: object"
      ]
     },
     "execution_count": 48,
     "metadata": {},
     "output_type": "execute_result"
    }
   ],
   "source": [
    "all_urls = []\n",
    "store_names = []\n",
    "try:\n",
    "    while len(store_names) < 1000:\n",
    "#        driver.find_element_by_xpath('/html/body/table[2]/tbody/tr[4]/td[2]/table[2]/tbody/tr/td[3]/a') != None:\n",
    "        url_test = driver.find_elements_by_tag_name('a')\n",
    "        store_names = store_names + [name.text for name in driver.find_elements_by_tag_name('td') if 'VAP' in name.text][1:] \n",
    "        for a in url_test[10:]:\n",
    "            if 'LicenseDetail' in a.get_attribute('href'):\n",
    "                this_url = {}\n",
    "                #print('---')\n",
    "                this_url['name'] = a.find_element_by_tag_name('img').get_attribute('alt').split('of ')[1]\n",
    "                this_url['url'] = a.get_attribute('href')\n",
    "                all_urls.append(this_url)\n",
    "                #print(all_urls)\n",
    "      \n",
    "        driver.find_element_by_xpath('/html/body/table[2]/tbody/tr[4]/td[2]/table[2]/tbody/tr/td[3]/a').click()\n",
    "        print('Next Page')\n",
    "except:\n",
    "    print('All pages scraped')\n",
    "    pass\n",
    "for name in store_names:\n",
    "    if name not in [n['name'] for n in all_urls]:\n",
    "        print(name)\n",
    "        all_urls.append({'name' : name, 'url' : np.nan})\n",
    "\n",
    "print('++++')\n",
    "pd.Series(all_urls)"
   ]
  },
  {
   "cell_type": "code",
   "execution_count": 47,
   "metadata": {},
   "outputs": [
    {
     "ename": "AttributeError",
     "evalue": "module 'pandas' has no attribute 'all_urls'",
     "output_type": "error",
     "traceback": [
      "\u001b[0;31m---------------------------------------------------------------------------\u001b[0m",
      "\u001b[0;31mAttributeError\u001b[0m                            Traceback (most recent call last)",
      "\u001b[0;32m<ipython-input-47-83af254c5ee5>\u001b[0m in \u001b[0;36m<module>\u001b[0;34m()\u001b[0m\n\u001b[0;32m----> 1\u001b[0;31m \u001b[0mdf\u001b[0m \u001b[0;34m=\u001b[0m \u001b[0mpd\u001b[0m\u001b[0;34m.\u001b[0m\u001b[0mall_urls\u001b[0m\u001b[0;34m\u001b[0m\u001b[0m\n\u001b[0m",
      "\u001b[0;31mAttributeError\u001b[0m: module 'pandas' has no attribute 'all_urls'"
     ]
    }
   ],
   "source": [
    "df = all_urls"
   ]
  },
  {
   "cell_type": "markdown",
   "metadata": {},
   "source": [
    "# Okay, let's scrape!\n",
    "\n",
    "All right, get the actual data!\n",
    "\n",
    "### Look at the URL of your first row\n",
    "\n",
    "- *TIP: Remember `pd.set_option('display.max_colwidth', -1)` will let you see alllll of your strings*"
   ]
  },
  {
   "cell_type": "code",
   "execution_count": null,
   "metadata": {},
   "outputs": [],
   "source": []
  },
  {
   "cell_type": "markdown",
   "metadata": {},
   "source": [
    "### Use Selenium to visit that page"
   ]
  },
  {
   "cell_type": "code",
   "execution_count": null,
   "metadata": {},
   "outputs": [],
   "source": []
  },
  {
   "cell_type": "markdown",
   "metadata": {},
   "source": [
    "### Now, just like you did before, grab the additional data\n",
    "\n",
    "You should probably save it into a dictionary! Don't try to put it into the dataframe yet, though. You want:\n",
    "\n",
    "- Mailing address\n",
    "- Location address\n",
    "- License information (you can keep it as one field)\n",
    "- Total amount paid\n",
    "- Issued by\n",
    "- If you're feeling crazy, get the licenses, too.\n",
    "\n",
    ".\n",
    "\n",
    "- *TIP: Licenses can be acquired by doing some really odd list slicing - think about where it starts and where it ends, relative to the beginning and end of everything.*\n",
    "- *TIP: If you've gotten addicted to xpath, total amount paid and issued by might not work with it when doing other shops. You'll want to test it!*"
   ]
  },
  {
   "cell_type": "code",
   "execution_count": null,
   "metadata": {},
   "outputs": [],
   "source": []
  },
  {
   "cell_type": "markdown",
   "metadata": {},
   "source": [
    "### Move all of this into one cell\n",
    "\n",
    "It should visit the URL, then grab the data and put it into a dictionary."
   ]
  },
  {
   "cell_type": "code",
   "execution_count": null,
   "metadata": {},
   "outputs": [],
   "source": []
  },
  {
   "cell_type": "markdown",
   "metadata": {},
   "source": [
    "### Change it into a function\n",
    "\n",
    "You'll want to have this function accept a `row`, and send back a `pd.Series`. You can just use `pd.Series(your_dictionary)` (but it better have a better name than `your_dictionary`!).\n",
    "\n",
    "- *TIP: Make sure you `return` something!*\n",
    "- *TIP: Make sure you change everything to reflect the row's url, not the URL you typed in*"
   ]
  },
  {
   "cell_type": "code",
   "execution_count": 12,
   "metadata": {},
   "outputs": [],
   "source": [
    "def get_compinfo(url):\n",
    "    driver.get(url)\n",
    "    all_shop_details = driver.find_elements_by_tag_name('td')[23].text.split(\"\\n\") + driver.find_elements_by_tag_name('td')[27].text.split(\"\\n\")\n",
    "    shop_details = {}\n",
    "    shop_details['mailing_addr'] = all_shop_details[4] + \", \" + all_shop_details[5] + \", \" + all_shop_details[6].split(' L')[0]\n",
    "    shop_details['location_addr'] = all_shop_details[15] + \", \" + all_shop_details[16]\n",
    "    shop_details['issuer'] = all_shop_details[-7] + \", \" + all_shop_details[-6] + \", \" + all_shop_details[-5]\n",
    "    further_info = ['Date of Issue', 'License Status', 'License No.', 'Control No.', 'Amount Paid']\n",
    "    try:\n",
    "        for item in further_info:\n",
    "            shop_details[item] = [info for info in all_shop_details if item in info][0].split(':')[1].strip()\n",
    "    except:\n",
    "        print('Error on page: {}'.format(url))\n",
    "    return pd.Serie(shop_details)"
   ]
  },
  {
   "cell_type": "markdown",
   "metadata": {},
   "source": [
    "### Use your dataframe and `.apply` to pull all of the data from the vape shops\n",
    "\n",
    "Once you know it's working, use the whole \n",
    "\n",
    "- *TIP: Try using it with `.head(3)` first*\n",
    "- *TIP: You'll want to use `.apply` with your new function*\n",
    "- *TIP: Issued By and Total Paid are goign to give you problems if you tried to use xpath! Try checking the classes and think about find_elementSSSSS and working backwards instead of forwards.*\n",
    "- *TIP: You might need a `try`/`except`*\n",
    "- *TIP: Make sure you're using `axis=1`*\n",
    "- *TIP: Use `.join` the big thing with all of the `dfs` - make sure you name them right!*"
   ]
  },
  {
   "cell_type": "code",
   "execution_count": null,
   "metadata": {},
   "outputs": [],
   "source": []
  },
  {
   "cell_type": "markdown",
   "metadata": {},
   "source": [
    "## Save as `vape-total.csv`\n",
    "\n",
    "Make sure you don't save the index! Open it up in a text editor or Excel to make sure it's correct."
   ]
  },
  {
   "cell_type": "code",
   "execution_count": null,
   "metadata": {},
   "outputs": [],
   "source": []
  },
  {
   "cell_type": "code",
   "execution_count": null,
   "metadata": {},
   "outputs": [],
   "source": []
  }
 ],
 "metadata": {
  "kernelspec": {
   "display_name": "Python 3",
   "language": "python",
   "name": "python3"
  },
  "language_info": {
   "codemirror_mode": {
    "name": "ipython",
    "version": 3
   },
   "file_extension": ".py",
   "mimetype": "text/x-python",
   "name": "python",
   "nbconvert_exporter": "python",
   "pygments_lexer": "ipython3",
   "version": "3.6.5"
  }
 },
 "nbformat": 4,
 "nbformat_minor": 2
}
