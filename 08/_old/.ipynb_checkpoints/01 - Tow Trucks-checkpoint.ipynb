{
 "cells": [
  {
   "cell_type": "markdown",
   "metadata": {},
   "source": [
    "# Texas Tow Trucks\n",
    "\n",
    "We're going to scrape some [tow trucks in Texas](https://www.tdlr.texas.gov/tools_search/)."
   ]
  },
  {
   "cell_type": "markdown",
   "metadata": {},
   "source": [
    "## Import your imports"
   ]
  },
  {
   "cell_type": "code",
   "execution_count": 1,
   "metadata": {},
   "outputs": [],
   "source": [
    "import pandas as pd\n",
    "import time\n",
    "from selenium import webdriver\n",
    "from selenium.webdriver.common.keys import Keys\n",
    "from selenium.webdriver.support.ui import Select\n",
    "from selenium.webdriver.support.ui import WebDriverWait"
   ]
  },
  {
   "cell_type": "markdown",
   "metadata": {},
   "source": [
    "## Search for the TLDR Number `006179570C`, and scrape the information on that company\n",
    "\n",
    "Using [license information system](https://www.tdlr.texas.gov/tools_search/), find information about the tow truck number above, displaying the\n",
    "\n",
    "- The business name\n",
    "- Owner/operator\n",
    "- Phone number\n",
    "- License status (Active, Expired, Etc)\n",
    "- Physical address\n",
    "\n",
    "If you can't figure a 'nice' way to locate something, your two last options might be:\n",
    "\n",
    "- **Find a \"parent\" element, then dig inside**\n",
    "- **Find all of a type of element** (like we did with `td` before) and get the `[0]`, `[1]`, `[2]`, etc\n",
    "- **XPath** (inspect an element, Copy > Copy XPath)\n",
    "\n",
    "These kinds of techniques tend to break when you're on other result pages, but... maybe not! You won't know until you try.\n",
    "\n",
    "> - *TIP: When you use xpath, you CANNOT use double quotes or Python will get confused. Use single quotes.*\n",
    "> - *TIP: You can clean your data up if you want to, or leave it dirty to clean later*\n",
    "> - *TIP: The address part can be tough, but you have a few options. You can use a combination of `.split` and list slicing to clean it now, or clean it later in the dataframe with regular expressions. Or other options, too, probably*"
   ]
  },
  {
   "cell_type": "code",
   "execution_count": 2,
   "metadata": {},
   "outputs": [],
   "source": [
    "driver = webdriver.Chrome()\n",
    "driver.get('https://www.tdlr.texas.gov/tools_search/')"
   ]
  },
  {
   "cell_type": "code",
   "execution_count": 3,
   "metadata": {},
   "outputs": [],
   "source": [
    "key = '006179570C'\n",
    "number = driver.find_element_by_name('mcrdata')\n",
    "number.send_keys(key)\n",
    "time.sleep(1)\n",
    "number.send_keys(Keys.RETURN)"
   ]
  },
  {
   "cell_type": "code",
   "execution_count": 4,
   "metadata": {},
   "outputs": [
    {
     "data": {
      "text/plain": [
       "{'Name': 'B.D. SMITH TOWING',\n",
       " 'Owner/Officer': 'BRANDT SMITH / OWNER',\n",
       " 'Phone': '8173330706',\n",
       " 'Status': 'Expired',\n",
       " 'address': '13619 BRETT JACKSON RD.FORT WORTH, TX. 76179'}"
      ]
     },
     "execution_count": 4,
     "metadata": {},
     "output_type": "execute_result"
    }
   ],
   "source": [
    "company_info = {}\n",
    "company_info_raw = driver.find_elements_by_tag_name('table')\n",
    "# There are multiple tables, I only care about the 4th and 5th. \n",
    "# I combine the two to make it easier to loop through them \n",
    "segments = company_info_raw[3].find_elements_by_tag_name('td') + company_info_raw[4].find_elements_by_tag_name('td')\n",
    "# the info I want is at the following positions:\n",
    "# (Except for some companies, but I'll solve this with the function later)\n",
    "stuff_i_want = [2,4,6,9]\n",
    "for n in stuff_i_want:\n",
    "    # I can get the key name from the data by splitting the string at the ':', except for the address\n",
    "    company_info[segments[n].text.split(':')[0].strip()] = segments[n].text.split(':')[1].strip()\n",
    "company_info['address'] = segments[11].text.replace('\\n','').split('al:')[1]\n",
    "company_info\n",
    "\n"
   ]
  },
  {
   "cell_type": "markdown",
   "metadata": {},
   "source": [
    "# Adapt this to work inside of a single cell\n",
    "\n",
    "Double-check that it works. You want it to print out all of the details."
   ]
  },
  {
   "cell_type": "code",
   "execution_count": 5,
   "metadata": {},
   "outputs": [
    {
     "data": {
      "text/plain": [
       "{'Name': 'B.D. SMITH TOWING',\n",
       " 'Owner/Officer': 'BRANDT SMITH / OWNER',\n",
       " 'Phone': '8173330706',\n",
       " 'Status': 'Expired',\n",
       " 'address': '13619 BRETT JACKSON RD.FORT WORTH, TX. 76179'}"
      ]
     },
     "execution_count": 5,
     "metadata": {},
     "output_type": "execute_result"
    }
   ],
   "source": [
    "driver = webdriver.Chrome()\n",
    "driver.get('https://www.tdlr.texas.gov/tools_search/')\n",
    "key = '006179570C'\n",
    "number = driver.find_element_by_name('mcrdata')\n",
    "number.send_keys(key)\n",
    "time.sleep(1)\n",
    "number.send_keys(Keys.RETURN)\n",
    "company_info = {}\n",
    "company_info_raw = driver.find_elements_by_tag_name('table')\n",
    "stuff_i_want = [2,4,6,9]\n",
    "segments = company_info_raw[3].find_elements_by_tag_name('td') + company_info_raw[4].find_elements_by_tag_name('td')\n",
    "for n in stuff_i_want:\n",
    "    company_info[segments[n].text.split(':')[0].strip()] = segments[n].text.split(':')[1].strip()\n",
    "company_info['address'] = segments[11].text.replace('\\n','').split('al:')[1]\n",
    "company_info\n"
   ]
  },
  {
   "cell_type": "markdown",
   "metadata": {},
   "source": [
    "# Using .apply to find data about SEVERAL tow truck companies\n",
    "\n",
    "The file `trucks-subset.csv` has information about the trucks, we'll use it to find the pages to scrape.\n",
    "\n",
    "### Open up `trucks-subset.csv` and save it into a dataframe"
   ]
  },
  {
   "cell_type": "code",
   "execution_count": 6,
   "metadata": {},
   "outputs": [],
   "source": [
    "df = pd.read_csv('trucks-subset.csv')"
   ]
  },
  {
   "cell_type": "code",
   "execution_count": 7,
   "metadata": {},
   "outputs": [
    {
     "data": {
      "text/html": [
       "<div>\n",
       "<style scoped>\n",
       "    .dataframe tbody tr th:only-of-type {\n",
       "        vertical-align: middle;\n",
       "    }\n",
       "\n",
       "    .dataframe tbody tr th {\n",
       "        vertical-align: top;\n",
       "    }\n",
       "\n",
       "    .dataframe thead th {\n",
       "        text-align: right;\n",
       "    }\n",
       "</style>\n",
       "<table border=\"1\" class=\"dataframe\">\n",
       "  <thead>\n",
       "    <tr style=\"text-align: right;\">\n",
       "      <th></th>\n",
       "      <th>TDLR Number</th>\n",
       "    </tr>\n",
       "  </thead>\n",
       "  <tbody>\n",
       "    <tr>\n",
       "      <th>0</th>\n",
       "      <td>006507931C</td>\n",
       "    </tr>\n",
       "    <tr>\n",
       "      <th>1</th>\n",
       "      <td>006179570C</td>\n",
       "    </tr>\n",
       "    <tr>\n",
       "      <th>2</th>\n",
       "      <td>006502097C</td>\n",
       "    </tr>\n",
       "  </tbody>\n",
       "</table>\n",
       "</div>"
      ],
      "text/plain": [
       "  TDLR Number\n",
       "0  006507931C\n",
       "1  006179570C\n",
       "2  006502097C"
      ]
     },
     "execution_count": 7,
     "metadata": {},
     "output_type": "execute_result"
    }
   ],
   "source": [
    "df.head()"
   ]
  },
  {
   "cell_type": "markdown",
   "metadata": {},
   "source": [
    "## Go through each row of the dataset, displaying the URL you will need to scrape for the information on that row\n",
    "\n",
    "You don't have to actually use the search form for each of these - look at the URL you're on, it has the number in it!\n",
    "\n",
    "For example, one URL might look like `https://www.tdlr.texas.gov/tools_search/mccs_display.asp?mcrnumber=006495492C`.\n",
    "\n",
    "- *TIP: Use .apply and a function*\n",
    "- *TIP: Unlike the Yelp example, you'll need to build this URL from pieces*\n",
    "- *TIP: You probably don't want to `print` unless you're going to fix it for the next question \n",
    "- *TIP: pandas won't showing you the entire url! Run `pd.set_option('display.max_colwidth', -1)` to display aaaalll of the text in a cell*"
   ]
  },
  {
   "cell_type": "code",
   "execution_count": 8,
   "metadata": {},
   "outputs": [],
   "source": [
    "def get_url(num):\n",
    "    return 'https://www.tdlr.texas.gov/tools_search/mccs_display.asp?mcrnumber=' + str(num)"
   ]
  },
  {
   "cell_type": "code",
   "execution_count": 9,
   "metadata": {},
   "outputs": [
    {
     "data": {
      "text/plain": [
       "0    https://www.tdlr.texas.gov/tools_search/mccs_display.asp?mcrnumber=006507931C\n",
       "1    https://www.tdlr.texas.gov/tools_search/mccs_display.asp?mcrnumber=006179570C\n",
       "2    https://www.tdlr.texas.gov/tools_search/mccs_display.asp?mcrnumber=006502097C\n",
       "Name: TDLR Number, dtype: object"
      ]
     },
     "execution_count": 9,
     "metadata": {},
     "output_type": "execute_result"
    }
   ],
   "source": [
    "pd.set_option('display.max_colwidth', -1)\n",
    "df['TDLR Number'].apply(get_url)"
   ]
  },
  {
   "cell_type": "markdown",
   "metadata": {},
   "source": [
    "### Save this URL into a new column of your dataframe, called `url`\n",
    "\n",
    "- *TIP: Use a function and `.apply`*\n",
    "- *TIP: Be sure to use `return`*"
   ]
  },
  {
   "cell_type": "code",
   "execution_count": 10,
   "metadata": {},
   "outputs": [],
   "source": [
    "df['url'] = df['TDLR Number'].apply(get_url)"
   ]
  },
  {
   "cell_type": "code",
   "execution_count": 11,
   "metadata": {},
   "outputs": [
    {
     "data": {
      "text/html": [
       "<div>\n",
       "<style scoped>\n",
       "    .dataframe tbody tr th:only-of-type {\n",
       "        vertical-align: middle;\n",
       "    }\n",
       "\n",
       "    .dataframe tbody tr th {\n",
       "        vertical-align: top;\n",
       "    }\n",
       "\n",
       "    .dataframe thead th {\n",
       "        text-align: right;\n",
       "    }\n",
       "</style>\n",
       "<table border=\"1\" class=\"dataframe\">\n",
       "  <thead>\n",
       "    <tr style=\"text-align: right;\">\n",
       "      <th></th>\n",
       "      <th>TDLR Number</th>\n",
       "      <th>url</th>\n",
       "    </tr>\n",
       "  </thead>\n",
       "  <tbody>\n",
       "    <tr>\n",
       "      <th>0</th>\n",
       "      <td>006507931C</td>\n",
       "      <td>https://www.tdlr.texas.gov/tools_search/mccs_display.asp?mcrnumber=006507931C</td>\n",
       "    </tr>\n",
       "    <tr>\n",
       "      <th>1</th>\n",
       "      <td>006179570C</td>\n",
       "      <td>https://www.tdlr.texas.gov/tools_search/mccs_display.asp?mcrnumber=006179570C</td>\n",
       "    </tr>\n",
       "    <tr>\n",
       "      <th>2</th>\n",
       "      <td>006502097C</td>\n",
       "      <td>https://www.tdlr.texas.gov/tools_search/mccs_display.asp?mcrnumber=006502097C</td>\n",
       "    </tr>\n",
       "  </tbody>\n",
       "</table>\n",
       "</div>"
      ],
      "text/plain": [
       "  TDLR Number  \\\n",
       "0  006507931C   \n",
       "1  006179570C   \n",
       "2  006502097C   \n",
       "\n",
       "                                                                             url  \n",
       "0  https://www.tdlr.texas.gov/tools_search/mccs_display.asp?mcrnumber=006507931C  \n",
       "1  https://www.tdlr.texas.gov/tools_search/mccs_display.asp?mcrnumber=006179570C  \n",
       "2  https://www.tdlr.texas.gov/tools_search/mccs_display.asp?mcrnumber=006502097C  "
      ]
     },
     "execution_count": 11,
     "metadata": {},
     "output_type": "execute_result"
    }
   ],
   "source": [
    "df.head()"
   ]
  },
  {
   "cell_type": "markdown",
   "metadata": {},
   "source": [
    "## Go through each row of the dataset, printing out information about each tow truck company.\n",
    "\n",
    "Now will be **scraping** inside of your function.\n",
    "\n",
    "- The business name\n",
    "- Owner/operator\n",
    "- Phone number\n",
    "- License status (Active, Expired, Etc)\n",
    "- Physical address\n",
    "\n",
    "Just print it out for now.\n",
    "\n",
    "- *TIP: use .apply*\n",
    "- *TIP: You'll be using the code you wrote before, but converted into a function*\n",
    "- *TIP: Remember how the TDLR Number is in the URL? You don't need to do the form submission if you don't want!*\n",
    "- *TIP: Make sure you adjust any variables so you don't scrape the same page again and again*"
   ]
  },
  {
   "cell_type": "code",
   "execution_count": 12,
   "metadata": {},
   "outputs": [],
   "source": [
    "def get_cominfo(url):\n",
    "    driver.get(url)\n",
    "    company_info = {}\n",
    "    company_info_raw = driver.find_elements_by_tag_name('table')\n",
    "    stuff_i_want = [2,4,6,9]\n",
    "    segments = company_info_raw[3].find_elements_by_tag_name('td') + company_info_raw[4].find_elements_by_tag_name('td')\n",
    "    # Things get a bit weird for some of the companies in the larger set, as they have 2 owners.\n",
    "    # I copy the info of Owner #2 to the dictionary and delete the list item (and the following empty item, too)\n",
    "    # Now the company loops like all the others\n",
    "    if 'Owner' in segments[6].text:\n",
    "        company_info['Owner/Officer_2'] = segments[6].text.split(':')[1].strip()\n",
    "        del segments[6]\n",
    "        del segments[6]\n",
    "    # Let's also make it a bit more failsafe, because why not\n",
    "    try:    \n",
    "        for n in stuff_i_want:\n",
    "            company_info[segments[n].text.split(':')[0].strip()] = segments[n].text.split(':')[1].strip()\n",
    "        company_info['address'] = segments[11].text.replace('\\n','').split('al:')[1]\n",
    "    except:\n",
    "        print('Theres a problem with this page: {}'.format(url))\n",
    "    return pd.Series(company_info)\n",
    "    "
   ]
  },
  {
   "cell_type": "code",
   "execution_count": 13,
   "metadata": {},
   "outputs": [
    {
     "data": {
      "text/html": [
       "<div>\n",
       "<style scoped>\n",
       "    .dataframe tbody tr th:only-of-type {\n",
       "        vertical-align: middle;\n",
       "    }\n",
       "\n",
       "    .dataframe tbody tr th {\n",
       "        vertical-align: top;\n",
       "    }\n",
       "\n",
       "    .dataframe thead th {\n",
       "        text-align: right;\n",
       "    }\n",
       "</style>\n",
       "<table border=\"1\" class=\"dataframe\">\n",
       "  <thead>\n",
       "    <tr style=\"text-align: right;\">\n",
       "      <th></th>\n",
       "      <th>Name</th>\n",
       "      <th>Owner/Officer</th>\n",
       "      <th>Phone</th>\n",
       "      <th>Status</th>\n",
       "      <th>address</th>\n",
       "    </tr>\n",
       "  </thead>\n",
       "  <tbody>\n",
       "    <tr>\n",
       "      <th>0</th>\n",
       "      <td>AUGUSTUS E SMITH</td>\n",
       "      <td>AUGUSTUS EUGENE SMITH / OWNER</td>\n",
       "      <td>9032276464</td>\n",
       "      <td>Active</td>\n",
       "      <td>103 N MAIN STBONHAM, TX. 75418</td>\n",
       "    </tr>\n",
       "    <tr>\n",
       "      <th>1</th>\n",
       "      <td>B.D. SMITH TOWING</td>\n",
       "      <td>BRANDT SMITH / OWNER</td>\n",
       "      <td>8173330706</td>\n",
       "      <td>Expired</td>\n",
       "      <td>13619 BRETT JACKSON RD.FORT WORTH, TX. 76179</td>\n",
       "    </tr>\n",
       "    <tr>\n",
       "      <th>2</th>\n",
       "      <td>BARRY MICHAEL SMITH</td>\n",
       "      <td>BARRY MICHAEL SMITH / OWNER</td>\n",
       "      <td>8066544404</td>\n",
       "      <td>Active</td>\n",
       "      <td>4501 W CEMETERY RDCANYON, TX. 79015</td>\n",
       "    </tr>\n",
       "  </tbody>\n",
       "</table>\n",
       "</div>"
      ],
      "text/plain": [
       "                  Name                  Owner/Officer       Phone   Status  \\\n",
       "0  AUGUSTUS E SMITH     AUGUSTUS EUGENE SMITH / OWNER  9032276464  Active    \n",
       "1  B.D. SMITH TOWING    BRANDT SMITH / OWNER           8173330706  Expired   \n",
       "2  BARRY MICHAEL SMITH  BARRY MICHAEL SMITH / OWNER    8066544404  Active    \n",
       "\n",
       "                                        address  \n",
       "0  103 N MAIN STBONHAM, TX. 75418                \n",
       "1  13619 BRETT JACKSON RD.FORT WORTH, TX. 76179  \n",
       "2  4501 W CEMETERY RDCANYON, TX. 79015           "
      ]
     },
     "execution_count": 13,
     "metadata": {},
     "output_type": "execute_result"
    }
   ],
   "source": [
    "df['url'].apply(get_cominfo)"
   ]
  },
  {
   "cell_type": "markdown",
   "metadata": {},
   "source": [
    "## Scrape the following information for each row of the dataset, and save it into new columns in your dataframe.\n",
    "\n",
    "- The business name\n",
    "- Owner/operator\n",
    "- Phone number\n",
    "- License status (Active, Expired, Etc)\n",
    "- Physical address\n",
    "\n",
    "It's basically what we did before, but using the function a little differently.\n",
    "\n",
    "- *TIP: Same as above, but you'll be returning a `pd.Series` and the `.apply` line is going to be a lot longer*\n",
    "- *TIP: Save it to a new dataframe!*\n",
    "- *TIP: Make sure you change your `df` variable names correctly if you're cutting and pasting - there are a few so it can get tricky*"
   ]
  },
  {
   "cell_type": "code",
   "execution_count": 14,
   "metadata": {},
   "outputs": [
    {
     "data": {
      "text/html": [
       "<div>\n",
       "<style scoped>\n",
       "    .dataframe tbody tr th:only-of-type {\n",
       "        vertical-align: middle;\n",
       "    }\n",
       "\n",
       "    .dataframe tbody tr th {\n",
       "        vertical-align: top;\n",
       "    }\n",
       "\n",
       "    .dataframe thead th {\n",
       "        text-align: right;\n",
       "    }\n",
       "</style>\n",
       "<table border=\"1\" class=\"dataframe\">\n",
       "  <thead>\n",
       "    <tr style=\"text-align: right;\">\n",
       "      <th></th>\n",
       "      <th>Name</th>\n",
       "      <th>Owner/Officer</th>\n",
       "      <th>Phone</th>\n",
       "      <th>Status</th>\n",
       "      <th>address</th>\n",
       "      <th>TDLR Number</th>\n",
       "      <th>url</th>\n",
       "    </tr>\n",
       "  </thead>\n",
       "  <tbody>\n",
       "    <tr>\n",
       "      <th>0</th>\n",
       "      <td>AUGUSTUS E SMITH</td>\n",
       "      <td>AUGUSTUS EUGENE SMITH / OWNER</td>\n",
       "      <td>9032276464</td>\n",
       "      <td>Active</td>\n",
       "      <td>103 N MAIN STBONHAM, TX. 75418</td>\n",
       "      <td>006507931C</td>\n",
       "      <td>https://www.tdlr.texas.gov/tools_search/mccs_display.asp?mcrnumber=006507931C</td>\n",
       "    </tr>\n",
       "    <tr>\n",
       "      <th>1</th>\n",
       "      <td>B.D. SMITH TOWING</td>\n",
       "      <td>BRANDT SMITH / OWNER</td>\n",
       "      <td>8173330706</td>\n",
       "      <td>Expired</td>\n",
       "      <td>13619 BRETT JACKSON RD.FORT WORTH, TX. 76179</td>\n",
       "      <td>006179570C</td>\n",
       "      <td>https://www.tdlr.texas.gov/tools_search/mccs_display.asp?mcrnumber=006179570C</td>\n",
       "    </tr>\n",
       "    <tr>\n",
       "      <th>2</th>\n",
       "      <td>BARRY MICHAEL SMITH</td>\n",
       "      <td>BARRY MICHAEL SMITH / OWNER</td>\n",
       "      <td>8066544404</td>\n",
       "      <td>Active</td>\n",
       "      <td>4501 W CEMETERY RDCANYON, TX. 79015</td>\n",
       "      <td>006502097C</td>\n",
       "      <td>https://www.tdlr.texas.gov/tools_search/mccs_display.asp?mcrnumber=006502097C</td>\n",
       "    </tr>\n",
       "  </tbody>\n",
       "</table>\n",
       "</div>"
      ],
      "text/plain": [
       "                  Name                  Owner/Officer       Phone   Status  \\\n",
       "0  AUGUSTUS E SMITH     AUGUSTUS EUGENE SMITH / OWNER  9032276464  Active    \n",
       "1  B.D. SMITH TOWING    BRANDT SMITH / OWNER           8173330706  Expired   \n",
       "2  BARRY MICHAEL SMITH  BARRY MICHAEL SMITH / OWNER    8066544404  Active    \n",
       "\n",
       "                                        address TDLR Number  \\\n",
       "0  103 N MAIN STBONHAM, TX. 75418                006507931C   \n",
       "1  13619 BRETT JACKSON RD.FORT WORTH, TX. 76179  006179570C   \n",
       "2  4501 W CEMETERY RDCANYON, TX. 79015           006502097C   \n",
       "\n",
       "                                                                             url  \n",
       "0  https://www.tdlr.texas.gov/tools_search/mccs_display.asp?mcrnumber=006507931C  \n",
       "1  https://www.tdlr.texas.gov/tools_search/mccs_display.asp?mcrnumber=006179570C  \n",
       "2  https://www.tdlr.texas.gov/tools_search/mccs_display.asp?mcrnumber=006502097C  "
      ]
     },
     "execution_count": 14,
     "metadata": {},
     "output_type": "execute_result"
    }
   ],
   "source": [
    "df = df['url'].apply(get_cominfo).join(df)\n",
    "df.head()"
   ]
  },
  {
   "cell_type": "markdown",
   "metadata": {},
   "source": [
    "### Save your dataframe as a CSV named `tow-trucks-extended.csv`"
   ]
  },
  {
   "cell_type": "code",
   "execution_count": 15,
   "metadata": {},
   "outputs": [],
   "source": [
    "df.to_csv('tow-trucks-extended.csv', index=False)"
   ]
  },
  {
   "cell_type": "markdown",
   "metadata": {},
   "source": [
    "### Re-open your dataframe to confirm you didn't save any extra weird columns"
   ]
  },
  {
   "cell_type": "code",
   "execution_count": 16,
   "metadata": {},
   "outputs": [
    {
     "data": {
      "text/html": [
       "<div>\n",
       "<style scoped>\n",
       "    .dataframe tbody tr th:only-of-type {\n",
       "        vertical-align: middle;\n",
       "    }\n",
       "\n",
       "    .dataframe tbody tr th {\n",
       "        vertical-align: top;\n",
       "    }\n",
       "\n",
       "    .dataframe thead th {\n",
       "        text-align: right;\n",
       "    }\n",
       "</style>\n",
       "<table border=\"1\" class=\"dataframe\">\n",
       "  <thead>\n",
       "    <tr style=\"text-align: right;\">\n",
       "      <th></th>\n",
       "      <th>Name</th>\n",
       "      <th>Owner/Officer</th>\n",
       "      <th>Phone</th>\n",
       "      <th>Status</th>\n",
       "      <th>address</th>\n",
       "      <th>TDLR Number</th>\n",
       "      <th>url</th>\n",
       "    </tr>\n",
       "  </thead>\n",
       "  <tbody>\n",
       "    <tr>\n",
       "      <th>0</th>\n",
       "      <td>AUGUSTUS E SMITH</td>\n",
       "      <td>AUGUSTUS EUGENE SMITH / OWNER</td>\n",
       "      <td>9032276464</td>\n",
       "      <td>Active</td>\n",
       "      <td>103 N MAIN STBONHAM, TX. 75418</td>\n",
       "      <td>006507931C</td>\n",
       "      <td>https://www.tdlr.texas.gov/tools_search/mccs_display.asp?mcrnumber=006507931C</td>\n",
       "    </tr>\n",
       "    <tr>\n",
       "      <th>1</th>\n",
       "      <td>B.D. SMITH TOWING</td>\n",
       "      <td>BRANDT SMITH / OWNER</td>\n",
       "      <td>8173330706</td>\n",
       "      <td>Expired</td>\n",
       "      <td>13619 BRETT JACKSON RD.FORT WORTH, TX. 76179</td>\n",
       "      <td>006179570C</td>\n",
       "      <td>https://www.tdlr.texas.gov/tools_search/mccs_display.asp?mcrnumber=006179570C</td>\n",
       "    </tr>\n",
       "    <tr>\n",
       "      <th>2</th>\n",
       "      <td>BARRY MICHAEL SMITH</td>\n",
       "      <td>BARRY MICHAEL SMITH / OWNER</td>\n",
       "      <td>8066544404</td>\n",
       "      <td>Active</td>\n",
       "      <td>4501 W CEMETERY RDCANYON, TX. 79015</td>\n",
       "      <td>006502097C</td>\n",
       "      <td>https://www.tdlr.texas.gov/tools_search/mccs_display.asp?mcrnumber=006502097C</td>\n",
       "    </tr>\n",
       "  </tbody>\n",
       "</table>\n",
       "</div>"
      ],
      "text/plain": [
       "                  Name                  Owner/Officer       Phone   Status  \\\n",
       "0  AUGUSTUS E SMITH     AUGUSTUS EUGENE SMITH / OWNER  9032276464  Active    \n",
       "1  B.D. SMITH TOWING    BRANDT SMITH / OWNER           8173330706  Expired   \n",
       "2  BARRY MICHAEL SMITH  BARRY MICHAEL SMITH / OWNER    8066544404  Active    \n",
       "\n",
       "                                        address TDLR Number  \\\n",
       "0  103 N MAIN STBONHAM, TX. 75418                006507931C   \n",
       "1  13619 BRETT JACKSON RD.FORT WORTH, TX. 76179  006179570C   \n",
       "2  4501 W CEMETERY RDCANYON, TX. 79015           006502097C   \n",
       "\n",
       "                                                                             url  \n",
       "0  https://www.tdlr.texas.gov/tools_search/mccs_display.asp?mcrnumber=006507931C  \n",
       "1  https://www.tdlr.texas.gov/tools_search/mccs_display.asp?mcrnumber=006179570C  \n",
       "2  https://www.tdlr.texas.gov/tools_search/mccs_display.asp?mcrnumber=006502097C  "
      ]
     },
     "execution_count": 16,
     "metadata": {},
     "output_type": "execute_result"
    }
   ],
   "source": [
    "df2 = pd.read_csv('tow-trucks-extended.csv')\n",
    "df2.head()"
   ]
  },
  {
   "cell_type": "markdown",
   "metadata": {},
   "source": [
    "## Process the entire `tow-trucks.csv` file\n",
    "\n",
    "We just did it on a short subset so far. Now try it on all of the tow trucks. **Save as the same filename as before**"
   ]
  },
  {
   "cell_type": "code",
   "execution_count": 17,
   "metadata": {},
   "outputs": [],
   "source": [
    "df_all = pd.read_csv('tow-trucks.csv')"
   ]
  },
  {
   "cell_type": "code",
   "execution_count": 18,
   "metadata": {},
   "outputs": [
    {
     "data": {
      "text/plain": [
       "(20, 2)"
      ]
     },
     "execution_count": 18,
     "metadata": {},
     "output_type": "execute_result"
    }
   ],
   "source": [
    "df_all['url'] = df_all['TDLR Number'].apply(get_url)\n",
    "df_all.shape"
   ]
  },
  {
   "cell_type": "code",
   "execution_count": 20,
   "metadata": {},
   "outputs": [
    {
     "data": {
      "text/plain": [
       "(20, 8)"
      ]
     },
     "execution_count": 20,
     "metadata": {},
     "output_type": "execute_result"
    }
   ],
   "source": [
    "df_all = df_all['url'].apply(get_cominfo).join(df_all)\n",
    "df_all.shape"
   ]
  },
  {
   "cell_type": "code",
   "execution_count": 21,
   "metadata": {},
   "outputs": [
    {
     "data": {
      "text/html": [
       "<div>\n",
       "<style scoped>\n",
       "    .dataframe tbody tr th:only-of-type {\n",
       "        vertical-align: middle;\n",
       "    }\n",
       "\n",
       "    .dataframe tbody tr th {\n",
       "        vertical-align: top;\n",
       "    }\n",
       "\n",
       "    .dataframe thead th {\n",
       "        text-align: right;\n",
       "    }\n",
       "</style>\n",
       "<table border=\"1\" class=\"dataframe\">\n",
       "  <thead>\n",
       "    <tr style=\"text-align: right;\">\n",
       "      <th></th>\n",
       "      <th>Unnamed: 0</th>\n",
       "      <th>Name</th>\n",
       "      <th>Owner/Officer</th>\n",
       "      <th>Phone</th>\n",
       "      <th>Status</th>\n",
       "      <th>address</th>\n",
       "      <th>Owner/Officer_2</th>\n",
       "      <th>TDLR Number</th>\n",
       "      <th>url</th>\n",
       "    </tr>\n",
       "  </thead>\n",
       "  <tbody>\n",
       "    <tr>\n",
       "      <th>0</th>\n",
       "      <td>0</td>\n",
       "      <td>AUGUSTUS E SMITH</td>\n",
       "      <td>AUGUSTUS EUGENE SMITH / OWNER</td>\n",
       "      <td>9032276464</td>\n",
       "      <td>Active</td>\n",
       "      <td>103 N MAIN STBONHAM, TX. 75418</td>\n",
       "      <td>NaN</td>\n",
       "      <td>006507931C</td>\n",
       "      <td>https://www.tdlr.texas.gov/tools_search/mccs_display.asp?mcrnumber=006507931C</td>\n",
       "    </tr>\n",
       "    <tr>\n",
       "      <th>1</th>\n",
       "      <td>1</td>\n",
       "      <td>B.D. SMITH TOWING</td>\n",
       "      <td>BRANDT SMITH / OWNER</td>\n",
       "      <td>8173330706</td>\n",
       "      <td>Expired</td>\n",
       "      <td>13619 BRETT JACKSON RD.FORT WORTH, TX. 76179</td>\n",
       "      <td>NaN</td>\n",
       "      <td>006179570C</td>\n",
       "      <td>https://www.tdlr.texas.gov/tools_search/mccs_display.asp?mcrnumber=006179570C</td>\n",
       "    </tr>\n",
       "    <tr>\n",
       "      <th>2</th>\n",
       "      <td>2</td>\n",
       "      <td>BARRY MICHAEL SMITH</td>\n",
       "      <td>BARRY MICHAEL SMITH / OWNER</td>\n",
       "      <td>8066544404</td>\n",
       "      <td>Active</td>\n",
       "      <td>4501 W CEMETERY RDCANYON, TX. 79015</td>\n",
       "      <td>NaN</td>\n",
       "      <td>006502097C</td>\n",
       "      <td>https://www.tdlr.texas.gov/tools_search/mccs_display.asp?mcrnumber=006502097C</td>\n",
       "    </tr>\n",
       "  </tbody>\n",
       "</table>\n",
       "</div>"
      ],
      "text/plain": [
       "   Unnamed: 0                 Name                  Owner/Officer       Phone  \\\n",
       "0  0           AUGUSTUS E SMITH     AUGUSTUS EUGENE SMITH / OWNER  9032276464   \n",
       "1  1           B.D. SMITH TOWING    BRANDT SMITH / OWNER           8173330706   \n",
       "2  2           BARRY MICHAEL SMITH  BARRY MICHAEL SMITH / OWNER    8066544404   \n",
       "\n",
       "    Status                                       address Owner/Officer_2  \\\n",
       "0  Active   103 N MAIN STBONHAM, TX. 75418                NaN              \n",
       "1  Expired  13619 BRETT JACKSON RD.FORT WORTH, TX. 76179  NaN              \n",
       "2  Active   4501 W CEMETERY RDCANYON, TX. 79015           NaN              \n",
       "\n",
       "  TDLR Number  \\\n",
       "0  006507931C   \n",
       "1  006179570C   \n",
       "2  006502097C   \n",
       "\n",
       "                                                                             url  \n",
       "0  https://www.tdlr.texas.gov/tools_search/mccs_display.asp?mcrnumber=006507931C  \n",
       "1  https://www.tdlr.texas.gov/tools_search/mccs_display.asp?mcrnumber=006179570C  \n",
       "2  https://www.tdlr.texas.gov/tools_search/mccs_display.asp?mcrnumber=006502097C  "
      ]
     },
     "execution_count": 21,
     "metadata": {},
     "output_type": "execute_result"
    }
   ],
   "source": [
    "df_all.to_csv('tow-trucks-extended.csv')\n",
    "df_all2 = pd.read_csv('tow-trucks-extended.csv')\n",
    "df_all2.head(3)"
   ]
  },
  {
   "cell_type": "code",
   "execution_count": null,
   "metadata": {},
   "outputs": [],
   "source": []
  }
 ],
 "metadata": {
  "kernelspec": {
   "display_name": "Python 3",
   "language": "python",
   "name": "python3"
  },
  "language_info": {
   "codemirror_mode": {
    "name": "ipython",
    "version": 3
   },
   "file_extension": ".py",
   "mimetype": "text/x-python",
   "name": "python",
   "nbconvert_exporter": "python",
   "pygments_lexer": "ipython3",
   "version": "3.6.5"
  }
 },
 "nbformat": 4,
 "nbformat_minor": 2
}
