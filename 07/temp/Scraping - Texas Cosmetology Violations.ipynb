{
 "cells": [
  {
   "cell_type": "markdown",
   "metadata": {},
   "source": [
    "# Texas Cosmetologist Violations\n",
    "\n",
    "Texas has a system for [searching for license violations](https://www.tdlr.texas.gov/cimsfo/fosearch.asp). You're going to search for cosmetologists!"
   ]
  },
  {
   "cell_type": "markdown",
   "metadata": {},
   "source": [
    "## Setup: Import what you'll need to scrape the page\n",
    "\n",
    "We'll be using Selenium for this, *not* BeautifulSoup and requests."
   ]
  },
  {
   "cell_type": "code",
   "execution_count": 1,
   "metadata": {},
   "outputs": [],
   "source": [
    "import pandas as pd\n",
    "from selenium import webdriver\n",
    "from selenium.webdriver.common.keys import Keys\n",
    "from selenium.webdriver.support.ui import Select\n",
    "from selenium.webdriver.support.ui import WebDriverWait\n",
    "driver = webdriver.Chrome()"
   ]
  },
  {
   "cell_type": "markdown",
   "metadata": {
    "collapsed": true
   },
   "source": [
    "## Starting your search\n",
    "\n",
    "Starting from [here](https://www.tdlr.texas.gov/cimsfo/fosearch.asp), search for cosmetologist violations for people with the last name **Nguyen**."
   ]
  },
  {
   "cell_type": "code",
   "execution_count": 2,
   "metadata": {},
   "outputs": [],
   "source": [
    "driver.get('https://www.tdlr.texas.gov/cimsfo/fosearch.asp')"
   ]
  },
  {
   "cell_type": "code",
   "execution_count": 3,
   "metadata": {},
   "outputs": [],
   "source": [
    "lastname = driver.find_element_by_name('pht_lnm')\n",
    "lastname.send_keys('nguyen')"
   ]
  },
  {
   "cell_type": "code",
   "execution_count": 4,
   "metadata": {},
   "outputs": [],
   "source": [
    "#pht-status\n",
    "profession = Select(driver.find_element_by_name('pht_status'))\n",
    "profession.select_by_visible_text('Cosmetologists')"
   ]
  },
  {
   "cell_type": "code",
   "execution_count": 5,
   "metadata": {},
   "outputs": [],
   "source": [
    "button = driver.find_element_by_xpath('//*[@id=\"dat-menu\"]/div/div[2]/div/div/section/div/div/table/tbody/tr/td/form/table/tbody/tr[18]/td/input[1]')\n",
    "driver.execute_script(\"arguments[0].scrollIntoView(true)\", button)\n",
    "button.click()"
   ]
  },
  {
   "cell_type": "markdown",
   "metadata": {},
   "source": [
    "## Scraping\n",
    "\n",
    "Once you are on the results page, do this."
   ]
  },
  {
   "cell_type": "markdown",
   "metadata": {},
   "source": [
    "### Loop through each result and print the entire row\n",
    "\n",
    "Okay wait, that's a heck of a lot. Use `[:10]` to only do the first ten (`listname[:10]` gives you the first ten)."
   ]
  },
  {
   "cell_type": "code",
   "execution_count": 44,
   "metadata": {},
   "outputs": [
    {
     "name": "stdout",
     "output_type": "stream",
     "text": [
      "\t<td style=\"padding:4px; text-align:left; font-size:11px; font:Arial, Helvetica, sans-serif; width:22%;\"><span class=\"results_text\">NGUYEN, TOAN HUU </span><br> <span class=\"default_text\">City:</span> <span class=\"results_text\">SAN ANTONIO</span><br> <span class=\"default_text\">County:</span> <span class=\"results_text\">BEXAR</span><br> <span class=\"default_text\">Zip Code:</span> <span class=\"results_text\">78217</span><br><br><br><span class=\"default_text\"> License #(s):</span> <span class=\"results_text\">780948, 1706491, 1699123</span><br><br><span class=\"default_text\">Complaint #</span> <span class=\"results_text\">COS20180004289      </span></td>\t<td style=\"padding:4px; text-align:left; font-size:11px; font:Arial, Helvetica, sans-serif; width:39%;\"><span class=\"default_text\">Date:</span> <span class=\"results_text\">5/30/2018</span><br><br>Respondent is assessed an administrative penalty in the amount of $500.</td>\t<td style=\"padding:4px; text-align:left; font-size:11px; font:Arial, Helvetica, sans-serif; width:39%;\">Respondent failed to clean and sanitize whirlpool foot spas as required at the end of each day.</td>\n",
      "\t<td style=\"padding:4px; text-align:left; font-size:11px; font:Arial, Helvetica, sans-serif; width:22%;\"><span class=\"results_text\">NGUYEN, HANH CONG </span><br> <span class=\"default_text\">City:</span> <span class=\"results_text\">EL PASO</span><br> <span class=\"default_text\">County:</span> <span class=\"results_text\">EL PASO</span><br> <span class=\"default_text\">Zip Code:</span> <span class=\"results_text\">79934</span><br><br><br><span class=\"default_text\"> License #:</span> <span class=\"results_text\">737708</span><br><br><span class=\"default_text\">Complaint #</span> <span class=\"results_text\">COS20180006594      </span></td>\t<td style=\"padding:4px; text-align:left; font-size:11px; font:Arial, Helvetica, sans-serif; width:39%;\"><span class=\"default_text\">Date:</span> <span class=\"results_text\">5/30/2018</span><br><br>Respondent is assessed an administrative penalty in the amount of $1,000.</td>\t<td style=\"padding:4px; text-align:left; font-size:11px; font:Arial, Helvetica, sans-serif; width:39%;\">Respondent failed to clean and sanitize whirlpool foot spas as required at the end of each day; Respondent failed to use items subject to possible cross contamination in a manner that does not contaminate the remaining product.</td>\n",
      "\t<td style=\"padding:4px; text-align:left; font-size:11px; font:Arial, Helvetica, sans-serif; width:22%;\"><span class=\"results_text\">NGUYEN, KHIEM VAN </span><br> <span class=\"default_text\">City:</span> <span class=\"results_text\">LONGVIEW</span><br> <span class=\"default_text\">County:</span> <span class=\"results_text\">GREGG</span><br> <span class=\"default_text\">Zip Code:</span> <span class=\"results_text\">75604</span><br><br><br><span class=\"default_text\"> License #:</span> <span class=\"results_text\">731665</span><br><br><span class=\"default_text\">Complaint #</span> <span class=\"results_text\">COS20180000257      </span></td>\t<td style=\"padding:4px; text-align:left; font-size:11px; font:Arial, Helvetica, sans-serif; width:39%;\"><span class=\"default_text\">Date:</span> <span class=\"results_text\">5/17/2018</span><br><br>Respondent is assessed an administrative penalty in the amount of $1,250.</td>\t<td style=\"padding:4px; text-align:left; font-size:11px; font:Arial, Helvetica, sans-serif; width:39%;\">Respondent failed to follow whirlpool foot spas cleaning and sanitization procedures as required; Respondent failed to clean, disinfect, and sterilize manicure and pedicure implements after each use; Respondent failed to clean and disinfect all wax pots.</td>\n",
      "\t<td style=\"padding:4px; text-align:left; font-size:11px; font:Arial, Helvetica, sans-serif; width:22%;\"><span class=\"results_text\">NGUYEN, DIEP THI NGOC </span><br> <span class=\"default_text\">City:</span> <span class=\"results_text\">HOUSTON</span><br> <span class=\"default_text\">County:</span> <span class=\"results_text\">HARRIS</span><br> <span class=\"default_text\">Zip Code:</span> <span class=\"results_text\">77014</span><br><br><br><span class=\"default_text\"> License #(s):</span> <span class=\"results_text\">1347649, 760528</span><br><br><span class=\"default_text\">Complaint #</span> <span class=\"results_text\">COS20180004915      </span></td>\t<td style=\"padding:4px; text-align:left; font-size:11px; font:Arial, Helvetica, sans-serif; width:39%;\"><span class=\"default_text\">Date:</span> <span class=\"results_text\">5/17/2018</span><br><br>Respondent is assessed an administrative penalty in the amount of $500.</td>\t<td style=\"padding:4px; text-align:left; font-size:11px; font:Arial, Helvetica, sans-serif; width:39%;\">Respondent failed to disinfect tools, implements, and supplies with an EPA-registered disinfectant solution; Respondent failed to disinfect multi-use equipment, implements, and tools prior to use on each client.</td>\n",
      "\t<td style=\"padding:4px; text-align:left; font-size:11px; font:Arial, Helvetica, sans-serif; width:22%;\"><span class=\"results_text\">NGUYEN, LAN T-THUY </span><br> <span class=\"default_text\">City:</span> <span class=\"results_text\">SAN ANTONIO</span><br> <span class=\"default_text\">County:</span> <span class=\"results_text\">BEXAR</span><br> <span class=\"default_text\">Zip Code:</span> <span class=\"results_text\">78255</span><br><br><span class=\"results_text\">NGUYEN, SAMLOI </span><br> <span class=\"default_text\">City:</span> <span class=\"results_text\">SAN ANTONIO</span><br> <span class=\"default_text\">County:</span> <span class=\"results_text\">BEXAR</span><br> <span class=\"default_text\">Zip Code:</span> <span class=\"results_text\">78255</span><br><br><br><span class=\"default_text\"> License #:</span> <span class=\"results_text\">767339</span><br><br><span class=\"default_text\">Complaint #</span> <span class=\"results_text\">COS20180009255      </span></td>\t<td style=\"padding:4px; text-align:left; font-size:11px; font:Arial, Helvetica, sans-serif; width:39%;\"><span class=\"default_text\">Date:</span> <span class=\"results_text\">5/17/2018</span><br><br>Respondent is assessed an administrative penalty in the amount of $575.</td>\t<td style=\"padding:4px; text-align:left; font-size:11px; font:Arial, Helvetica, sans-serif; width:39%;\">Respondent failed to clean, disinfect, and sterilize manicure and pedicure implements after each use.</td>\n",
      "\t<td style=\"padding:4px; text-align:left; font-size:11px; font:Arial, Helvetica, sans-serif; width:22%;\"><span class=\"results_text\">NGUYEN, TUAN A</span><br> <span class=\"default_text\">City:</span> <span class=\"results_text\">AUSTIN</span><br> <span class=\"default_text\">County:</span> <span class=\"results_text\">TRAVIS</span><br> <span class=\"default_text\">Zip Code:</span> <span class=\"results_text\">78723</span><br><br><span class=\"results_text\">NGUYEN, TUAN VAN </span><br> <span class=\"default_text\">City:</span> <span class=\"results_text\">ARLINGTON</span><br> <span class=\"default_text\">County:</span> <span class=\"results_text\">TARRANT</span><br> <span class=\"default_text\">Zip Code:</span> <span class=\"results_text\">76011</span><br><br><br><span class=\"default_text\"> License #:</span> <span class=\"results_text\">681274</span><br><br><span class=\"default_text\">Complaint #</span> <span class=\"results_text\">COS20140018343      </span></td>\t<td style=\"padding:4px; text-align:left; font-size:11px; font:Arial, Helvetica, sans-serif; width:39%;\"><span class=\"default_text\">Date:</span> <span class=\"results_text\">5/9/2018</span><br><br>Respondent is assessed an administrative penalty in the amount of $1,000.</td>\t<td style=\"padding:4px; text-align:left; font-size:11px; font:Arial, Helvetica, sans-serif; width:39%;\">Respondent failed to clean and disinfect all wax pots; Respondent failed to disinfect tools, implements, and supplies with a hospital-grade EPA-registered disinfectant solution; Respondent failed to replace materials that contact skin, or skin products from multi-use containers, with new or clean articles for each client.</td>\n",
      "\t<td style=\"padding:4px; text-align:left; font-size:11px; font:Arial, Helvetica, sans-serif; width:22%;\"><span class=\"results_text\">NGUYEN, THAO B</span><br> <span class=\"default_text\">City:</span> <span class=\"results_text\">EULESS</span><br> <span class=\"default_text\">County:</span> <span class=\"results_text\">TARRANT</span><br> <span class=\"default_text\">Zip Code:</span> <span class=\"results_text\">76039</span><br><br><br><span class=\"default_text\"> License #(s):</span> <span class=\"results_text\">721373, 1142884</span><br><br><span class=\"default_text\">Complaint #</span> <span class=\"results_text\">COS20180008846      </span></td>\t<td style=\"padding:4px; text-align:left; font-size:11px; font:Arial, Helvetica, sans-serif; width:39%;\"><span class=\"default_text\">Date:</span> <span class=\"results_text\">5/9/2018</span><br><br>Respondent is assessed an administrative penalty in the amount of $750.</td>\t<td style=\"padding:4px; text-align:left; font-size:11px; font:Arial, Helvetica, sans-serif; width:39%;\">Respondent failed to clean and sanitize whirlpool foot spas as required at the end of each day.</td>\n",
      "\t<td style=\"padding:4px; text-align:left; font-size:11px; font:Arial, Helvetica, sans-serif; width:22%;\"><span class=\"results_text\">NGUYEN, BETH MARIA </span><br> <span class=\"default_text\">City:</span> <span class=\"results_text\">HOUSTON</span><br> <span class=\"default_text\">County:</span> <span class=\"results_text\">HARRIS</span><br> <span class=\"default_text\">Zip Code:</span> <span class=\"results_text\">77083</span><br><br><br><span class=\"default_text\"> License #:</span> <span class=\"results_text\">1470271</span><br><br><span class=\"default_text\">Complaint #</span> <span class=\"results_text\">COS20180000897      </span></td>\t<td style=\"padding:4px; text-align:left; font-size:11px; font:Arial, Helvetica, sans-serif; width:39%;\"><span class=\"default_text\">Date:</span> <span class=\"results_text\">4/30/2018</span><br><br>Respondent's Cosmetology Operator license was revoked by operation of law on 03/29/16.</td>\t<td style=\"padding:4px; text-align:left; font-size:11px; font:Arial, Helvetica, sans-serif; width:39%;\">The Respondent's license was revoked upon Respondent's imprisonment in a penitentiary.</td>\n",
      "\t<td style=\"padding:4px; text-align:left; font-size:11px; font:Arial, Helvetica, sans-serif; width:22%;\"><span class=\"results_text\">NGUYEN, TRUNG N</span><br> <span class=\"default_text\">City:</span> <span class=\"results_text\">AMARILLO</span><br> <span class=\"default_text\">County:</span> <span class=\"results_text\">POTTER</span><br> <span class=\"default_text\">Zip Code:</span> <span class=\"results_text\">79106</span><br><br><br><span class=\"default_text\"> License #(s):</span> <span class=\"results_text\">1196244, 767015, 767014</span><br><br><span class=\"default_text\">Complaint #</span> <span class=\"results_text\">COS20170023893      </span></td>\t<td style=\"padding:4px; text-align:left; font-size:11px; font:Arial, Helvetica, sans-serif; width:39%;\"><span class=\"default_text\">Date:</span> <span class=\"results_text\">4/25/2018</span><br><br>Respondent is assessed an administrative penalty in the amount of $1,300.</td>\t<td style=\"padding:4px; text-align:left; font-size:11px; font:Arial, Helvetica, sans-serif; width:39%;\">Respondent failed to clean, disinfect, and sterilize manicure and pedicure implements after each use.</td>\n",
      "\t<td style=\"padding:4px; text-align:left; font-size:11px; font:Arial, Helvetica, sans-serif; width:22%;\"><span class=\"results_text\">NGUYEN, NGAT THI </span><br> <span class=\"default_text\">City:</span> <span class=\"results_text\">PITTSBURG</span><br> <span class=\"default_text\">County:</span> <span class=\"results_text\">CAMP</span><br> <span class=\"default_text\">Zip Code:</span> <span class=\"results_text\">75686</span><br><br><br><span class=\"default_text\"> License #:</span> <span class=\"results_text\">759931</span><br><br><span class=\"default_text\">Complaint #</span> <span class=\"results_text\">COS20180004076      </span></td>\t<td style=\"padding:4px; text-align:left; font-size:11px; font:Arial, Helvetica, sans-serif; width:39%;\"><span class=\"default_text\">Date:</span> <span class=\"results_text\">4/25/2018</span><br><br>Respondent is assessed an administrative penalty in the amount of $625.</td>\t<td style=\"padding:4px; text-align:left; font-size:11px; font:Arial, Helvetica, sans-serif; width:39%;\">Respondent failed to follow whirlpool foot spas cleaning and sanitization procedures as required; Respondent failed to disinfect tools, implements, and supplies with an EPA-registered disinfectant solution.</td>\n"
     ]
    }
   ],
   "source": [
    "#//*[@id=\"dat-menu\"]/div/div[2]/div/div/section/div/div/table/tbody/tr[2]/td[1]\n",
    "spaguys = list(driver.find_elements_by_tag_name('tr').text)\n",
    "for guy in spaguys[1:11]:\n",
    "    print(guy.get_attribute('innerHTML'))"
   ]
  },
  {
   "cell_type": "code",
   "execution_count": 46,
   "metadata": {},
   "outputs": [
    {
     "ename": "AttributeError",
     "evalue": "'list' object has no attribute 'text'",
     "output_type": "error",
     "traceback": [
      "\u001b[0;31m---------------------------------------------------------------------------\u001b[0m",
      "\u001b[0;31mAttributeError\u001b[0m                            Traceback (most recent call last)",
      "\u001b[0;32m<ipython-input-46-50ddfa93681b>\u001b[0m in \u001b[0;36m<module>\u001b[0;34m()\u001b[0m\n\u001b[0;32m----> 1\u001b[0;31m \u001b[0mspaguys\u001b[0m \u001b[0;34m=\u001b[0m \u001b[0mlist\u001b[0m\u001b[0;34m(\u001b[0m\u001b[0mdriver\u001b[0m\u001b[0;34m.\u001b[0m\u001b[0mfind_elements_by_tag_name\u001b[0m\u001b[0;34m(\u001b[0m\u001b[0;34m'tr'\u001b[0m\u001b[0;34m)\u001b[0m\u001b[0;34m.\u001b[0m\u001b[0mtext\u001b[0m\u001b[0;34m)\u001b[0m\u001b[0;34m\u001b[0m\u001b[0m\n\u001b[0m\u001b[1;32m      2\u001b[0m \u001b[0mspaguys\u001b[0m\u001b[0;34m\u001b[0m\u001b[0m\n",
      "\u001b[0;31mAttributeError\u001b[0m: 'list' object has no attribute 'text'"
     ]
    }
   ],
   "source": [
    "spaguys = list(driver.find_elements_by_tag_name('tr'))\n",
    "spaguys"
   ]
  },
  {
   "cell_type": "markdown",
   "metadata": {},
   "source": [
    "### Loop through each result and print each person's name\n",
    "\n",
    "You'll get an error because the first one doesn't have a name. How do you make that not happen?! If you want to ignore an error, you use code like this:\n",
    "\n",
    "```python\n",
    "try:\n",
    "   try to do something\n",
    "except:\n",
    "   print(\"It didn't work')\n",
    "```\n",
    "\n",
    "It should help you out. If you don't want to print anything, you can type `pass` instead of the `print` statement.\n",
    "\n",
    "**Why doesn't the first one have a name?**"
   ]
  },
  {
   "cell_type": "code",
   "execution_count": 7,
   "metadata": {},
   "outputs": [
    {
     "name": "stdout",
     "output_type": "stream",
     "text": [
      "NGUYEN, TOAN HUU\n",
      "NGUYEN, HANH CONG\n",
      "NGUYEN, KHIEM VAN\n",
      "NGUYEN, DIEP THI NGOC\n",
      "NGUYEN, LAN T-THUY\n",
      "NGUYEN, TUAN A\n",
      "NGUYEN, THAO B\n",
      "NGUYEN, BETH MARIA\n",
      "NGUYEN, TRUNG N\n",
      "NGUYEN, NGAT THI\n"
     ]
    }
   ],
   "source": [
    "for guy in spaguys[1:11]:\n",
    "        print(guy.find_elements_by_tag_name('span')[0].text)"
   ]
  },
  {
   "cell_type": "markdown",
   "metadata": {},
   "source": [
    "## Loop through each result, printing each violation description (\"Basis for order\")\n",
    "\n",
    "> - *Tip: You'll get an error even if you're ALMOST right - which row is causing the problem?*\n",
    "> - *Tip: You can get the HTML of something by doing `.get_attribute('innerHTML')` - it might help you diagnose your issue.*\n",
    "> - *Tip: Or I guess you could just skip the one with the problem..."
   ]
  },
  {
   "cell_type": "code",
   "execution_count": 8,
   "metadata": {},
   "outputs": [
    {
     "name": "stdout",
     "output_type": "stream",
     "text": [
      "Respondent failed to clean and sanitize whirlpool foot spas as required at the end of each day.\n",
      "Respondent failed to clean and sanitize whirlpool foot spas as required at the end of each day; Respondent failed to use items subject to possible cross contamination in a manner that does not contaminate the remaining product.\n",
      "Respondent failed to follow whirlpool foot spas cleaning and sanitization procedures as required; Respondent failed to clean, disinfect, and sterilize manicure and pedicure implements after each use; Respondent failed to clean and disinfect all wax pots.\n",
      "Respondent failed to disinfect tools, implements, and supplies with an EPA-registered disinfectant solution; Respondent failed to disinfect multi-use equipment, implements, and tools prior to use on each client.\n",
      "Respondent failed to clean, disinfect, and sterilize manicure and pedicure implements after each use.\n",
      "Respondent failed to clean and disinfect all wax pots; Respondent failed to disinfect tools, implements, and supplies with a hospital-grade EPA-registered disinfectant solution; Respondent failed to replace materials that contact skin, or skin products from multi-use containers, with new or clean articles for each client.\n",
      "Respondent failed to clean and sanitize whirlpool foot spas as required at the end of each day.\n",
      "The Respondent's license was revoked upon Respondent's imprisonment in a penitentiary.\n",
      "Respondent failed to clean, disinfect, and sterilize manicure and pedicure implements after each use.\n",
      "Respondent failed to follow whirlpool foot spas cleaning and sanitization procedures as required; Respondent failed to disinfect tools, implements, and supplies with an EPA-registered disinfectant solution.\n"
     ]
    }
   ],
   "source": [
    "#//*[@id=\"dat-menu\"]/div/div[2]/div/div/section/div/div/table/tbody/tr[2]/td[3]\n",
    "#//*[@id=\"dat-menu\"]/div/div[2]/div/div/section/div/div/table/tbody/tr[3]/td[3]\n",
    "\n",
    "for guy in spaguys[1:11]:\n",
    "    print(guy.find_elements_by_tag_name('td')[2].text)"
   ]
  },
  {
   "cell_type": "markdown",
   "metadata": {},
   "source": [
    "## Loop through each result, printing the complaint number\n",
    "\n",
    "- TIP: Think about the order of the elements"
   ]
  },
  {
   "cell_type": "code",
   "execution_count": 43,
   "metadata": {},
   "outputs": [
    {
     "ename": "TypeError",
     "evalue": "'WebElement' object is not iterable",
     "output_type": "error",
     "traceback": [
      "\u001b[0;31m---------------------------------------------------------------------------\u001b[0m",
      "\u001b[0;31mTypeError\u001b[0m                                 Traceback (most recent call last)",
      "\u001b[0;32m<ipython-input-43-e64e9b8de765>\u001b[0m in \u001b[0;36m<module>\u001b[0;34m()\u001b[0m\n\u001b[1;32m      1\u001b[0m \u001b[0;32mfor\u001b[0m \u001b[0mguy\u001b[0m \u001b[0;32min\u001b[0m \u001b[0mspaguys\u001b[0m\u001b[0;34m[\u001b[0m\u001b[0;36m1\u001b[0m\u001b[0;34m:\u001b[0m\u001b[0;36m11\u001b[0m\u001b[0;34m]\u001b[0m\u001b[0;34m:\u001b[0m\u001b[0;34m\u001b[0m\u001b[0m\n\u001b[0;32m----> 2\u001b[0;31m     \u001b[0;32mfor\u001b[0m \u001b[0mspan\u001b[0m \u001b[0;32min\u001b[0m \u001b[0mguy\u001b[0m\u001b[0;34m:\u001b[0m\u001b[0;34m\u001b[0m\u001b[0m\n\u001b[0m\u001b[1;32m      3\u001b[0m         \u001b[0mprint\u001b[0m\u001b[0;34m(\u001b[0m\u001b[0mspan\u001b[0m\u001b[0;34m.\u001b[0m\u001b[0mfind_element_by_class_name\u001b[0m\u001b[0;34m(\u001b[0m\u001b[0;34m'results_text'\u001b[0m\u001b[0;34m)\u001b[0m\u001b[0;34m)\u001b[0m\u001b[0;34m\u001b[0m\u001b[0m\n",
      "\u001b[0;31mTypeError\u001b[0m: 'WebElement' object is not iterable"
     ]
    }
   ],
   "source": [
    "for guy in spaguys[1:11]:\n",
    "    for span in guy:\n",
    "        print(span.find_element_by_class_name('results_text'))"
   ]
  },
  {
   "cell_type": "markdown",
   "metadata": {},
   "source": [
    "## Saving the results\n",
    "\n",
    "### Loop through each result to create a list of dictionaries\n",
    "\n",
    "Each dictionary must contain\n",
    "\n",
    "- Person's name\n",
    "- Violation description\n",
    "- Violation number\n",
    "- License Numbers\n",
    "- Zip Code\n",
    "- County\n",
    "- City\n",
    "\n",
    "Create a new dictionary for each result (except the header).\n",
    "\n",
    "> *Tip: If you want to ask for the \"next sibling,\" you can't use `find_next_sibling` in Selenium, you need to use `element.find_element_by_xpath(\"following-sibling::div\")` to find the next div, or `element.find_element_by_xpath(\"following-sibling::*\")` to find the next anything."
   ]
  },
  {
   "cell_type": "code",
   "execution_count": null,
   "metadata": {},
   "outputs": [],
   "source": []
  },
  {
   "cell_type": "markdown",
   "metadata": {},
   "source": [
    "### Save that to a CSV\n",
    "\n",
    "- Tip: You'll want to use pandas here"
   ]
  },
  {
   "cell_type": "code",
   "execution_count": null,
   "metadata": {},
   "outputs": [],
   "source": [
    "df.to_csv(\"spa_violations.csv\", index=False)"
   ]
  },
  {
   "cell_type": "code",
   "execution_count": null,
   "metadata": {},
   "outputs": [],
   "source": []
  },
  {
   "cell_type": "code",
   "execution_count": null,
   "metadata": {},
   "outputs": [],
   "source": []
  },
  {
   "cell_type": "markdown",
   "metadata": {},
   "source": [
    "### Open the CSV file and examine the first few. Make sure you didn't save an extra weird unnamed column."
   ]
  },
  {
   "cell_type": "code",
   "execution_count": null,
   "metadata": {},
   "outputs": [],
   "source": []
  }
 ],
 "metadata": {
  "kernelspec": {
   "display_name": "Python 3",
   "language": "python",
   "name": "python3"
  },
  "language_info": {
   "codemirror_mode": {
    "name": "ipython",
    "version": 3
   },
   "file_extension": ".py",
   "mimetype": "text/x-python",
   "name": "python",
   "nbconvert_exporter": "python",
   "pygments_lexer": "ipython3",
   "version": "3.6.5"
  }
 },
 "nbformat": 4,
 "nbformat_minor": 2
}
