{
 "cells": [
  {
   "cell_type": "code",
   "execution_count": 1,
   "metadata": {},
   "outputs": [],
   "source": [
    "import pandas as pd\n",
    "import datetime\n",
    "import glob\n",
    "import requests"
   ]
  },
  {
   "cell_type": "code",
   "execution_count": 2,
   "metadata": {},
   "outputs": [],
   "source": [
    "l = [pd.read_csv(filename) for filename in glob.glob(\"./reddit/*.csv\")]\n",
    "df = pd.concat(l, axis=0)"
   ]
  },
  {
   "cell_type": "code",
   "execution_count": 3,
   "metadata": {},
   "outputs": [],
   "source": [
    "storycount = len(df['title'].unique())"
   ]
  },
  {
   "cell_type": "code",
   "execution_count": 4,
   "metadata": {},
   "outputs": [],
   "source": [
    "top_authors = []\n",
    "authors = df.groupby('author').title.nunique().to_dict()\n",
    "for k,v in authors.items():\n",
    "    if int(v) > 1:\n",
    "        top_authors.append(k)"
   ]
  },
  {
   "cell_type": "code",
   "execution_count": 5,
   "metadata": {},
   "outputs": [
    {
     "name": "stdout",
     "output_type": "stream",
     "text": [
      "['Metric System'\n",
      " 'Ajit Pai Now Trying To Pretend That Everybody Supported Net Neutrality Repeal'\n",
      " 'A warm welcome in Seattle']\n"
     ]
    }
   ],
   "source": [
    "#most_votes \n",
    "df['votes'] = df.votes.astype(int)\n",
    "most_voted_titles = df.sort_values(by = 'votes', ascending = False).title.unique()\n",
    "print(most_voted_titles[0:3])"
   ]
  },
  {
   "cell_type": "code",
   "execution_count": 6,
   "metadata": {},
   "outputs": [],
   "source": [
    "#most_commented \n",
    "mostcom =  {}\n",
    "df['comment_count'] = df.comment_count.astype(int)\n",
    "most_commented_titles = df.sort_values(by = 'comment_count', ascending = False).title.unique()\n",
    "for story in most_commented_titles[0:4]:\n",
    "    mostcom[story] = mostcom"
   ]
  },
  {
   "cell_type": "code",
   "execution_count": 7,
   "metadata": {},
   "outputs": [
    {
     "data": {
      "text/plain": [
       "[{'title': 'Metric System', 'url': 'https://i.imgur.com/cGivWxK.jpg'},\n",
       " {'title': 'Ajit Pai Now Trying To Pretend That Everybody Supported Net Neutrality Repeal',\n",
       "  'url': 'https://www.techdirt.com/articles/20180615/07410640047/ajit-pai-now-trying-to-pretend-that-everybody-supported-net-neutrality-repeal.shtml'},\n",
       " {'title': 'A warm welcome in Seattle',\n",
       "  'url': '/r/pics/comments/8s9sye/a_warm_welcome_in_seattle/'},\n",
       " {'title': 'MRW it is 98 degrees outside and I hit that air conditioned entrance to the grocery store',\n",
       "  'url': 'http://i.imgur.com/kqbKDLJ.gif'},\n",
       " {'title': 'When your parents come home unexpectedly and bust you',\n",
       "  'url': 'https://i.imgur.com/9fekc3T.gifv'}]"
      ]
     },
     "execution_count": 7,
     "metadata": {},
     "output_type": "execute_result"
    }
   ],
   "source": [
    "toplist = []\n",
    "for item in most_voted_titles[0:5]:\n",
    "    temp = {}\n",
    "    temp['title'] = item\n",
    "    temp['url'] = df[df['title'] == item].content_link.unique()[0]\n",
    "    toplist.append(temp)\n",
    "toplist"
   ]
  },
  {
   "cell_type": "code",
   "execution_count": 8,
   "metadata": {
    "scrolled": true
   },
   "outputs": [
    {
     "data": {
      "text/plain": [
       "array(['https://i.imgur.com/cGivWxK.jpg',\n",
       "       'https://www.techdirt.com/articles/20180615/07410640047/ajit-pai-now-trying-to-pretend-that-everybody-supported-net-neutrality-repeal.shtml',\n",
       "       '/r/pics/comments/8s9sye/a_warm_welcome_in_seattle/',\n",
       "       'http://www.mlive.com/news/bay-city/index.ssf/2018/06/judge_sends_woman_to_jail_for.html',\n",
       "       'http://www.newsweek.com/trudeau-campaign-promise-legalize-weed-canada-984062',\n",
       "       'https://i.imgur.com/IE2uXow.gifv',\n",
       "       'https://i.redd.it/hvhc6o7y8z411.jpg',\n",
       "       'http://i.imgur.com/kqbKDLJ.gif',\n",
       "       'https://gfycat.com/HarmoniousThoughtfulBrontosaurus',\n",
       "       'https://en.wikipedia.org/wiki/Bill_Brown_(rancher)#Ranching_empire',\n",
       "       '/r/woahdude/comments/8s99jt/i_took_this_photo_with_my_phone/',\n",
       "       'https://gfycat.com/FlatUnkemptLice',\n",
       "       '/r/gaming/comments/8sahrl/my_wip_brigitte_cosplay_for_paxwest/',\n",
       "       'https://i.imgur.com/1UYxsfR.jpg',\n",
       "       '/r/food/comments/8s9jiz/prochef_kimchi_salmon_with_asparagus_avocado/',\n",
       "       '/r/Awwducational/comments/8s9mwz/when_puppies_are_faced_with_a_scary_object_they/',\n",
       "       'https://i.redd.it/o6r6voylvy411.png',\n",
       "       'https://gfycat.com/OfficialVastBaiji',\n",
       "       '/r/OldSchoolCool/comments/8s90fv/grandma_carmen_is_90_today_in_the_pic_63_years_2/',\n",
       "       'https://i.imgur.com/P2m4Hd4.gifv',\n",
       "       'https://i.imgur.com/9fekc3T.gifv',\n",
       "       '/r/PrequelMemes/comments/8s9fka/ah_victory/',\n",
       "       '/r/assholedesign/comments/8s98q7/ummmmm_no/',\n",
       "       'https://i.redd.it/ec7f8n1qwx411.jpg',\n",
       "       'https://i.imgur.com/zWVPabN.gifv'], dtype=object)"
      ]
     },
     "execution_count": 8,
     "metadata": {},
     "output_type": "execute_result"
    }
   ],
   "source": [
    "df.sort_values(by = 'comment_count', ascending = False).content_link.unique()"
   ]
  },
  {
   "cell_type": "code",
   "execution_count": 9,
   "metadata": {},
   "outputs": [],
   "source": [
    "reddit_summary = str(\"Today, {} stories made it to the reddit front page. The top 5 upvoted stories were:\\n{}\\n{}\\n\\n{}\\n{}\\n\\n{}\\n{}\\n\\n{}\\n{}\\n\\n{}\\n{}.\\n\\n{} author(s) made it to the front page with more than one post.\"\n",
    ".format(storycount, \n",
    "toplist[0]['title'], \n",
    "toplist[0]['url'], \n",
    "toplist[1]['title'], \n",
    "toplist[1]['url'], \n",
    "toplist[2]['title'], \n",
    "toplist[2]['url'], \n",
    "toplist[3]['title'], \n",
    "toplist[3]['url'], \n",
    "toplist[4]['title'], \n",
    "toplist[4]['url'],\n",
    "len(top_authors),))"
   ]
  },
  {
   "cell_type": "code",
   "execution_count": null,
   "metadata": {},
   "outputs": [],
   "source": []
  },
  {
   "cell_type": "code",
   "execution_count": 10,
   "metadata": {},
   "outputs": [
    {
     "data": {
      "text/plain": [
       "'{\\n  \"id\": \"<20180619221955.1.98153BD188AC6049@sandbox050180266a794f0e9e275f46f3efb617.mailgun.org>\",\\n  \"message\": \"Queued. Thank you.\"\\n}'"
      ]
     },
     "execution_count": 10,
     "metadata": {},
     "output_type": "execute_result"
    }
   ],
   "source": [
    "domain_name = 'sandboxXXX.mailgun.org'\n",
    "response = requests.post(\"https://api.mailgun.net/v3/\" + domain_name + \"/messages\", \n",
    "                         auth=(\"api\", \"XXX\"),\n",
    "                         data={\"from\": \"RedditBot <mailgun@sandboxXXX.mailgun.org>\",\n",
    "                               \"to\": [\"XXX+mailgun@gmail.com\"],\n",
    "                               \"subject\": \"Todays Reddit Summary\",\n",
    "                               \"text\": str(reddit_summary)}) \n",
    "response.text"
   ]
  },
  {
   "cell_type": "code",
   "execution_count": null,
   "metadata": {},
   "outputs": [],
   "source": []
  },
  {
   "cell_type": "code",
   "execution_count": null,
   "metadata": {},
   "outputs": [],
   "source": []
  }
 ],
 "metadata": {
  "kernelspec": {
   "display_name": "Python 3",
   "language": "python",
   "name": "python3"
  },
  "language_info": {
   "codemirror_mode": {
    "name": "ipython",
    "version": 3
   },
   "file_extension": ".py",
   "mimetype": "text/x-python",
   "name": "python",
   "nbconvert_exporter": "python",
   "pygments_lexer": "ipython3",
   "version": "3.6.5"
  }
 },
 "nbformat": 4,
 "nbformat_minor": 2
}
