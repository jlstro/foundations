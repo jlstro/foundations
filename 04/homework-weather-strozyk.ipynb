{
 "cells": [
  {
   "cell_type": "markdown",
   "metadata": {},
   "source": [
    "# Dark Sky API (Weather)\n",
    "\n",
    "Answer the following questions using the [Dark Sky API](https://darksky.net/dev/). I've added three cells for each question but you're free to use more or less! Hold `Shift` and hit `Enter` to run a cell, and use the `+` on the top left to add a new cell to a notebook.\n",
    "\n",
    "If you spend some time reading the documentation your life will probably be a little bit easier!\n",
    "\n",
    "## 0) Import any libraries you might need\n",
    "\n",
    "- *Tip: We're going to be downloading things from the internet, so we probably need `requests`.*"
   ]
  },
  {
   "cell_type": "code",
   "execution_count": null,
   "metadata": {},
   "outputs": [],
   "source": [
    "import requests"
   ]
  },
  {
   "cell_type": "code",
   "execution_count": null,
   "metadata": {},
   "outputs": [],
   "source": [
    "import statistics"
   ]
  },
  {
   "cell_type": "code",
   "execution_count": null,
   "metadata": {},
   "outputs": [],
   "source": [
    "import datetime"
   ]
  },
  {
   "cell_type": "markdown",
   "metadata": {
    "collapsed": true
   },
   "source": [
    "## 1) Make a request from the Dark Sky API for where you were born (or lived, or want to visit!).\n",
    "\n",
    "- *Tip: The URL we used in class was for a place near San Francisco. What was the format of the endpoint that made this happen?*\n",
    "- *Tip: Save the URL as a separate variable, and be sure to not have `[` and `]` inside.*\n",
    "- *Tip: How is north vs. south and east vs. west latitude/longitude represented? Is it the normal North/South/East/West?*\n",
    "- *Tip: You know it's JSON, but Python doesn't! Make sure you aren't trying to deal with plain text.* \n",
    "- *Tip: Once you've imported the JSON into a variable, check the timezone's name to make sure it seems like it got the right part of the world!*"
   ]
  },
  {
   "cell_type": "code",
   "execution_count": null,
   "metadata": {},
   "outputs": [],
   "source": [
    "url = 'https://api.darksky.net/forecast/'\n",
    "api_key = 'a58aefb6c38668940bd73244663ac26f'\n",
    "place = {'lat': '52.366667', 'long' : '9.716667'} #Hanover, Germany\n",
    "options = ['?units=si']"
   ]
  },
  {
   "cell_type": "code",
   "execution_count": null,
   "metadata": {},
   "outputs": [],
   "source": [
    "place_url = url+api_key+\"/\"+place['lat']+\",\"+place['long']+options[0] #Could've done this with less steps but easier to change now"
   ]
  },
  {
   "cell_type": "code",
   "execution_count": null,
   "metadata": {},
   "outputs": [],
   "source": [
    "place_data = requests.get(place_url).json()"
   ]
  },
  {
   "cell_type": "code",
   "execution_count": null,
   "metadata": {},
   "outputs": [],
   "source": [
    "print(place_data['timezone'])"
   ]
  },
  {
   "cell_type": "markdown",
   "metadata": {},
   "source": [
    "## 2) What's the current wind speed? How much warmer does it feel than it actually is?\n",
    "\n",
    "- *Tip: You can do this by browsing through the dictionaries, but it might be easier to read the documentation*\n",
    "- *Tip: For the second half: it **is** one temperature, and it **feels** a different temperature. Calculate the difference.*"
   ]
  },
  {
   "cell_type": "code",
   "execution_count": null,
   "metadata": {},
   "outputs": [],
   "source": [
    "print(place_data['currently']['windSpeed'])"
   ]
  },
  {
   "cell_type": "code",
   "execution_count": null,
   "metadata": {},
   "outputs": [],
   "source": [
    "print(abs(place_data['currently']['apparentTemperature'] - place_data['currently']['temperature'])) # Delta was zero for me though, weather apparently IS as FEELS"
   ]
  },
  {
   "cell_type": "markdown",
   "metadata": {},
   "source": [
    "## 3) Today's forecast is the FIRST daily forecast. For the place you decided on above, how much of the moon is currently visible?\n",
    "\n",
    "- *Tip: This does **not** use the `currently` key.*\n",
    "- *Tip: It might be helpful to save the forecast into its own variable*"
   ]
  },
  {
   "cell_type": "code",
   "execution_count": null,
   "metadata": {},
   "outputs": [],
   "source": [
    "place_daily = place_data['daily']['data'][0]"
   ]
  },
  {
   "cell_type": "code",
   "execution_count": null,
   "metadata": {},
   "outputs": [],
   "source": [
    "print(\"There's {} per cent of the moon visible tonight.\".format(place_daily['moonPhase']*100))"
   ]
  },
  {
   "cell_type": "markdown",
   "metadata": {},
   "source": [
    "## 4) What's the difference between the high and low temperatures for today?"
   ]
  },
  {
   "cell_type": "code",
   "execution_count": null,
   "metadata": {},
   "outputs": [],
   "source": [
    "print(\"The difference between the highest and lowest temperature today is {} degree\".format(round(abs(place_daily['temperatureHigh'] - place_daily['temperatureLow']),2)))"
   ]
  },
  {
   "cell_type": "markdown",
   "metadata": {},
   "source": [
    "## 5) Go through the daily forecasts, printing out the next week's worth of predictions.\n",
    "\n",
    "I'd like to know the **high temperature** for each day, and whether it's **hot, warm, or cold** (based on what temperatures you think are hot, warm or cold).\n",
    "\n",
    "- *Tip: Is it returning F or C? You can change them by adding `?units=us` or `?units=si` onto the end of the URL.*\n",
    "- *Tip: You'll need to use an `if` statement to say whether it is hot, warm or cold.*"
   ]
  },
  {
   "cell_type": "code",
   "execution_count": null,
   "metadata": {},
   "outputs": [],
   "source": [
    "week_temp = [day['temperatureHigh'] for day in place_data['daily']['data']]"
   ]
  },
  {
   "cell_type": "code",
   "execution_count": null,
   "metadata": {},
   "outputs": [],
   "source": [
    "print(\"Next week's weather:\")\n",
    "for day in week_temp:\n",
    "    if day > 26.5: \n",
    "        weather = 'hot'\n",
    "    elif day > 12: \n",
    "        weather = 'warm'\n",
    "    else:\n",
    "        weather = 'cold'\n",
    "    print(weather+\":\", day, \"degrees C.\")"
   ]
  },
  {
   "cell_type": "markdown",
   "metadata": {},
   "source": [
    "# 6) What will be the hottest day in the next week? What is the high temperature on that day?\n",
    "\n",
    "It's okay if your result looks like `1453363200`. If you want to be extra-fancy, though, format it as a **real date** - the weird number is called a **UNIX timestamp**, which might help in googling.\n",
    "\n",
    "- *Tip: It's okay to skip this if it seems too difficult!*"
   ]
  },
  {
   "cell_type": "code",
   "execution_count": null,
   "metadata": {},
   "outputs": [],
   "source": [
    "high_day = {'time' : 0, 'hi' : 0.0}"
   ]
  },
  {
   "cell_type": "code",
   "execution_count": null,
   "metadata": {},
   "outputs": [],
   "source": [
    "for day in place_data['daily']['data']:\n",
    "    if float(day['temperatureHigh']) > high_day['hi']:\n",
    "        high_day['time'] = int(day['time'])\n",
    "        high_day['hi'] = day['temperatureHigh']"
   ]
  },
  {
   "cell_type": "code",
   "execution_count": null,
   "metadata": {},
   "outputs": [],
   "source": [
    "high_day['time'] = str(datetime.datetime.fromtimestamp((high_day['time'])).strftime('%m/%d'))#UNIX time conversion"
   ]
  },
  {
   "cell_type": "code",
   "execution_count": null,
   "metadata": {},
   "outputs": [],
   "source": [
    "print(\"Next week\\'s warmest day will be {day} with a maximum of {deg} degree C.\".format(day = high_day['time'], deg = high_day['hi']))"
   ]
  },
  {
   "cell_type": "markdown",
   "metadata": {},
   "source": [
    "## 7) What's the weather looking like for the next 24+ hours in Miami, Florida?\n",
    "\n",
    "I'd like to know the temperature for every hour, and if it's going to have cloud cover of more than 50% say \"{temperature} and cloudy\" instead of just the temperature. \n",
    "\n",
    "\n",
    "- *Tip: Be sure to remember how latitude and longitude are done with positive and negative numbers*\n",
    "- *Tip: How do you represent \"50%\" for cloud cover?*"
   ]
  },
  {
   "cell_type": "code",
   "execution_count": null,
   "metadata": {},
   "outputs": [],
   "source": [
    "url = 'https://api.darksky.net/forecast/'\n",
    "api_key = 'a58aefb6c38668940bd73244663ac26f'\n",
    "place = {'lat': '25.775278', 'long' : '-80.208889'} #Miami, Florida\n",
    "options = ['?units=si']"
   ]
  },
  {
   "cell_type": "code",
   "execution_count": null,
   "metadata": {},
   "outputs": [],
   "source": [
    "place_url = url+api_key+\"/\"+place['lat']+\",\"+place['long']+options[0]\n",
    "place_data = requests.get(place_url).json()"
   ]
  },
  {
   "cell_type": "code",
   "execution_count": null,
   "metadata": {},
   "outputs": [],
   "source": [
    "next24temp = [hour['temperature'] for hour in place_data['hourly']['data']]\n",
    "next24cloud = [hour['cloudCover'] for hour in place_data['hourly']['data']]\n",
    "hourcounter =list(range(1,48))"
   ]
  },
  {
   "cell_type": "code",
   "execution_count": null,
   "metadata": {},
   "outputs": [],
   "source": [
    "print(\"The hourly forecast for Miami for the next two days:\")\n",
    "for hour_t, hour_c, count in zip(next24temp, next24cloud, hourcounter):\n",
    "    if hour_c > .5:\n",
    "        sky = \"cloudy\"\n",
    "    else:\n",
    "        sky = \"not cloudy\"\n",
    "    print(\"In count h it will be {temp:02} degree C. and the sky will be {sky}.\".format(h = count, temp = hour_t, sky = sky))"
   ]
  },
  {
   "cell_type": "markdown",
   "metadata": {},
   "source": [
    "# 8) For the next 24-ish hours in Miami, what percent of the time is the temperature above 85 degrees?\n",
    "\n",
    "If they give you 48 hours instead of 24, that's okay.\n",
    "\n",
    "- *Tip: You might want to read up on [looping patterns](http://jonathansoma.com/lede/foundations-2017/classes/data%20structures/looping-patterns/)*"
   ]
  },
  {
   "cell_type": "code",
   "execution_count": null,
   "metadata": {},
   "outputs": [],
   "source": [
    "h_above_30 = len([hour for hour in next24temp if hour > 30]) #85 F is roughly 30 C"
   ]
  },
  {
   "cell_type": "code",
   "execution_count": null,
   "metadata": {},
   "outputs": [],
   "source": [
    "perc_h_above_30 = round(h_above_30 / len(next24temp)*100, 2)"
   ]
  },
  {
   "cell_type": "code",
   "execution_count": null,
   "metadata": {},
   "outputs": [],
   "source": [
    "print(\"In the next 2 days, it'll be above 30 C. \", perc_h_above_30, \"per cent of the time.\")"
   ]
  },
  {
   "cell_type": "markdown",
   "metadata": {},
   "source": [
    "## 9) What was the temperature in Central Park on Christmas Day, 2012? How about 2007? 2005? How far back does the API allow you to go?\n",
    "\n",
    "- *Tip: You'll need to use UNIX time, which is the number of seconds since January 1, 1970. Google can help you convert a normal date!*\n",
    "- *Tip: You'll want to use Forecast.io's \"time machine\" API, [documentation here](https://darksky.net/dev/docs/time-machine)*"
   ]
  },
  {
   "cell_type": "code",
   "execution_count": null,
   "metadata": {},
   "outputs": [],
   "source": [
    "# Time stamp 25.12.2012, noon\n",
    "# 1356436800\n",
    "#\n",
    "# Time stamp 25.12.2007, noon\n",
    "# 1198584000\n",
    "#\n",
    "# Central Park is at 40.782222, -73.965278\n",
    "#\n",
    "# Api scheme: https://api.darksky.net/forecast/[key]/[latitude],[longitude],[time]"
   ]
  },
  {
   "cell_type": "code",
   "execution_count": null,
   "metadata": {},
   "outputs": [],
   "source": [
    "url = 'https://api.darksky.net/forecast/'\n",
    "api_key = 'a58aefb6c38668940bd73244663ac26f'\n",
    "place = {'lat': '40.782222', 'long' : '-73.965278'} # Central Park NYC\n",
    "options = ['?units=si', '?exclude=currently', '?exclude=minutely', '?exclude=hourly']\n",
    "url_pre = url+api_key+\"/\"+place['lat']+\",\"+place['long']+\",\""
   ]
  },
  {
   "cell_type": "code",
   "execution_count": null,
   "metadata": {},
   "outputs": [],
   "source": [
    "unix_xmas_2012 = '1356436800'\n",
    "unix_xmas_2007 = '1198584000'\n",
    "\n",
    "xmas12place_data = requests.get(url_pre+unix_xmas_2012+options[0]).json()\n",
    "xmas07place_data = requests.get(url_pre+unix_xmas_2007+options[0]).json()"
   ]
  },
  {
   "cell_type": "code",
   "execution_count": null,
   "metadata": {},
   "outputs": [],
   "source": [
    "print(\"The temperature in Central Park on Christmas Day in 2012 was\", xmas12place_data['currently']['temperature'], \"degree C. and in 2007 it was\", xmas07place_data['currently']['temperature'], \"degree C.\")"
   ]
  },
  {
   "cell_type": "code",
   "execution_count": null,
   "metadata": {},
   "outputs": [],
   "source": [
    "# But how far can we go back!?\n",
    "lo = -2208988800 # Let's set an arbitrary absolute minimum that we believe is earlier then the earliest date available: 1/1/1900 or UNIX time -2208988800\n",
    "hi = 1198584000 # this is X-Mas 2007, we know that this works from the last Q. The oldest available date has to be somewhere in between the 2.\n",
    "dif = round((abs(hi-lo)))\n",
    "r = requests.get(url_pre+str(lo))\n",
    "status = r.status_code\n",
    "print(status) # Test run: We get Error 400, now we know that 1/1/1900 is not available\n"
   ]
  },
  {
   "cell_type": "code",
   "execution_count": null,
   "metadata": {},
   "outputs": [],
   "source": [
    "while abs(hi-lo) > 86400: # We cut the difference between lo/high in half, until we have a diff of 604800: That is one week, we can adjust the precision here but I hit the API max before when I tried to find the first availbale hour.\n",
    "        print(\"Dif: {dif}\\nStatus:{status}\\nHi/Lo: {hi, lo}\\n\".format(dif = dif, status = status, hi = hi, lo = lo )) # This is just for checking\n",
    "        r = requests.get(url_pre+str(lo))\n",
    "        status = r.status_code\n",
    "        if status == 200: # if we get back 200, we must go lower\n",
    "            hi = lo\n",
    "            lo = lo - dif\n",
    "        else: # if do not get back 200, we must go higher\n",
    "            lo = lo + dif\n",
    "        dif = round(dif/2)"
   ]
  },
  {
   "cell_type": "code",
   "execution_count": null,
   "metadata": {},
   "outputs": [],
   "source": [
    "oldest = str(datetime.datetime.fromtimestamp((lo)).strftime('%m/%d/%y'))#UNIX time conversion\n",
    "print(\"The oldest avaible weather info is from the week of\", oldest)"
   ]
  }
 ],
 "metadata": {
  "kernelspec": {
   "display_name": "Python 3",
   "language": "python",
   "name": "python3"
  },
  "language_info": {
   "codemirror_mode": {
    "name": "ipython",
    "version": 3
   },
   "file_extension": ".py",
   "mimetype": "text/x-python",
   "name": "python",
   "nbconvert_exporter": "python",
   "pygments_lexer": "ipython3",
   "version": "3.6.5"
  }
 },
 "nbformat": 4,
 "nbformat_minor": 1
}
