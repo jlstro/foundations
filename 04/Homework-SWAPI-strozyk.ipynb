{
 "cells": [
  {
   "cell_type": "markdown",
   "metadata": {},
   "source": [
    "# SWAPI (Star Wars)\n",
    "\n",
    "Answer the following questions using the [Dark Sky API](https://swapi.co/). I've added three cells for each question but you're free to use more or less! Hold `Shift` and hit `Enter` to run a cell, and use the `+` on the top left to add a new cell to a notebook.\n",
    "\n",
    "If you spend some time reading the documentation your life will probably be a little bit easier!\n",
    "\n",
    "## 0) Import any libraries you might need\n",
    "\n",
    "- *Tip: We're going to be downloading things from the internet, so we probably need `requests`.*"
   ]
  },
  {
   "cell_type": "code",
   "execution_count": 1,
   "metadata": {},
   "outputs": [],
   "source": [
    "import requests\n",
    "import statistics"
   ]
  },
  {
   "cell_type": "markdown",
   "metadata": {},
   "source": [
    "## 1) Make a request to the Star Wars API\n",
    "\n",
    "I've heard there's a new Star Wars film called **Solo**, but it isn't in SWAPI!\n",
    "\n",
    "The most recent film it contains has an ID of 7. Make a request for that film and look at the data."
   ]
  },
  {
   "cell_type": "code",
   "execution_count": 2,
   "metadata": {},
   "outputs": [
    {
     "data": {
      "text/plain": [
       "<Response [200]>"
      ]
     },
     "execution_count": 2,
     "metadata": {},
     "output_type": "execute_result"
    }
   ],
   "source": [
    "#Check if up\n",
    "requests.get('https://swapi.co/api/films/07')"
   ]
  },
  {
   "cell_type": "code",
   "execution_count": 3,
   "metadata": {},
   "outputs": [],
   "source": [
    "response = requests.get(\"https://swapi.co/api/films/07\")\n",
    "data = response.json()\n"
   ]
  },
  {
   "cell_type": "code",
   "execution_count": 4,
   "metadata": {},
   "outputs": [
    {
     "data": {
      "text/plain": [
       "{'title': 'The Force Awakens',\n",
       " 'episode_id': 7,\n",
       " 'opening_crawl': \"Luke Skywalker has vanished.\\r\\nIn his absence, the sinister\\r\\nFIRST ORDER has risen from\\r\\nthe ashes of the Empire\\r\\nand will not rest until\\r\\nSkywalker, the last Jedi,\\r\\nhas been destroyed.\\r\\n \\r\\nWith the support of the\\r\\nREPUBLIC, General Leia Organa\\r\\nleads a brave RESISTANCE.\\r\\nShe is desperate to find her\\r\\nbrother Luke and gain his\\r\\nhelp in restoring peace and\\r\\njustice to the galaxy.\\r\\n \\r\\nLeia has sent her most daring\\r\\npilot on a secret mission\\r\\nto Jakku, where an old ally\\r\\nhas discovered a clue to\\r\\nLuke's whereabouts....\",\n",
       " 'director': 'J. J. Abrams',\n",
       " 'producer': 'Kathleen Kennedy, J. J. Abrams, Bryan Burk',\n",
       " 'release_date': '2015-12-11',\n",
       " 'characters': ['https://swapi.co/api/people/1/',\n",
       "  'https://swapi.co/api/people/3/',\n",
       "  'https://swapi.co/api/people/5/',\n",
       "  'https://swapi.co/api/people/13/',\n",
       "  'https://swapi.co/api/people/14/',\n",
       "  'https://swapi.co/api/people/27/',\n",
       "  'https://swapi.co/api/people/84/',\n",
       "  'https://swapi.co/api/people/85/',\n",
       "  'https://swapi.co/api/people/86/',\n",
       "  'https://swapi.co/api/people/87/',\n",
       "  'https://swapi.co/api/people/88/'],\n",
       " 'planets': ['https://swapi.co/api/planets/61/'],\n",
       " 'starships': ['https://swapi.co/api/starships/77/',\n",
       "  'https://swapi.co/api/starships/10/'],\n",
       " 'vehicles': [],\n",
       " 'species': ['https://swapi.co/api/species/3/',\n",
       "  'https://swapi.co/api/species/2/',\n",
       "  'https://swapi.co/api/species/1/'],\n",
       " 'created': '2015-04-17T06:51:30.504780Z',\n",
       " 'edited': '2015-12-17T14:31:47.617768Z',\n",
       " 'url': 'https://swapi.co/api/films/7/'}"
      ]
     },
     "execution_count": 4,
     "metadata": {},
     "output_type": "execute_result"
    }
   ],
   "source": [
    "data"
   ]
  },
  {
   "cell_type": "markdown",
   "metadata": {},
   "source": [
    "## 2) What is that film's name, and when was it released?\n",
    "\n",
    "Please print **only** the title and the release date. You can guess at the keys, but I recommend checking the documentation."
   ]
  },
  {
   "cell_type": "code",
   "execution_count": 5,
   "metadata": {},
   "outputs": [
    {
     "name": "stdout",
     "output_type": "stream",
     "text": [
      "The Force Awakens 2015-12-11\n"
     ]
    }
   ],
   "source": [
    "print(data['title'], data['release_date'])"
   ]
  },
  {
   "cell_type": "markdown",
   "metadata": {},
   "source": [
    "## 3) But I want Han Solo! Use the API to search for people named \"Solo\"."
   ]
  },
  {
   "cell_type": "code",
   "execution_count": 6,
   "metadata": {},
   "outputs": [],
   "source": [
    "response = requests.get(\"https://swapi.co/api/people/?search=Solo\")\n",
    "data = response.json()"
   ]
  },
  {
   "cell_type": "code",
   "execution_count": 7,
   "metadata": {},
   "outputs": [
    {
     "data": {
      "text/plain": [
       "{'count': 1,\n",
       " 'next': None,\n",
       " 'previous': None,\n",
       " 'results': [{'name': 'Han Solo',\n",
       "   'height': '180',\n",
       "   'mass': '80',\n",
       "   'hair_color': 'brown',\n",
       "   'skin_color': 'fair',\n",
       "   'eye_color': 'brown',\n",
       "   'birth_year': '29BBY',\n",
       "   'gender': 'male',\n",
       "   'homeworld': 'https://swapi.co/api/planets/22/',\n",
       "   'films': ['https://swapi.co/api/films/2/',\n",
       "    'https://swapi.co/api/films/3/',\n",
       "    'https://swapi.co/api/films/1/',\n",
       "    'https://swapi.co/api/films/7/'],\n",
       "   'species': ['https://swapi.co/api/species/1/'],\n",
       "   'vehicles': [],\n",
       "   'starships': ['https://swapi.co/api/starships/10/',\n",
       "    'https://swapi.co/api/starships/22/'],\n",
       "   'created': '2014-12-10T16:49:14.582000Z',\n",
       "   'edited': '2014-12-20T21:17:50.334000Z',\n",
       "   'url': 'https://swapi.co/api/people/14/'}]}"
      ]
     },
     "execution_count": 7,
     "metadata": {},
     "output_type": "execute_result"
    }
   ],
   "source": [
    "data"
   ]
  },
  {
   "cell_type": "markdown",
   "metadata": {},
   "source": [
    "## 4) How many results did you get?\n",
    "\n",
    "Show **two different ways** of displaying this number.\n",
    "\n",
    "- *Tip: One uses the API, and one uses a Python function*"
   ]
  },
  {
   "cell_type": "code",
   "execution_count": 8,
   "metadata": {},
   "outputs": [
    {
     "name": "stdout",
     "output_type": "stream",
     "text": [
      "1\n"
     ]
    }
   ],
   "source": [
    "print(data['count'])"
   ]
  },
  {
   "cell_type": "code",
   "execution_count": 9,
   "metadata": {},
   "outputs": [
    {
     "name": "stdout",
     "output_type": "stream",
     "text": [
      "1\n"
     ]
    }
   ],
   "source": [
    "print(len(data['results']))"
   ]
  },
  {
   "cell_type": "markdown",
   "metadata": {},
   "source": [
    "## 5) Write me a sentence about Han Solo\n",
    "\n",
    "Your sentence should be say `\"____ has _____ hair, is _____cm tall and weighs ____kg.\"` - make sure you have **no spcaes** between the numbers and `cm`/`kg`."
   ]
  },
  {
   "cell_type": "code",
   "execution_count": 10,
   "metadata": {},
   "outputs": [],
   "source": [
    "response = requests.get(data['results'][0]['url']) #This is optional, could've used the data I loaded before\n",
    "data_han = response.json()"
   ]
  },
  {
   "cell_type": "code",
   "execution_count": 11,
   "metadata": {},
   "outputs": [
    {
     "data": {
      "text/plain": [
       "{'name': 'Han Solo',\n",
       " 'height': '180',\n",
       " 'mass': '80',\n",
       " 'hair_color': 'brown',\n",
       " 'skin_color': 'fair',\n",
       " 'eye_color': 'brown',\n",
       " 'birth_year': '29BBY',\n",
       " 'gender': 'male',\n",
       " 'homeworld': 'https://swapi.co/api/planets/22/',\n",
       " 'films': ['https://swapi.co/api/films/2/',\n",
       "  'https://swapi.co/api/films/3/',\n",
       "  'https://swapi.co/api/films/1/',\n",
       "  'https://swapi.co/api/films/7/'],\n",
       " 'species': ['https://swapi.co/api/species/1/'],\n",
       " 'vehicles': [],\n",
       " 'starships': ['https://swapi.co/api/starships/10/',\n",
       "  'https://swapi.co/api/starships/22/'],\n",
       " 'created': '2014-12-10T16:49:14.582000Z',\n",
       " 'edited': '2014-12-20T21:17:50.334000Z',\n",
       " 'url': 'https://swapi.co/api/people/14/'}"
      ]
     },
     "execution_count": 11,
     "metadata": {},
     "output_type": "execute_result"
    }
   ],
   "source": [
    "data_han"
   ]
  },
  {
   "cell_type": "code",
   "execution_count": 12,
   "metadata": {},
   "outputs": [
    {
     "name": "stdout",
     "output_type": "stream",
     "text": [
      "Han Solo has brown hair, is 180cm tall and weighs 80kg.\n"
     ]
    }
   ],
   "source": [
    "print(data_han['name'], \"has\", data_han['hair_color'], \"hair, is\", str(data_han['height'])+\"cm tall and weighs\", str(data_han['mass'])+\"kg.\")"
   ]
  },
  {
   "cell_type": "markdown",
   "metadata": {},
   "source": [
    "## 5) Search for C-3PO"
   ]
  },
  {
   "cell_type": "code",
   "execution_count": 13,
   "metadata": {},
   "outputs": [],
   "source": [
    "response = requests.get(\"https://swapi.co/api/people/?search=C-3\")\n",
    "data = response.json()"
   ]
  },
  {
   "cell_type": "code",
   "execution_count": 14,
   "metadata": {},
   "outputs": [
    {
     "data": {
      "text/plain": [
       "{'count': 1,\n",
       " 'next': None,\n",
       " 'previous': None,\n",
       " 'results': [{'name': 'C-3PO',\n",
       "   'height': '167',\n",
       "   'mass': '75',\n",
       "   'hair_color': 'n/a',\n",
       "   'skin_color': 'gold',\n",
       "   'eye_color': 'yellow',\n",
       "   'birth_year': '112BBY',\n",
       "   'gender': 'n/a',\n",
       "   'homeworld': 'https://swapi.co/api/planets/1/',\n",
       "   'films': ['https://swapi.co/api/films/2/',\n",
       "    'https://swapi.co/api/films/5/',\n",
       "    'https://swapi.co/api/films/4/',\n",
       "    'https://swapi.co/api/films/6/',\n",
       "    'https://swapi.co/api/films/3/',\n",
       "    'https://swapi.co/api/films/1/'],\n",
       "   'species': ['https://swapi.co/api/species/2/'],\n",
       "   'vehicles': [],\n",
       "   'starships': [],\n",
       "   'created': '2014-12-10T15:10:51.357000Z',\n",
       "   'edited': '2014-12-20T21:17:50.309000Z',\n",
       "   'url': 'https://swapi.co/api/people/2/'}]}"
      ]
     },
     "execution_count": 14,
     "metadata": {},
     "output_type": "execute_result"
    }
   ],
   "source": [
    "data"
   ]
  },
  {
   "cell_type": "markdown",
   "metadata": {},
   "source": [
    "## 6) What URL can tell me more about his species? Make a request to the corrent endpoint.\n",
    "\n",
    "Spoiler: he's a **droid**. Are robots a species? I guess so, maybe."
   ]
  },
  {
   "cell_type": "code",
   "execution_count": 15,
   "metadata": {},
   "outputs": [],
   "source": [
    "response = requests.get(data['results'][0]['species'][0])\n",
    "data_species = response.json()"
   ]
  },
  {
   "cell_type": "code",
   "execution_count": 16,
   "metadata": {},
   "outputs": [
    {
     "data": {
      "text/plain": [
       "{'name': 'Droid',\n",
       " 'classification': 'artificial',\n",
       " 'designation': 'sentient',\n",
       " 'average_height': 'n/a',\n",
       " 'skin_colors': 'n/a',\n",
       " 'hair_colors': 'n/a',\n",
       " 'eye_colors': 'n/a',\n",
       " 'average_lifespan': 'indefinite',\n",
       " 'homeworld': None,\n",
       " 'language': 'n/a',\n",
       " 'people': ['https://swapi.co/api/people/2/',\n",
       "  'https://swapi.co/api/people/3/',\n",
       "  'https://swapi.co/api/people/8/',\n",
       "  'https://swapi.co/api/people/23/',\n",
       "  'https://swapi.co/api/people/87/'],\n",
       " 'films': ['https://swapi.co/api/films/2/',\n",
       "  'https://swapi.co/api/films/7/',\n",
       "  'https://swapi.co/api/films/5/',\n",
       "  'https://swapi.co/api/films/4/',\n",
       "  'https://swapi.co/api/films/6/',\n",
       "  'https://swapi.co/api/films/3/',\n",
       "  'https://swapi.co/api/films/1/'],\n",
       " 'created': '2014-12-10T15:16:16.259000Z',\n",
       " 'edited': '2015-04-17T06:59:43.869528Z',\n",
       " 'url': 'https://swapi.co/api/species/2/'}"
      ]
     },
     "execution_count": 16,
     "metadata": {},
     "output_type": "execute_result"
    }
   ],
   "source": [
    "data_species"
   ]
  },
  {
   "cell_type": "markdown",
   "metadata": {},
   "source": [
    "## 7) Print out the URL of every droid\n",
    "\n",
    "* *Tip: life will be easier if you don't say `for droid in...` or `for person in` because you aren't looping through droids or people. What are you looping through?*"
   ]
  },
  {
   "cell_type": "code",
   "execution_count": 17,
   "metadata": {},
   "outputs": [
    {
     "name": "stdout",
     "output_type": "stream",
     "text": [
      "https://swapi.co/api/people/2/\n",
      "https://swapi.co/api/people/3/\n",
      "https://swapi.co/api/people/8/\n",
      "https://swapi.co/api/people/23/\n",
      "https://swapi.co/api/people/87/\n"
     ]
    }
   ],
   "source": [
    "for url in data_species['people']:\n",
    "    print(url)"
   ]
  },
  {
   "cell_type": "markdown",
   "metadata": {},
   "source": [
    "## 8) Print out the name of every droid\n",
    "\n",
    "* *Tip: You should start from the last answer, but add more stuff in!*\n",
    "* *Tip: You'll need to make a request every time you're in the loop*\n",
    "* *Tip: Be careful - f you re-use the variable name `data` you'll erase your old `data` variable*"
   ]
  },
  {
   "cell_type": "code",
   "execution_count": 18,
   "metadata": {},
   "outputs": [],
   "source": [
    "droids = []\n",
    "for url in data_species['people']:\n",
    "    response = requests.get(url)\n",
    "    droids.append(response.json())"
   ]
  },
  {
   "cell_type": "code",
   "execution_count": 19,
   "metadata": {},
   "outputs": [
    {
     "name": "stdout",
     "output_type": "stream",
     "text": [
      "C-3PO\n",
      "R2-D2\n",
      "R5-D4\n",
      "IG-88\n",
      "BB8\n"
     ]
    }
   ],
   "source": [
    "for droid in droids:\n",
    "    print(droid['name'])"
   ]
  },
  {
   "cell_type": "markdown",
   "metadata": {},
   "source": [
    "## 9) Print out more about the droid\n",
    "\n",
    "Count the number of films for each droid, printing `\"___ was in ___ films\"` for each of them\n",
    "\n",
    "* *Tip: You might want to look at a single droid result, or print the data in the for loop, so you know how to get the films. Or read the documentation!*"
   ]
  },
  {
   "cell_type": "code",
   "execution_count": 20,
   "metadata": {},
   "outputs": [
    {
     "name": "stdout",
     "output_type": "stream",
     "text": [
      "C-3PO was in 6 films\n",
      "R2-D2 was in 7 films\n",
      "R5-D4 was in 1 film\n",
      "IG-88 was in 1 film\n",
      "BB8 was in 1 film\n"
     ]
    }
   ],
   "source": [
    "for droid in droids:\n",
    "    if len(droid['films']) == 1:\n",
    "        films = str(len(droid['films'])) + \" film\"\n",
    "    else:\n",
    "        films = str(len(droid['films'])) + \" films\"\n",
    "    print(droid['name'], \"was in\", films)"
   ]
  },
  {
   "cell_type": "markdown",
   "metadata": {},
   "source": [
    "## 10) Let's be smart and cache the results *[DIFFICULT, maybe!]*\n",
    "\n",
    "So far we've been using a for loop to go through each droid. Every droid, one more request. Every time we want more data, we run the loops again. I don't want that guy to get angry that we're asking for so much data!\n",
    "\n",
    "We want to our list of **droid urls** and turn it into a **list of dictionaries about those droids**. Save it as a variable called `droids`. If you get it correct, the following code should work if you cut and paste it.\n",
    "\n",
    "```python\n",
    "for droid in droids:\n",
    "    print(droid['name'])\n",
    "```\n",
    "\n",
    "* *Tip: Use a list comprehension*\n",
    "* *Tip: So far we've done `response = requests.get..` and `response.json()` on separate lines. You'll need to combine them!*"
   ]
  },
  {
   "cell_type": "code",
   "execution_count": 21,
   "metadata": {},
   "outputs": [],
   "source": [
    "#I think I did this above already but I'll try it in one line..."
   ]
  },
  {
   "cell_type": "code",
   "execution_count": 22,
   "metadata": {},
   "outputs": [],
   "source": [
    "droids = [requests.get(url).json() for url in data_species['people']] "
   ]
  },
  {
   "cell_type": "code",
   "execution_count": 23,
   "metadata": {},
   "outputs": [
    {
     "name": "stdout",
     "output_type": "stream",
     "text": [
      "C-3PO\n",
      "R2-D2\n",
      "R5-D4\n",
      "IG-88\n",
      "BB8\n"
     ]
    }
   ],
   "source": [
    "for droid in droids:\n",
    "    print(droid['name'])"
   ]
  },
  {
   "cell_type": "markdown",
   "metadata": {},
   "source": [
    "## 11) Get a list of every single planet in the Star Wars universe\n",
    "\n",
    "* *Tip: You'll want to use the API documentation for this, I think*"
   ]
  },
  {
   "cell_type": "code",
   "execution_count": 24,
   "metadata": {},
   "outputs": [],
   "source": [
    "url=\"https://swapi.co/api/planets/\"\n",
    "response = requests.get(url)\n",
    "planets_data = response.json()"
   ]
  },
  {
   "cell_type": "code",
   "execution_count": 25,
   "metadata": {},
   "outputs": [],
   "source": [
    "all_planet = planets_data['results']"
   ]
  },
  {
   "cell_type": "code",
   "execution_count": 26,
   "metadata": {},
   "outputs": [],
   "source": [
    "while planets_data['next'] is not None:\n",
    "  response = requests.get(planets_data['next'])\n",
    "  planets_data = response.json()\n",
    "  all_planet = all_planet + planets_data['results']"
   ]
  },
  {
   "cell_type": "code",
   "execution_count": 27,
   "metadata": {},
   "outputs": [
    {
     "name": "stdout",
     "output_type": "stream",
     "text": [
      "There are 61 planets in the local data base now:\n",
      "Alderaan\n",
      "Yavin IV\n",
      "Hoth\n",
      "Dagobah\n",
      "Bespin\n",
      "Endor\n",
      "Naboo\n",
      "Coruscant\n",
      "Kamino\n",
      "Geonosis\n",
      "Utapau\n",
      "Mustafar\n",
      "Kashyyyk\n",
      "Polis Massa\n",
      "Mygeeto\n",
      "Felucia\n",
      "Cato Neimoidia\n",
      "Saleucami\n",
      "Stewjon\n",
      "Eriadu\n",
      "Corellia\n",
      "Rodia\n",
      "Nal Hutta\n",
      "Dantooine\n",
      "Bestine IV\n",
      "Ord Mantell\n",
      "unknown\n",
      "Trandosha\n",
      "Socorro\n",
      "Mon Cala\n",
      "Chandrila\n",
      "Sullust\n",
      "Toydaria\n",
      "Malastare\n",
      "Dathomir\n",
      "Ryloth\n",
      "Aleen Minor\n",
      "Vulpter\n",
      "Troiken\n",
      "Tund\n",
      "Haruun Kal\n",
      "Cerea\n",
      "Glee Anselm\n",
      "Iridonia\n",
      "Tholoth\n",
      "Iktotch\n",
      "Quermia\n",
      "Dorin\n",
      "Champala\n",
      "Mirial\n",
      "Serenno\n",
      "Concord Dawn\n",
      "Zolan\n",
      "Ojom\n",
      "Skako\n",
      "Muunilinst\n",
      "Shili\n",
      "Kalee\n",
      "Umbara\n",
      "Tatooine\n",
      "Jakku\n"
     ]
    }
   ],
   "source": [
    "print(\"There are\", len(all_planet), \"planets in the local data base now:\")\n",
    "for planet in all_planet:\n",
    "    print(planet['name'])"
   ]
  },
  {
   "cell_type": "markdown",
   "metadata": {},
   "source": [
    "## 12) How many plants are there? Show me two different ways of displaying the answer.\n",
    "\n",
    "* *Tip: They won't match*"
   ]
  },
  {
   "cell_type": "code",
   "execution_count": 28,
   "metadata": {},
   "outputs": [
    {
     "data": {
      "text/plain": [
       "61"
      ]
     },
     "execution_count": 28,
     "metadata": {},
     "output_type": "execute_result"
    }
   ],
   "source": [
    "#Why not match?\n",
    "\n",
    "len(all_planet)"
   ]
  },
  {
   "cell_type": "code",
   "execution_count": 29,
   "metadata": {},
   "outputs": [
    {
     "data": {
      "text/plain": [
       "61"
      ]
     },
     "execution_count": 29,
     "metadata": {},
     "output_type": "execute_result"
    }
   ],
   "source": [
    "planets_data['count']"
   ]
  },
  {
   "cell_type": "markdown",
   "metadata": {},
   "source": [
    "# These questions are all list comprehension questions, if you'd like\n",
    "\n",
    "## 13) Get the population of each of the planets\n",
    "\n",
    "* *Tip: Only use the 10 results for now*\n",
    "* *Tip: Use a list comprehension*"
   ]
  },
  {
   "cell_type": "code",
   "execution_count": 30,
   "metadata": {},
   "outputs": [],
   "source": [
    "url=\"https://swapi.co/api/planets/\"\n",
    "planet_pop = [planet['population'] for planet in requests.get(url).json()['results']]"
   ]
  },
  {
   "cell_type": "code",
   "execution_count": 31,
   "metadata": {},
   "outputs": [
    {
     "name": "stdout",
     "output_type": "stream",
     "text": [
      "['2000000000', '1000', 'unknown', 'unknown', '6000000', '30000000', '4500000000', '1000000000000', '1000000000', '100000000000']\n"
     ]
    }
   ],
   "source": [
    "print(planet_pop)"
   ]
  },
  {
   "cell_type": "markdown",
   "metadata": {},
   "source": [
    "## 14) Get the population of each of the planets, EXCEPT the ones that have a population of `'unknown'`\n",
    "\n",
    "* *Tip: Use a list comprehension with a filter (that's the `..if..` part at the end)*"
   ]
  },
  {
   "cell_type": "code",
   "execution_count": 32,
   "metadata": {},
   "outputs": [],
   "source": [
    "url=\"https://swapi.co/api/planets/\"\n",
    "planet_pop = [planet['population'] for planet in requests.get(url).json()['results'] if planet['population'] != 'unknown']"
   ]
  },
  {
   "cell_type": "code",
   "execution_count": 33,
   "metadata": {},
   "outputs": [
    {
     "data": {
      "text/plain": [
       "['2000000000',\n",
       " '1000',\n",
       " '6000000',\n",
       " '30000000',\n",
       " '4500000000',\n",
       " '1000000000000',\n",
       " '1000000000',\n",
       " '100000000000']"
      ]
     },
     "execution_count": 33,
     "metadata": {},
     "output_type": "execute_result"
    }
   ],
   "source": [
    "planet_pop"
   ]
  },
  {
   "cell_type": "markdown",
   "metadata": {},
   "source": [
    "## 14) Add up the populations\n",
    "\n",
    "* *Tip: They're strings right now, so it isn't going to work unless you change something about them*"
   ]
  },
  {
   "cell_type": "code",
   "execution_count": 34,
   "metadata": {},
   "outputs": [],
   "source": [
    "url=\"https://swapi.co/api/planets/\"\n",
    "total_pop = sum([int(planet['population']) for planet in requests.get(url).json()['results'] if planet['population'] != 'unknown'])"
   ]
  },
  {
   "cell_type": "code",
   "execution_count": 35,
   "metadata": {},
   "outputs": [
    {
     "name": "stdout",
     "output_type": "stream",
     "text": [
      "There are 1,107,536,001,000 humans, droids, aliens and other forms of living in the star wars universe.\n"
     ]
    }
   ],
   "source": [
    "print(\"There are {pop:,} humans, droids, aliens and other forms of living in the star wars universe.\".format(pop=total_pop))"
   ]
  },
  {
   "cell_type": "markdown",
   "metadata": {},
   "source": [
    "## 15) Print what percentage of the total population each planet has\n",
    "\n",
    "I would like the sentences to be `\"The planet ____ has a population of _____, which is ___% of the total population\"`. If we don't know the planet's population, say `\"We don't know the population of _____\"`.\n",
    "\n",
    "* *Tip: This finally uses a for loop, but also the result of the last question*"
   ]
  },
  {
   "cell_type": "code",
   "execution_count": 36,
   "metadata": {},
   "outputs": [
    {
     "name": "stdout",
     "output_type": "stream",
     "text": [
      "The planet Alderaan has a population of 2000000000, which is 0.18058 per cent of the total population\n",
      "The planet Yavin IV has a population of 1000, which is 0.0 per cent of the total population\n",
      "The population of Hoth is not known.\n",
      "The population of Dagobah is not known.\n",
      "The planet Bespin has a population of 6000000, which is 0.00054 per cent of the total population\n",
      "The planet Endor has a population of 30000000, which is 0.00271 per cent of the total population\n",
      "The planet Naboo has a population of 4500000000, which is 0.40631 per cent of the total population\n",
      "The planet Coruscant has a population of 1000000000000, which is 90.29052 per cent of the total population\n",
      "The planet Kamino has a population of 1000000000, which is 0.09029 per cent of the total population\n",
      "The planet Geonosis has a population of 100000000000, which is 9.02905 per cent of the total population\n"
     ]
    }
   ],
   "source": [
    "for planet in requests.get(url).json()['results']:\n",
    "    if planet['population'] != 'unknown':\n",
    "        print(\"The planet {name} has a population of {pop}, which is {perc} per cent of the total population\".format(name = planet['name'], pop = int(planet['population']), perc = round(int(planet['population'])/total_pop*100, 5)))\n",
    "    else:\n",
    "         print(\"The population of {name} is not known.\".format(name = planet['name']))"
   ]
  }
 ],
 "metadata": {
  "kernelspec": {
   "display_name": "Python 3",
   "language": "python",
   "name": "python3"
  },
  "language_info": {
   "codemirror_mode": {
    "name": "ipython",
    "version": 3
   },
   "file_extension": ".py",
   "mimetype": "text/x-python",
   "name": "python",
   "nbconvert_exporter": "python",
   "pygments_lexer": "ipython3",
   "version": "3.6.5"
  }
 },
 "nbformat": 4,
 "nbformat_minor": 2
}
